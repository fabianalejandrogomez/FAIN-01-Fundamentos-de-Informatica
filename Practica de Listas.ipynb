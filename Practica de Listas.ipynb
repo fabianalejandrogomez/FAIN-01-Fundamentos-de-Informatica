{
  "cells": [
    {
      "metadata": {
        "collapsed": true
      },
      "cell_type": "markdown",
      "source": "# Practica de Listas"
    },
    {
      "metadata": {},
      "cell_type": "markdown",
      "source": "# Lista Unica"
    },
    {
      "metadata": {},
      "cell_type": "raw",
      "source": "TRANSFORMAR LISTA EN NUMERO Y NUMERO EN LISTA "
    },
    {
      "metadata": {},
      "cell_type": "markdown",
      "source": "Transformar un numero en lista"
    },
    {
      "metadata": {
        "trusted": true
      },
      "cell_type": "code",
      "source": "#Transformar un numero en lista\n\n\ndef qdig(z):\n    larg = 1\n    dig = z // 10\n    while dig > 0:\n        dig = dig // 10\n        larg = larg + 1\n    return larg\n   \ndef num2lista(y):\n    lis = []\n    q = qdig(y)\n    while q > 0:\n        numa = int(y*(10**-(q-1)))\n        numb = int(y*(10**-(q)))*10\n        final = numa - numb\n        lis.append(final)\n        q = q - 1\n    return lis\n\nnumero = 9153748267\nprint(\"el numero es: \",numero)\nlista = num2lista(numero)\nprint(\"la lista es: \",lista)",
      "execution_count": 4,
      "outputs": [
        {
          "output_type": "stream",
          "text": "el numero es:  9153748267\nla lista es:  [9, 1, 5, 3, 7, 4, 8, 2, 6, 7]\n",
          "name": "stdout"
        }
      ]
    },
    {
      "metadata": {},
      "cell_type": "markdown",
      "source": "Transformar una lista en numero"
    },
    {
      "metadata": {
        "trusted": true
      },
      "cell_type": "code",
      "source": "def lista2num(lis):\n    final = 0\n    larg = len(lis)\n    while larg > 0:\n        for i in range(larg):\n            num = int(lis[i]*10**(larg-1))\n            final = final + num\n            larg = larg -1\n    return final\n        \nlista = [9, 1, 4, 3, 7, 4, 8, 2, 6, 7]\nprint(\"la lista es: \",lista)\nnumero = lista2num(lista)\nprint(\"el numero es: \",numero)\n",
      "execution_count": 2,
      "outputs": [
        {
          "output_type": "stream",
          "text": "la lista es:  [9, 1, 4, 3, 7, 4, 8, 2, 6, 7]\nel numero es:  9143748267\n",
          "name": "stdout"
        }
      ]
    },
    {
      "metadata": {},
      "cell_type": "raw",
      "source": "BUSCAR VALORES Y POSICIONES EN LA LISTA"
    },
    {
      "metadata": {
        "trusted": true
      },
      "cell_type": "code",
      "source": "def buscarvalor(lis, val1, val2):\n    pos1 = []\n    pos2 = []\n    larg = len(lis)\n    for i in range(larg):\n        if lis[i] == val1:\n            pos1.append(i)\n        elif lis[i] == val2:\n            pos2.append(i)\n    print(\"la posicion del valor 1 es: \",pos1)\n    print(\"la posicion del valor 2 es: \",pos2)\n    return pos1, pos2\n\nlista = [9, 1, 5, 3, 7, 5, 8, 2, 6, 7]\nprint(\"la lista es: \",lista)\nvalor1 = 5\nvalor2 = 7\nposicion = buscarvalor(lista, valor1, valor2)",
      "execution_count": 13,
      "outputs": [
        {
          "output_type": "stream",
          "text": "la lista es:  [9, 1, 5, 3, 7, 5, 8, 2, 6, 7]\nla posicion del valor 1 es:  [2, 5]\nla posicion del valor 2 es:  [4, 9]\n",
          "name": "stdout"
        }
      ]
    },
    {
      "metadata": {
        "trusted": true
      },
      "cell_type": "code",
      "source": "\nlista = [9, 1, 5, 3, 7, 5, 8, 2, 6, 7]\nprint(\"la lista es: \",lista)\nprint(\"------------\")\nposicion = int(input(\"ingrese una posicion que quiera buscar\"))\nnum = lista[posicion]\nprint(\"la posicion elegida es: \",posicion)\nprint(\"el valor de la posicion elegida es: \",num)\nprint(\"------------\")\nfor i in range(len(lista)):\n    print(\"posicion: \",i, \"valor:\",lista[i])\nprint(\"------------\")\nfor i in range(len(lista)):\n    if num == lista[i]:\n        print(\"posicion: \",i, \"valor:\",lista[i])\n",
      "execution_count": 46,
      "outputs": [
        {
          "output_type": "stream",
          "text": "la lista es:  [9, 1, 5, 3, 7, 5, 8, 2, 6, 7]\n------------\ningrese una posicion que quiera buscar4\nla posicion elegida es:  4\nel valor de la posicion elegida es:  7\n------------\nposicion:  0 valor: 9\nposicion:  1 valor: 1\nposicion:  2 valor: 5\nposicion:  3 valor: 3\nposicion:  4 valor: 7\nposicion:  5 valor: 5\nposicion:  6 valor: 8\nposicion:  7 valor: 2\nposicion:  8 valor: 6\nposicion:  9 valor: 7\n------------\nposicion:  4 valor: 7\nposicion:  9 valor: 7\n",
          "name": "stdout"
        }
      ]
    },
    {
      "metadata": {},
      "cell_type": "raw",
      "source": "BUSCAR REPETIDOS EN LA LISTA"
    },
    {
      "metadata": {
        "trusted": true
      },
      "cell_type": "code",
      "source": "\ndef revisarep(lis):\n    repetidos = []\n    masveces = 0\n    larg = len(lis)\n    for i in range(larg):\n        veces = 0\n        for j in range(i+1, larg):\n            if lis[i]==lis[j]:\n                veces = veces + 1\n                repetidos.append(lis[i])\n        if veces>masveces:\n            masveces = veces\n    if masveces != 0:\n        print(\"Cantidad maxima de repeticiones encontradas: \", masveces)\n        print(\"Valores repetidos encontrados:\", repetidos)\n    else:\n        print(\"No se encontraron repeticiones\")        \n    return masveces\n\n#programa principal\nlista = [9, 1, 5, 3, 7, 5, 8, 2, 6, 7]\nrepetidos = revisarep(lista)\n",
      "execution_count": 15,
      "outputs": [
        {
          "output_type": "stream",
          "text": "Cantidad maxima de repeticiones encontradas:  1\nValores repetidos encontrados: [5, 7]\n",
          "name": "stdout"
        }
      ]
    },
    {
      "metadata": {
        "trusted": true
      },
      "cell_type": "code",
      "source": "#BUSCAR EL VALOR MAS REPETIDO Y CONTAR SUS APARICIONES\n\nimport random\n\nlista = []\nn = int(input(\"Cantidad de elementos? \"))\nwhile n<=0:\n    print(\"Valor inválido. Debe ser mayor que 0.\")\n    n = int(input(\"Cantidad de elementos? \"))\nprint()\nfor i in range(n):\n    lista.append(random.randint(10, 99))\n# Buscar valor más repetido\nvmr = -1\nqmasrep = 0\n\n\nfor i in range(n):\n    qrep = 0\n    \n    for j in range(i, n):\n        if lista[i]==lista[j]:\n            qrep = qrep + 1\n    \n    if qrep>qmasrep:\n        vmr = lista[i]\n        qmasrep = qrep\n\nprint(\"El valor más repetido es\", vmr, \"con\",qmasrep, \"apariciones\")\nprint(lista)",
      "execution_count": 5,
      "outputs": [
        {
          "output_type": "stream",
          "name": "stdout",
          "text": "Cantidad de elementos? 300\n\nEl valor más repetido es 67 con 9 apariciones\n[69, 52, 32, 53, 23, 60, 80, 66, 58, 54, 27, 42, 62, 53, 71, 16, 44, 16, 92, 96, 24, 79, 76, 55, 69, 24, 26, 99, 56, 81, 71, 63, 43, 14, 90, 70, 59, 93, 17, 33, 81, 90, 67, 63, 95, 59, 19, 39, 83, 33, 18, 50, 18, 99, 73, 31, 60, 28, 88, 29, 78, 14, 24, 48, 75, 11, 75, 82, 51, 84, 42, 58, 14, 67, 69, 83, 23, 69, 79, 86, 69, 61, 38, 99, 41, 27, 13, 60, 70, 54, 57, 79, 83, 13, 47, 94, 41, 91, 25, 82, 60, 18, 58, 20, 97, 36, 65, 18, 29, 67, 93, 64, 67, 25, 54, 85, 17, 88, 49, 72, 37, 59, 73, 96, 96, 71, 53, 80, 73, 60, 67, 95, 62, 85, 11, 39, 40, 41, 13, 38, 23, 16, 44, 70, 98, 25, 95, 51, 46, 99, 11, 19, 87, 12, 52, 13, 43, 57, 43, 54, 71, 27, 63, 27, 81, 93, 98, 98, 54, 67, 74, 71, 37, 55, 92, 30, 94, 16, 70, 50, 12, 74, 72, 30, 72, 57, 47, 93, 12, 71, 67, 48, 88, 44, 89, 21, 61, 93, 20, 90, 64, 99, 99, 96, 71, 25, 22, 78, 13, 97, 67, 85, 51, 31, 87, 51, 42, 47, 34, 33, 42, 29, 79, 82, 19, 70, 31, 59, 36, 55, 59, 97, 44, 78, 87, 78, 72, 35, 98, 66, 27, 70, 27, 75, 94, 38, 57, 65, 95, 14, 27, 20, 50, 37, 47, 64, 60, 21, 68, 77, 65, 27, 99, 61, 38, 23, 67, 33, 25, 14, 75, 72, 28, 88, 12, 43, 39, 73, 57, 86, 56, 81, 14, 96, 88, 21, 42, 54, 99, 79, 28, 80, 37, 88, 51, 62, 12, 19, 20, 75]\n"
        }
      ]
    },
    {
      "metadata": {},
      "cell_type": "raw",
      "source": "BUSCAR NUMEROS ESPECIALES EN LA LISTA (PRIMOS, OBLONGOS, AUTOMORFICOS, NARCICISTAS, ETC)"
    },
    {
      "metadata": {
        "trusted": true
      },
      "cell_type": "code",
      "source": "#Buscar si en la lista hay numero primos e incluirlos en otra lista\n\ndef es_primo(num):\n    if num < 1:     #si es menos que 1 no es primo, por lo tanto devolverá Falso\n        return False\n    for i in range(2, num):  #un rango desde el dos hasta el numero que nosotros elijamos\n        if num % i == 0:    #si el resto da 0 no es primo, por lo tanto devuelve Falso\n            return False\n    return True    #de lo contrario devuelve Verdadero\n\ndef buscaprim(lis):\n    primos = []\n    cont = 0\n    larg = len(lis)\n    for i in range(larg):\n        if es_primo(i) == True: #Llamamos a la primera funcion que va a determinar si es primo o no\n            cont += 1\n            primos.append(i)              \n    print(\"Se encontraron\", cont, \"numeros primos\") #Total de numeros primos\n    return primos\n\n#programa principal\nlista = [9, 1, 5, 3, 7, 5, 8, 2, 6, 7]\nprimos = buscaprim(lista)\nprint(\"la lista tiene los siguientes numeros primos: \",primos)\n",
      "execution_count": 39,
      "outputs": [
        {
          "output_type": "stream",
          "text": "Se encontraron 5 numeros primos\nla lista tiene los siguientes numeros primos:  [1, 2, 3, 5, 7]\n",
          "name": "stdout"
        }
      ]
    },
    {
      "metadata": {},
      "cell_type": "raw",
      "source": "COMPARAR VALORES DE LA LISTA"
    },
    {
      "metadata": {},
      "cell_type": "raw",
      "source": "REALIZAR OPERACIONES CON SUS VALORES (SUMA, PROMEDIO, MAXIMO, MINIMO)"
    },
    {
      "metadata": {
        "trusted": true
      },
      "cell_type": "code",
      "source": "# BUSCAR MAXIMO E INTERCAMBIAR DE LUGAR\n\nimport random\n\nlista = []\nn = int(input(\"Cantidad de elementos? \"))\nwhile n<=0:\n    print(\"Valor inválido. Debe ser mayor que 0.\")\n    n = int(input(\"Cantidad de elementos? \"))\n    \nfor i in range(n):\n    lista.append(random.randint(1, 100))\n    \n# Buscar el máximo\nmaximo = lista[0]\npos = 0\n\nfor i in range(1,n):\n    if lista[i]>maximo:\n        maximo = lista[i]\n        pos = i\n        \n# Contar repeticiones del máximo\nrep = 0\n\nfor i in range(n):\n    if lista[i]==maximo:\n        rep = rep + 1\n\n        print(lista)\nprint()\nprint(\"El máximo es\", maximo, \"y se encontró\", rep, \"veces\")\n\n# Intercambiar con el último, si corresponde\nif rep==1:\n    lista[pos] = lista[n-1]\n    lista[n-1] = maximo\n    \nprint(\"la lista con el intercambio es: \",lista)",
      "execution_count": 3,
      "outputs": [
        {
          "output_type": "stream",
          "name": "stdout",
          "text": "Cantidad de elementos? 35\n[85, 5, 21, 87, 31, 24, 7, 5, 38, 45, 67, 69, 34, 96, 54, 18, 64, 35, 62, 9, 28, 97, 15, 59, 39, 82, 4, 53, 33, 15, 37, 92, 64, 67, 77]\n\nEl máximo es 97 y se encontró 1 veces\nla lista con el intercambio es:  [85, 5, 21, 87, 31, 24, 7, 5, 38, 45, 67, 69, 34, 96, 54, 18, 64, 35, 62, 9, 28, 77, 15, 59, 39, 82, 4, 53, 33, 15, 37, 92, 64, 67, 97]\n"
        }
      ]
    },
    {
      "metadata": {},
      "cell_type": "raw",
      "source": "REVISAR ORDENAMIENTO (ASCENDENTE, DESCENDENTE, CAPICUA, SIN ORDEN, ETC)"
    },
    {
      "metadata": {
        "trusted": true
      },
      "cell_type": "code",
      "source": "#CAPICUA: Determinar si una lista es capicúa. (es igual de derecha a izquierda que de derecha a izquierda)\n\ndef escapicua(lista):\n    i = 0\n    j = len(lista) - 1\n    while i < j and lista[i] == lista [j]:\n        i = i + 1\n        j = j - 1\n    if i < j:\n        return False\n    else:\n        return True\n    \n#programa principal\nlist = [2,3,4,3,2]\nprint(escapicua(list))",
      "execution_count": 4,
      "outputs": [
        {
          "output_type": "stream",
          "text": "True\n",
          "name": "stdout"
        }
      ]
    },
    {
      "metadata": {},
      "cell_type": "raw",
      "source": "ORDENAR LA LISTA (METODOS)"
    },
    {
      "metadata": {},
      "cell_type": "markdown",
      "source": "Ordenamiento por Seleccion"
    },
    {
      "metadata": {
        "trusted": true
      },
      "cell_type": "code",
      "source": "def agrega():\n    num = int(input(\"ingrese los valores de la lista, o -1 para terminar\"))\n    while num != -1:\n        v.append(num)\n        num = int(input(\"ingrese los valores de la lista, o -1 para terminar\"))\n\nv = []\ndel v[:]\n# ingreso valores desordenados en una lista \nagrega()\n\nprint(\"La lista es\", v)\n# calculo el largo de la lista\nlargo = len(v)\nprint(\"El largo de la lista es\", largo)\nprint(\"------------\")\nfor i in range(largo - 1):\n    print(\"AL COMIENZO DEL CICLO EL LISTADO ES\", v)\n    print(\"PRIMER FOR\")\n# EL PRIMER FOR HACE ARRANCAR CADA CICLO DE COMPARACION \n    for j in range(i+1, largo):\n        print(\"SEGUNDO FOR\")\n# EL SEGUNDO FOR HACE LA COMPARACION DE A PARES, DE CADA RANGO.\n# entre el segundo elemento y la cantidad de elementos de la lista\n        print(\"antes posicion:\",i,\" v[i]=\",v[i])\n        print(\"antes posicion:\",j,\" v[j]=\",v[j])\n# comparo de a dos elementos y los doy vuelta si estan descendentes\n        print(\"------------\")\n        if v[i] > v[j]:\n            aux = v[i]\n            v[i] = v[j]\n            v[j] = aux\n# muestro el cambio de posicion\n        print(\"despues posicion:\",i,\" v[i]=\",v[i])\n        print(\"despues posicion:\",j,\" v[j]=\",v[j])\n        print(\"Luego de la comparacion el listado queda\", v)\n        print(\"------------\")\n\n# imprimo la lista final\nprint(\"La lista ordenada es: \",v)\nprint(\"------------\")",
      "execution_count": 51,
      "outputs": [
        {
          "output_type": "stream",
          "name": "stdout",
          "text": "ingrese los valores de la lista, o -1 para terminar2\ningrese los valores de la lista, o -1 para terminar4\ningrese los valores de la lista, o -1 para terminar33\ningrese los valores de la lista, o -1 para terminar22\ningrese los valores de la lista, o -1 para terminar11\ningrese los valores de la lista, o -1 para terminar43\ningrese los valores de la lista, o -1 para terminar2\ningrese los valores de la lista, o -1 para terminar12\ningrese los valores de la lista, o -1 para terminar43\ningrese los valores de la lista, o -1 para terminar2\ningrese los valores de la lista, o -1 para terminar-1\nLa lista es [2, 4, 33, 22, 11, 43, 2, 12, 43, 2]\nEl largo de la lista es 10\n------------\nAL COMIENZO DEL CICLO EL LISTADO ES [2, 4, 33, 22, 11, 43, 2, 12, 43, 2]\nPRIMER FOR\nSEGUNDO FOR\nantes posicion: 0  v[i]= 2\nantes posicion: 1  v[j]= 4\n------------\ndespues posicion: 0  v[i]= 2\ndespues posicion: 1  v[j]= 4\nLuego de la comparacion el listado queda [2, 4, 33, 22, 11, 43, 2, 12, 43, 2]\n------------\nSEGUNDO FOR\nantes posicion: 0  v[i]= 2\nantes posicion: 2  v[j]= 33\n------------\ndespues posicion: 0  v[i]= 2\ndespues posicion: 2  v[j]= 33\nLuego de la comparacion el listado queda [2, 4, 33, 22, 11, 43, 2, 12, 43, 2]\n------------\nSEGUNDO FOR\nantes posicion: 0  v[i]= 2\nantes posicion: 3  v[j]= 22\n------------\ndespues posicion: 0  v[i]= 2\ndespues posicion: 3  v[j]= 22\nLuego de la comparacion el listado queda [2, 4, 33, 22, 11, 43, 2, 12, 43, 2]\n------------\nSEGUNDO FOR\nantes posicion: 0  v[i]= 2\nantes posicion: 4  v[j]= 11\n------------\ndespues posicion: 0  v[i]= 2\ndespues posicion: 4  v[j]= 11\nLuego de la comparacion el listado queda [2, 4, 33, 22, 11, 43, 2, 12, 43, 2]\n------------\nSEGUNDO FOR\nantes posicion: 0  v[i]= 2\nantes posicion: 5  v[j]= 43\n------------\ndespues posicion: 0  v[i]= 2\ndespues posicion: 5  v[j]= 43\nLuego de la comparacion el listado queda [2, 4, 33, 22, 11, 43, 2, 12, 43, 2]\n------------\nSEGUNDO FOR\nantes posicion: 0  v[i]= 2\nantes posicion: 6  v[j]= 2\n------------\ndespues posicion: 0  v[i]= 2\ndespues posicion: 6  v[j]= 2\nLuego de la comparacion el listado queda [2, 4, 33, 22, 11, 43, 2, 12, 43, 2]\n------------\nSEGUNDO FOR\nantes posicion: 0  v[i]= 2\nantes posicion: 7  v[j]= 12\n------------\ndespues posicion: 0  v[i]= 2\ndespues posicion: 7  v[j]= 12\nLuego de la comparacion el listado queda [2, 4, 33, 22, 11, 43, 2, 12, 43, 2]\n------------\nSEGUNDO FOR\nantes posicion: 0  v[i]= 2\nantes posicion: 8  v[j]= 43\n------------\ndespues posicion: 0  v[i]= 2\ndespues posicion: 8  v[j]= 43\nLuego de la comparacion el listado queda [2, 4, 33, 22, 11, 43, 2, 12, 43, 2]\n------------\nSEGUNDO FOR\nantes posicion: 0  v[i]= 2\nantes posicion: 9  v[j]= 2\n------------\ndespues posicion: 0  v[i]= 2\ndespues posicion: 9  v[j]= 2\nLuego de la comparacion el listado queda [2, 4, 33, 22, 11, 43, 2, 12, 43, 2]\n------------\nAL COMIENZO DEL CICLO EL LISTADO ES [2, 4, 33, 22, 11, 43, 2, 12, 43, 2]\nPRIMER FOR\nSEGUNDO FOR\nantes posicion: 1  v[i]= 4\nantes posicion: 2  v[j]= 33\n------------\ndespues posicion: 1  v[i]= 4\ndespues posicion: 2  v[j]= 33\nLuego de la comparacion el listado queda [2, 4, 33, 22, 11, 43, 2, 12, 43, 2]\n------------\nSEGUNDO FOR\nantes posicion: 1  v[i]= 4\nantes posicion: 3  v[j]= 22\n------------\ndespues posicion: 1  v[i]= 4\ndespues posicion: 3  v[j]= 22\nLuego de la comparacion el listado queda [2, 4, 33, 22, 11, 43, 2, 12, 43, 2]\n------------\nSEGUNDO FOR\nantes posicion: 1  v[i]= 4\nantes posicion: 4  v[j]= 11\n------------\ndespues posicion: 1  v[i]= 4\ndespues posicion: 4  v[j]= 11\nLuego de la comparacion el listado queda [2, 4, 33, 22, 11, 43, 2, 12, 43, 2]\n------------\nSEGUNDO FOR\nantes posicion: 1  v[i]= 4\nantes posicion: 5  v[j]= 43\n------------\ndespues posicion: 1  v[i]= 4\ndespues posicion: 5  v[j]= 43\nLuego de la comparacion el listado queda [2, 4, 33, 22, 11, 43, 2, 12, 43, 2]\n------------\nSEGUNDO FOR\nantes posicion: 1  v[i]= 4\nantes posicion: 6  v[j]= 2\n------------\ndespues posicion: 1  v[i]= 2\ndespues posicion: 6  v[j]= 4\nLuego de la comparacion el listado queda [2, 2, 33, 22, 11, 43, 4, 12, 43, 2]\n------------\nSEGUNDO FOR\nantes posicion: 1  v[i]= 2\nantes posicion: 7  v[j]= 12\n------------\ndespues posicion: 1  v[i]= 2\ndespues posicion: 7  v[j]= 12\nLuego de la comparacion el listado queda [2, 2, 33, 22, 11, 43, 4, 12, 43, 2]\n------------\nSEGUNDO FOR\nantes posicion: 1  v[i]= 2\nantes posicion: 8  v[j]= 43\n------------\ndespues posicion: 1  v[i]= 2\ndespues posicion: 8  v[j]= 43\nLuego de la comparacion el listado queda [2, 2, 33, 22, 11, 43, 4, 12, 43, 2]\n------------\nSEGUNDO FOR\nantes posicion: 1  v[i]= 2\nantes posicion: 9  v[j]= 2\n------------\ndespues posicion: 1  v[i]= 2\ndespues posicion: 9  v[j]= 2\nLuego de la comparacion el listado queda [2, 2, 33, 22, 11, 43, 4, 12, 43, 2]\n------------\nAL COMIENZO DEL CICLO EL LISTADO ES [2, 2, 33, 22, 11, 43, 4, 12, 43, 2]\nPRIMER FOR\nSEGUNDO FOR\nantes posicion: 2  v[i]= 33\nantes posicion: 3  v[j]= 22\n------------\ndespues posicion: 2  v[i]= 22\ndespues posicion: 3  v[j]= 33\nLuego de la comparacion el listado queda [2, 2, 22, 33, 11, 43, 4, 12, 43, 2]\n------------\nSEGUNDO FOR\nantes posicion: 2  v[i]= 22\nantes posicion: 4  v[j]= 11\n------------\ndespues posicion: 2  v[i]= 11\ndespues posicion: 4  v[j]= 22\nLuego de la comparacion el listado queda [2, 2, 11, 33, 22, 43, 4, 12, 43, 2]\n------------\nSEGUNDO FOR\nantes posicion: 2  v[i]= 11\nantes posicion: 5  v[j]= 43\n------------\ndespues posicion: 2  v[i]= 11\ndespues posicion: 5  v[j]= 43\nLuego de la comparacion el listado queda [2, 2, 11, 33, 22, 43, 4, 12, 43, 2]\n------------\nSEGUNDO FOR\nantes posicion: 2  v[i]= 11\nantes posicion: 6  v[j]= 4\n------------\ndespues posicion: 2  v[i]= 4\ndespues posicion: 6  v[j]= 11\nLuego de la comparacion el listado queda [2, 2, 4, 33, 22, 43, 11, 12, 43, 2]\n------------\nSEGUNDO FOR\nantes posicion: 2  v[i]= 4\nantes posicion: 7  v[j]= 12\n------------\ndespues posicion: 2  v[i]= 4\ndespues posicion: 7  v[j]= 12\nLuego de la comparacion el listado queda [2, 2, 4, 33, 22, 43, 11, 12, 43, 2]\n------------\nSEGUNDO FOR\nantes posicion: 2  v[i]= 4\nantes posicion: 8  v[j]= 43\n------------\ndespues posicion: 2  v[i]= 4\ndespues posicion: 8  v[j]= 43\nLuego de la comparacion el listado queda [2, 2, 4, 33, 22, 43, 11, 12, 43, 2]\n------------\nSEGUNDO FOR\nantes posicion: 2  v[i]= 4\nantes posicion: 9  v[j]= 2\n------------\ndespues posicion: 2  v[i]= 2\ndespues posicion: 9  v[j]= 4\nLuego de la comparacion el listado queda [2, 2, 2, 33, 22, 43, 11, 12, 43, 4]\n------------\nAL COMIENZO DEL CICLO EL LISTADO ES [2, 2, 2, 33, 22, 43, 11, 12, 43, 4]\nPRIMER FOR\nSEGUNDO FOR\nantes posicion: 3  v[i]= 33\nantes posicion: 4  v[j]= 22\n------------\ndespues posicion: 3  v[i]= 22\ndespues posicion: 4  v[j]= 33\nLuego de la comparacion el listado queda [2, 2, 2, 22, 33, 43, 11, 12, 43, 4]\n------------\nSEGUNDO FOR\nantes posicion: 3  v[i]= 22\nantes posicion: 5  v[j]= 43\n------------\ndespues posicion: 3  v[i]= 22\ndespues posicion: 5  v[j]= 43\nLuego de la comparacion el listado queda [2, 2, 2, 22, 33, 43, 11, 12, 43, 4]\n------------\nSEGUNDO FOR\nantes posicion: 3  v[i]= 22\nantes posicion: 6  v[j]= 11\n------------\ndespues posicion: 3  v[i]= 11\ndespues posicion: 6  v[j]= 22\nLuego de la comparacion el listado queda [2, 2, 2, 11, 33, 43, 22, 12, 43, 4]\n------------\nSEGUNDO FOR\nantes posicion: 3  v[i]= 11\nantes posicion: 7  v[j]= 12\n------------\ndespues posicion: 3  v[i]= 11\ndespues posicion: 7  v[j]= 12\nLuego de la comparacion el listado queda [2, 2, 2, 11, 33, 43, 22, 12, 43, 4]\n------------\nSEGUNDO FOR\nantes posicion: 3  v[i]= 11\nantes posicion: 8  v[j]= 43\n------------\ndespues posicion: 3  v[i]= 11\ndespues posicion: 8  v[j]= 43\nLuego de la comparacion el listado queda [2, 2, 2, 11, 33, 43, 22, 12, 43, 4]\n------------\nSEGUNDO FOR\nantes posicion: 3  v[i]= 11\nantes posicion: 9  v[j]= 4\n------------\ndespues posicion: 3  v[i]= 4\ndespues posicion: 9  v[j]= 11\nLuego de la comparacion el listado queda [2, 2, 2, 4, 33, 43, 22, 12, 43, 11]\n------------\nAL COMIENZO DEL CICLO EL LISTADO ES [2, 2, 2, 4, 33, 43, 22, 12, 43, 11]\nPRIMER FOR\nSEGUNDO FOR\nantes posicion: 4  v[i]= 33\nantes posicion: 5  v[j]= 43\n------------\ndespues posicion: 4  v[i]= 33\ndespues posicion: 5  v[j]= 43\nLuego de la comparacion el listado queda [2, 2, 2, 4, 33, 43, 22, 12, 43, 11]\n------------\nSEGUNDO FOR\nantes posicion: 4  v[i]= 33\nantes posicion: 6  v[j]= 22\n------------\ndespues posicion: 4  v[i]= 22\ndespues posicion: 6  v[j]= 33\nLuego de la comparacion el listado queda [2, 2, 2, 4, 22, 43, 33, 12, 43, 11]\n------------\nSEGUNDO FOR\nantes posicion: 4  v[i]= 22\nantes posicion: 7  v[j]= 12\n------------\ndespues posicion: 4  v[i]= 12\ndespues posicion: 7  v[j]= 22\nLuego de la comparacion el listado queda [2, 2, 2, 4, 12, 43, 33, 22, 43, 11]\n------------\nSEGUNDO FOR\nantes posicion: 4  v[i]= 12\nantes posicion: 8  v[j]= 43\n------------\ndespues posicion: 4  v[i]= 12\ndespues posicion: 8  v[j]= 43\nLuego de la comparacion el listado queda [2, 2, 2, 4, 12, 43, 33, 22, 43, 11]\n------------\nSEGUNDO FOR\nantes posicion: 4  v[i]= 12\nantes posicion: 9  v[j]= 11\n------------\ndespues posicion: 4  v[i]= 11\ndespues posicion: 9  v[j]= 12\nLuego de la comparacion el listado queda [2, 2, 2, 4, 11, 43, 33, 22, 43, 12]\n------------\nAL COMIENZO DEL CICLO EL LISTADO ES [2, 2, 2, 4, 11, 43, 33, 22, 43, 12]\nPRIMER FOR\nSEGUNDO FOR\nantes posicion: 5  v[i]= 43\nantes posicion: 6  v[j]= 33\n------------\ndespues posicion: 5  v[i]= 33\ndespues posicion: 6  v[j]= 43\nLuego de la comparacion el listado queda [2, 2, 2, 4, 11, 33, 43, 22, 43, 12]\n------------\nSEGUNDO FOR\nantes posicion: 5  v[i]= 33\nantes posicion: 7  v[j]= 22\n------------\ndespues posicion: 5  v[i]= 22\ndespues posicion: 7  v[j]= 33\nLuego de la comparacion el listado queda [2, 2, 2, 4, 11, 22, 43, 33, 43, 12]\n------------\nSEGUNDO FOR\nantes posicion: 5  v[i]= 22\nantes posicion: 8  v[j]= 43\n------------\ndespues posicion: 5  v[i]= 22\ndespues posicion: 8  v[j]= 43\nLuego de la comparacion el listado queda [2, 2, 2, 4, 11, 22, 43, 33, 43, 12]\n------------\nSEGUNDO FOR\nantes posicion: 5  v[i]= 22\nantes posicion: 9  v[j]= 12\n------------\ndespues posicion: 5  v[i]= 12\ndespues posicion: 9  v[j]= 22\nLuego de la comparacion el listado queda [2, 2, 2, 4, 11, 12, 43, 33, 43, 22]\n------------\nAL COMIENZO DEL CICLO EL LISTADO ES [2, 2, 2, 4, 11, 12, 43, 33, 43, 22]\nPRIMER FOR\nSEGUNDO FOR\nantes posicion: 6  v[i]= 43\nantes posicion: 7  v[j]= 33\n------------\ndespues posicion: 6  v[i]= 33\ndespues posicion: 7  v[j]= 43\nLuego de la comparacion el listado queda [2, 2, 2, 4, 11, 12, 33, 43, 43, 22]\n------------\nSEGUNDO FOR\nantes posicion: 6  v[i]= 33\nantes posicion: 8  v[j]= 43\n------------\ndespues posicion: 6  v[i]= 33\ndespues posicion: 8  v[j]= 43\nLuego de la comparacion el listado queda [2, 2, 2, 4, 11, 12, 33, 43, 43, 22]\n------------\nSEGUNDO FOR\nantes posicion: 6  v[i]= 33\nantes posicion: 9  v[j]= 22\n------------\ndespues posicion: 6  v[i]= 22\ndespues posicion: 9  v[j]= 33\nLuego de la comparacion el listado queda [2, 2, 2, 4, 11, 12, 22, 43, 43, 33]\n------------\nAL COMIENZO DEL CICLO EL LISTADO ES [2, 2, 2, 4, 11, 12, 22, 43, 43, 33]\nPRIMER FOR\nSEGUNDO FOR\nantes posicion: 7  v[i]= 43\nantes posicion: 8  v[j]= 43\n------------\ndespues posicion: 7  v[i]= 43\ndespues posicion: 8  v[j]= 43\nLuego de la comparacion el listado queda [2, 2, 2, 4, 11, 12, 22, 43, 43, 33]\n------------\nSEGUNDO FOR\nantes posicion: 7  v[i]= 43\nantes posicion: 9  v[j]= 33\n------------\ndespues posicion: 7  v[i]= 33\ndespues posicion: 9  v[j]= 43\nLuego de la comparacion el listado queda [2, 2, 2, 4, 11, 12, 22, 33, 43, 43]\n------------\nAL COMIENZO DEL CICLO EL LISTADO ES [2, 2, 2, 4, 11, 12, 22, 33, 43, 43]\nPRIMER FOR\nSEGUNDO FOR\nantes posicion: 8  v[i]= 43\nantes posicion: 9  v[j]= 43\n------------\ndespues posicion: 8  v[i]= 43\ndespues posicion: 9  v[j]= 43\nLuego de la comparacion el listado queda [2, 2, 2, 4, 11, 12, 22, 33, 43, 43]\n------------\nLa lista ordenada es:  [2, 2, 2, 4, 11, 12, 22, 33, 43, 43]\n------------\n"
        }
      ]
    },
    {
      "metadata": {},
      "cell_type": "markdown",
      "source": "Ordenamiento por Seleccion: otra version"
    },
    {
      "metadata": {
        "trusted": true
      },
      "cell_type": "code",
      "source": "import random\n\ndef cargarlista(cantidad):\n    lista = []\n    for i in range(cantidad):\n        lista.append(random.randint(1,100))\n    return lista\n    \ndef imprimirlista(lista):\n    print(\"la lista es: \")\n    for i in range(len(lista)):\n        \n        print(lista[i], end=\" \")\n    print()\n    \ndef ordena(lis):\n    larg = len(lis)\n    for i in range(larg-1):\n        for j in range(i+1, larg):\n            if lis[i] > lis[j]:\n                a = lis[j]\n                b = lis[i]\n                lis[j] = b\n                lis[i] = a\n    return lis\n\n\n\ncant = int(input(\"Q elementos: \"))\nmilista = cargarlista(cant)\nimprimirlista(milista)\nord = ordena(milista)\nimprimirlista(ord)",
      "execution_count": 4,
      "outputs": [
        {
          "output_type": "stream",
          "name": "stdout",
          "text": "Q elementos: 150\nla lista es: \n99 83 13 61 68 10 75 54 82 43 59 73 78 71 2 88 11 83 94 63 94 64 27 61 2 46 80 72 96 22 68 90 34 39 23 37 12 98 7 100 95 7 98 75 76 25 28 37 77 73 9 83 71 41 75 3 88 12 41 31 48 62 41 55 88 13 87 25 88 52 45 31 66 88 57 11 73 35 93 66 39 33 65 44 30 8 13 60 10 30 27 16 45 87 86 88 1 57 75 4 53 92 39 65 20 27 16 63 55 31 36 91 78 21 10 22 38 44 63 68 93 14 37 20 90 35 64 19 49 72 7 70 51 84 89 34 19 49 11 11 9 99 47 42 88 81 27 62 90 34 \nla lista es: \n1 2 2 3 4 7 7 7 8 9 9 10 10 10 11 11 11 11 12 12 13 13 13 14 16 16 19 19 20 20 21 22 22 23 25 25 27 27 27 27 28 30 30 31 31 31 33 34 34 34 35 35 36 37 37 37 38 39 39 39 41 41 41 42 43 44 44 45 45 46 47 48 49 49 51 52 53 54 55 55 57 57 59 60 61 61 62 62 63 63 63 64 64 65 65 66 66 68 68 68 70 71 71 72 72 73 73 73 75 75 75 75 76 77 78 78 80 81 82 83 83 83 84 86 87 87 88 88 88 88 88 88 88 89 90 90 90 91 92 93 93 94 94 95 96 98 98 99 99 100 \n"
        }
      ]
    },
    {
      "metadata": {},
      "cell_type": "markdown",
      "source": "Ordenamiento por Intercambio o Burbujeo"
    },
    {
      "metadata": {
        "trusted": true
      },
      "cell_type": "code",
      "source": "import random\n\ndef cargarlista(cantidad):\n    lista = []\n    for i in range(cantidad):\n        lista.append(random.randint(1,100))\n    return lista\n    \ndef imprimirlista(lista):\n    for i in range(len(lista)):\n        print(lista[i], end=\" \")\n    print()\n    \ndef metodointercambio(vec):\n    desordenado = True\n    largo = len(vec)\n    while desordenado: \n        desordenado = False\n        for i in range(largo-1):\n            if vec[i] > vec[i+1]:\n                a = vec[i]\n                b = vec[i+1]                \n                vec[i] = b\n                vec[i+1] = a\n                desordenado = True\n    return vec\n\n#programa principal\ncant = int(input(\"Q elementos: \"))\nmilista = cargarlista(cant)\nprint(\"La lista original es: \")\nimprimirlista(milista)\nord = metodointercambio(milista)\nprint(\"La lista ordenada es: \")\nimprimirlista(ord)",
      "execution_count": 5,
      "outputs": [
        {
          "output_type": "stream",
          "name": "stdout",
          "text": "Q elementos: 150\nLa lista original es: \n18 37 97 71 16 4 69 60 23 8 67 59 24 28 41 18 96 47 82 100 10 82 3 49 95 17 63 2 74 29 5 12 17 38 90 21 79 53 15 11 95 99 98 69 32 73 59 94 47 61 22 20 96 46 100 44 100 64 35 55 29 99 96 6 85 51 35 30 18 67 58 72 88 44 17 24 98 16 28 24 28 32 37 33 66 1 43 27 53 84 7 4 17 93 34 13 87 67 80 82 14 46 18 73 68 97 22 49 3 31 42 61 46 78 67 24 75 51 56 84 79 23 58 9 36 27 66 77 24 34 78 52 98 38 2 55 68 99 31 61 41 92 37 71 98 88 23 42 50 88 \nLa lista ordenada es: \n1 2 2 3 3 4 4 5 6 7 8 9 10 11 12 13 14 15 16 16 17 17 17 17 18 18 18 18 20 21 22 22 23 23 23 24 24 24 24 24 27 27 28 28 28 29 29 30 31 31 32 32 33 34 34 35 35 36 37 37 37 38 38 41 41 42 42 43 44 44 46 46 46 47 47 49 49 50 51 51 52 53 53 55 55 56 58 58 59 59 60 61 61 61 63 64 66 66 67 67 67 67 68 68 69 69 71 71 72 73 73 74 75 77 78 78 79 79 80 82 82 82 84 84 85 87 88 88 88 90 92 93 94 95 95 96 96 96 97 97 98 98 98 98 99 99 99 100 100 100 \n"
        }
      ]
    },
    {
      "metadata": {},
      "cell_type": "markdown",
      "source": "Ordenamiento por Insercion"
    },
    {
      "metadata": {
        "trusted": true
      },
      "cell_type": "code",
      "source": "import random\n\ndef cargarlista(cantidad):\n    lista = []\n    for i in range(cantidad):\n        lista.append(random.randint(1,100))\n    return lista\n    \ndef imprimirlista(lista):\n    for i in range(len(lista)):\n        print(lista[i], end=\" \")\n    print()\n    \ndef metodoinsercion(vec):\n    larg = len(vec)\n    for i in range(1, larg):\n        aux = vec[i]\n        j = i\n        while j > 0 and vec[j-1] > aux:\n            vec[j] = vec[j-1]\n            j = j - 1\n        vec[j] = aux\n    return vec\n\n#programa principal\ncant = int(input(\"Q elementos: \"))\nmilista = cargarlista(cant)\nprint(\"La lista original es: \")\nimprimirlista(milista)\nord = metodoinsercion(milista)\nprint(\"La lista ordenada es: \")\nimprimirlista(ord)\n",
      "execution_count": 1,
      "outputs": [
        {
          "output_type": "stream",
          "name": "stdout",
          "text": "Q elementos: 5\nLa lista original es: \n65 64 67 10 36 \nLa lista ordenada es: \n10 36 64 65 67 \n"
        }
      ]
    },
    {
      "metadata": {},
      "cell_type": "markdown",
      "source": "Ordenar de a pares de una lista (metodo seleccion)"
    },
    {
      "metadata": {
        "trusted": true
      },
      "cell_type": "code",
      "source": "\ndef ordenarpares(lis):\n    largo = len(lis)\n    print(len(lis))\n    for i in range(1,largo-1,2):\n        for j in range(i+2,largo,2):\n            if lis[i] > lis[j]:\n                a = lis[i]\n                b = lis[j]\n                c = lis[i-1]\n                d = lis[j-1]\n                lis[i] = b\n                lis[j] = a\n                lis[i-1] = d\n                lis[j-1] = c \n    return lis\n\nlista = [\"Eric\" , 1 , \"Anika\" , 1000 , \"Henning\", 300, \"Kurt\", 200]\nprint(lista)\nordenada = ordenarpares(lista)\nprint(ordenada)",
      "execution_count": 11,
      "outputs": [
        {
          "output_type": "stream",
          "text": "['Eric', 1, 'Anika', 1000, 'Henning', 300, 'Kurt', 200]\n8\n['Eric', 1, 'Kurt', 200, 'Henning', 300, 'Anika', 1000]\n",
          "name": "stdout"
        }
      ]
    },
    {
      "metadata": {},
      "cell_type": "raw",
      "source": "INSERTAR VALORES EN ORDEN"
    },
    {
      "metadata": {},
      "cell_type": "raw",
      "source": "INVERTIR O CAMBIAR POSICION DE VALORES"
    },
    {
      "metadata": {},
      "cell_type": "markdown",
      "source": "Invertir el orden de una lista"
    },
    {
      "metadata": {
        "trusted": true
      },
      "cell_type": "code",
      "source": "#Invertir el orden de una lista\n\ndef invertir(lis):\n    larg = len(lis)\n    listnueva = []\n    while larg > 0:\n        listnueva.append(lis[larg-1])\n        larg = larg - 1\n    return listnueva\n        \n#programa principal\nlista = [9, 1, 5, 3, 7, 5, 8, 2, 6, 7]\nprint(\"la  lista inicial era la siguiente: \",lista)\nlistinv = invertir(lista)\nprint(\"la nueva lista quedo como sigue:    \",listinv)",
      "execution_count": 5,
      "outputs": [
        {
          "output_type": "stream",
          "text": "la  lista inicial era la siguiente:  [9, 1, 5, 3, 7, 5, 8, 2, 6, 7]\nla nueva lista quedo como sigue:     [7, 6, 2, 8, 5, 7, 3, 5, 1, 9]\n",
          "name": "stdout"
        }
      ]
    },
    {
      "metadata": {
        "trusted": true
      },
      "cell_type": "code",
      "source": "#Invertir aquellos valores ubicados en posiciones impares de una lista.\n\ndef invimpar(lis):\n    larg = len(lis)\n    for i in range(larg-2):\n        if lis[i]%2 != 0:\n            a = lis[i]\n            b = lis[i+2]\n            lis[i] = b\n            lis[i+2] = a  \n    return lis\n        \n#programa principal\nlista = [9, 1, 5, 3, 7, 5, 8, 2, 6, 7]\nprint(\"la  lista inicial era la siguiente: \",lista)\nlistinv = invimpar(lista)\nprint(\"la nueva lista quedo como sigue:    \",listinv)",
      "execution_count": 45,
      "outputs": [
        {
          "output_type": "stream",
          "text": "la  lista inicial era la siguiente:  [9, 1, 5, 3, 7, 5, 8, 2, 6, 7]\nla nueva lista quedo como sigue:     [5, 3, 7, 5, 8, 2, 6, 7, 9, 1]\n",
          "name": "stdout"
        }
      ]
    },
    {
      "metadata": {},
      "cell_type": "markdown",
      "source": "DIVIDIR LA LISTA SEGUN CRITERIOS"
    },
    {
      "metadata": {},
      "cell_type": "markdown",
      "source": "# Multiples Listas"
    },
    {
      "metadata": {},
      "cell_type": "raw",
      "source": "COMBINAR DOS LISTAS EN UNA"
    },
    {
      "metadata": {},
      "cell_type": "raw",
      "source": "OPERACIONES DE CONJUNTOS (INTERSECCION, SUMA, RESTA, ETC)"
    },
    {
      "metadata": {
        "trusted": true
      },
      "cell_type": "code",
      "source": "#Ejercicio 14: Eliminar de una lista de números enteros los valores que se encuentren en una segunda lista. \n#Imprimir la lista original, la lista de valores a eliminar y la lista resultante.\n\ndef crea_elim(lisx,lisy):\n    largx = len(lisx)\n    largy = len(lisy)\n    val_elim = []\n    for i in range(largx):\n        for j in range(largy):\n            if lisx[i]==lisy[j]:\n                val_elim.append(lisx[i])               \n    return val_elim\n\ndef crea_newlista1(lisx,lisz):\n    for i in lisz: \n        lisx.remove(lisz[j]) \n    return lisx\n\nlista1 = [9, 1, 5, 3, 7, 5, 8, 2, 6, 7]\nprint(\"la lista 1 es: \",lista1)\n\nlista2 = [3, 10, 15, 6, 9, 11, 6, 17, 16, 13]\nprint(\"la lista 2 es: \",lista2)\n\nvalores_eliminar = crea_elim(lista1,lista2)\nprint(\"La lista de valores a eliminar es: \",valores_eliminar)\n\nnewlista1 = crea_newlista1(lista1,valores_eliminar)\nprint(\"La nueva lista 1 es: \",newlista1)\n\n\n",
      "execution_count": 69,
      "outputs": [
        {
          "output_type": "stream",
          "text": "la lista 1 es:  [9, 1, 5, 3, 7, 5, 8, 2, 6, 7]\nla lista 2 es:  [3, 10, 15, 6, 9, 11, 6, 17, 16, 13]\nLa lista de valores a eliminar es:  [9, 3, 6, 6]\n",
          "name": "stdout"
        },
        {
          "output_type": "error",
          "ename": "IndexError",
          "evalue": "list index out of range",
          "traceback": [
            "\u001b[0;31m---------------------------------------------------------------------------\u001b[0m",
            "\u001b[0;31mIndexError\u001b[0m                                Traceback (most recent call last)",
            "\u001b[0;32m<ipython-input-69-af9838c762ca>\u001b[0m in \u001b[0;36m<module>\u001b[0;34m\u001b[0m\n\u001b[1;32m     26\u001b[0m \u001b[0mprint\u001b[0m\u001b[0;34m(\u001b[0m\u001b[0;34m\"La lista de valores a eliminar es: \"\u001b[0m\u001b[0;34m,\u001b[0m\u001b[0mvalores_eliminar\u001b[0m\u001b[0;34m)\u001b[0m\u001b[0;34m\u001b[0m\u001b[0m\n\u001b[1;32m     27\u001b[0m \u001b[0;34m\u001b[0m\u001b[0m\n\u001b[0;32m---> 28\u001b[0;31m \u001b[0mnewlista1\u001b[0m \u001b[0;34m=\u001b[0m \u001b[0mcrea_newlista1\u001b[0m\u001b[0;34m(\u001b[0m\u001b[0mlista1\u001b[0m\u001b[0;34m,\u001b[0m\u001b[0mvalores_eliminar\u001b[0m\u001b[0;34m)\u001b[0m\u001b[0;34m\u001b[0m\u001b[0m\n\u001b[0m\u001b[1;32m     29\u001b[0m \u001b[0mprint\u001b[0m\u001b[0;34m(\u001b[0m\u001b[0;34m\"La nueva lista 1 es: \"\u001b[0m\u001b[0;34m,\u001b[0m\u001b[0mnewlista1\u001b[0m\u001b[0;34m)\u001b[0m\u001b[0;34m\u001b[0m\u001b[0m\n\u001b[1;32m     30\u001b[0m \u001b[0;34m\u001b[0m\u001b[0m\n",
            "\u001b[0;32m<ipython-input-69-af9838c762ca>\u001b[0m in \u001b[0;36mcrea_newlista1\u001b[0;34m(lisx, lisz)\u001b[0m\n\u001b[1;32m     14\u001b[0m \u001b[0;32mdef\u001b[0m \u001b[0mcrea_newlista1\u001b[0m\u001b[0;34m(\u001b[0m\u001b[0mlisx\u001b[0m\u001b[0;34m,\u001b[0m\u001b[0mlisz\u001b[0m\u001b[0;34m)\u001b[0m\u001b[0;34m:\u001b[0m\u001b[0;34m\u001b[0m\u001b[0m\n\u001b[1;32m     15\u001b[0m     \u001b[0;32mfor\u001b[0m \u001b[0mi\u001b[0m \u001b[0;32min\u001b[0m \u001b[0mlisz\u001b[0m\u001b[0;34m:\u001b[0m\u001b[0;34m\u001b[0m\u001b[0m\n\u001b[0;32m---> 16\u001b[0;31m         \u001b[0mlisx\u001b[0m\u001b[0;34m.\u001b[0m\u001b[0mremove\u001b[0m\u001b[0;34m(\u001b[0m\u001b[0mlisz\u001b[0m\u001b[0;34m[\u001b[0m\u001b[0mj\u001b[0m\u001b[0;34m]\u001b[0m\u001b[0;34m)\u001b[0m\u001b[0;34m\u001b[0m\u001b[0m\n\u001b[0m\u001b[1;32m     17\u001b[0m     \u001b[0;32mreturn\u001b[0m \u001b[0mlisx\u001b[0m\u001b[0;34m\u001b[0m\u001b[0m\n\u001b[1;32m     18\u001b[0m \u001b[0;34m\u001b[0m\u001b[0m\n",
            "\u001b[0;31mIndexError\u001b[0m: list index out of range"
          ]
        }
      ]
    },
    {
      "metadata": {
        "trusted": true
      },
      "cell_type": "code",
      "source": "",
      "execution_count": null,
      "outputs": []
    },
    {
      "metadata": {},
      "cell_type": "raw",
      "source": "INTERCALAR DOS LISTAS (EN ORDEN, POR POSICION, ETC)"
    },
    {
      "metadata": {
        "trusted": true
      },
      "cell_type": "code",
      "source": "entradas = [1,2,3]\n\nentradas2 = [3,4,5]\n\nlarg = len(entradas)\nnueva = []\nfor i in range(larg):\n    nueva.append(entradas[i])\n    nueva.append(entradas2[i])\nprint(nueva)",
      "execution_count": 7,
      "outputs": [
        {
          "output_type": "stream",
          "text": "[1, 3, 2, 4, 3, 5]\n",
          "name": "stdout"
        }
      ]
    },
    {
      "metadata": {
        "trusted": true
      },
      "cell_type": "code",
      "source": "",
      "execution_count": null,
      "outputs": []
    }
  ],
  "metadata": {
    "kernelspec": {
      "name": "python36",
      "display_name": "Python 3.6",
      "language": "python"
    },
    "language_info": {
      "mimetype": "text/x-python",
      "nbconvert_exporter": "python",
      "name": "python",
      "pygments_lexer": "ipython3",
      "version": "3.6.6",
      "file_extension": ".py",
      "codemirror_mode": {
        "version": 3,
        "name": "ipython"
      }
    }
  },
  "nbformat": 4,
  "nbformat_minor": 2
}