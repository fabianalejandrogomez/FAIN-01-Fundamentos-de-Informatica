{
  "cells": [
    {
      "metadata": {
        "collapsed": true
      },
      "cell_type": "markdown",
      "source": "# FACULTAD DE INGENIERÍA Y CIENCIAS EXACTAS\nDepartamento de Tecnología Informática\n- FUNDAMENTOS DE INFORMATICA"
    },
    {
      "metadata": {},
      "cell_type": "markdown",
      "source": "# Apuntes"
    },
    {
      "metadata": {},
      "cell_type": "markdown",
      "source": "Escribir una funcion para lanzar dados al azar"
    },
    {
      "metadata": {
        "trusted": true
      },
      "cell_type": "code",
      "source": "import random\n\ndef lanzardado():\n    return random.randint(1,6)\n\ndado = lanzardado()\nprint(dado)",
      "execution_count": 2,
      "outputs": [
        {
          "output_type": "stream",
          "text": "6\n",
          "name": "stdout"
        }
      ]
    },
    {
      "metadata": {},
      "cell_type": "markdown",
      "source": "# Ayuda "
    },
    {
      "metadata": {
        "trusted": true
      },
      "cell_type": "code",
      "source": "busquedaseq  encontrado  while if\nbusquedabin izq          while and if elif\n\nmetodoselec              for for if\nmetodointer  desordenado while for if\nmetodoinser              for while and\n\nbs e wi\nbb i waie\n\nos   ffi\nob d wfi\noi   fwa\n\ndef busquedaseq(dato,v):\nencontrado = False\n    while v[i]<len(v):\n        if dato == v[i]:\n\n\ndef busquedabin(dato,v):\nwhile izq <= der and pos == -1:\n    if v[cen] == dato:\n        pos = cen\n    elif v[cen] < dato:\n        izq = cen + 1\n\ndef metodoseleccion(v):\nfor (len(v) - 1)\n    for (i+1, len(v))\n        if v[i] > v[j]\n\ndef metodointercambio(v):\nwhile desordenado\n    desordenado = False\n    for i in range(len(v)-1)\n        if v[i] > v[i+1]:\n            desordenado = True\n\ndef metodoinsercion(v):\nfor (1, len(v)):\n    aux = v[i]\n    j = i\n    while j > 0 and v[j-1] > aux:\n        v[j] = v[j-1]\n        j = j - 1\n    v[j] = aux\n",
      "execution_count": null,
      "outputs": []
    },
    {
      "metadata": {},
      "cell_type": "markdown",
      "source": "# Busquedas"
    },
    {
      "metadata": {
        "trusted": true
      },
      "cell_type": "code",
      "source": "#BUSQUEDA SECUENCIAL: Recorre la lista buscando elemento por elemento hasta encontrarlo, o hasta llegar al final\n#Estructura: Banderas encontrado=false / while i < len(v) / if / if,else\n\ndef busquedasecuencial(v, dato):\n    posicion = []\n    encontrado = False\n    i = 0\n    while i < len(v):\n        if v[i] == dato:\n            encontrado = True\n            posicion.append(i)\n        i = i + 1\n    if encontrado == True:\n        print(\"Por busqueda secuencial, el elemento\", dato, \"se encontro en la posicion\",posicion)\n    else:\n        print(\"El valor\", dato, \"no se encontro\")\n    return posicion\n\n# BUSQUEDA BINARIA: Requiere tener una lista ordenada Se verifica si el elemento buscado esta en la mitad de la lista, \n# si no esta, se descarta una mitad de la lista y se repite el proceso sobre la otra\n#Estructura: while izq <= der and pos == -1 /If,elif,else\n\ndef busquedabinaria(v, dato):\n    izq = 0\n    der = len(v) -1\n    pos = -1\n    while izq <= der and pos == -1:\n        centro = (izq + der)//2\n        if v[centro] == dato:\n            pos = centro\n        elif v[centro] < dato:\n            izq = centro + 1\n        else:\n            der = centro - 1\n    return pos\n\nnum = 8\na = [1,2,3,5,6,6,7,7,8,9]\nprint(busquedasecuencial(a,num))\nprint()\nprint(\"Por busqueda binaria, el elemento se encontro en la posicion\",busquedabinaria(a,num))\nprint()\n",
      "execution_count": 2,
      "outputs": [
        {
          "output_type": "stream",
          "text": "Por busqueda secuencial, el elemento 8 se encontro en la posicion [8]\n[8]\n\nPor busqueda binaria, el elemento se encontro en la posicion 8\n\n",
          "name": "stdout"
        }
      ]
    },
    {
      "metadata": {},
      "cell_type": "markdown",
      "source": "# Ordenamiento"
    },
    {
      "metadata": {
        "trusted": true
      },
      "cell_type": "code",
      "source": "#METODO SELECCION\n#for (len(v) - 1) / for (i+1, len(v)) / if v[i] > v[j]\n\n\ndef metodoseleccion(v): \n    for i in range(len(v) - 1):\n        for j in range(i+1, len(v)):\n            if v[i] > v[j]:\n                aux = v[i]\n                v[i] = v[j]\n                v[j] = aux\n    return\n    \n\n# METODO INTERCAMBIO/BURBUJEO\n# bandera / while / for / if\n# b=desordenado / while / desordenado / for (len(v)-1) / if v[i] > v[i+1] / desordenado\n\ndef metodointercambio(v):\n    desordenado = True\n    while desordenado: \n        desordenado = False\n        for i in range(len(v)-1):\n            if v[i] > v[i+1]:\n                aux = v[i]\n                v[i] = v[i+1]\n                v[i+1] = aux\n                desordenado = True\n    return\n\n\n#METODO INSERCION\n# for / while \n# for (1, len(v)) / while j > 0 and v[j-1] > aux\n\ndef metodoinsercion(v):\n    for i in range(1, len(v)):\n        aux = v[i]\n        j = i\n        while j > 0 and v[j-1] > aux:\n            v[j] = v[j-1]\n            j = j - 1\n        v[j] = aux\n    return\n\na = [1,3,2,5,3,0,7,5,6,9,6,7,7,8,9]\nmetodoseleccion(a)\nprint(a)\nb = [9,2,2,4,3,0,7,5,6,5,6,7,7,8,0]\nmetodointercambio(b)\nprint(b)\nc = [9,2,2,4,3,0,7,5,6,5,6,7,7,8,0]\nmetodoinsercion(c)\nprint(c)",
      "execution_count": 1,
      "outputs": [
        {
          "output_type": "stream",
          "text": "[0, 1, 2, 3, 3, 5, 5, 6, 6, 7, 7, 7, 8, 9, 9]\n[0, 0, 2, 2, 3, 4, 5, 5, 6, 6, 7, 7, 7, 8, 9]\n[0, 0, 2, 2, 3, 4, 5, 5, 6, 6, 7, 7, 7, 8, 9]\n",
          "name": "stdout"
        }
      ]
    },
    {
      "metadata": {},
      "cell_type": "markdown",
      "source": "Busqueda Secuencial\nConsiste en ir recorriendo una lista buscando elemento por elemento hasta encontraer el elemento buscado o hasta llegar al final "
    },
    {
      "metadata": {
        "trusted": true
      },
      "cell_type": "code",
      "source": "import random\n\ndef cargarlista(cantidad):\n    lista = []\n    for i in range(cantidad):\n        lista.append(random.randint(1,100))\n    return lista\n    \ndef imprimirlista(lista):\n    for i in range(len(lista)):\n        print(lista[i], end=\" \")\n    print()\n\ndef busquedasecuencial(lista, dato):\n    posiciones = []\n    encontrado = False\n    i = 0\n    while i < len(lista):\n        if lista[i] == dato:\n            encontrado = True\n            posiciones.append(i)\n        i = i + 1\n    if encontrado == True:\n        print(\"El elemento\", dato, \"se encontro en la posicion\",posiciones)\n    else:\n        print(\"El valor\", dato, \"no se encontro\")\n    return\n        \n\ncant = int(input(\"Q elementos: \"))\nmilista = cargarlista(cant)\nimprimirlista(milista)\nn = int(input(\"Ingrese num a buscar: \"))\npos = busquedasecuencial(milista, n)",
      "execution_count": null,
      "outputs": []
    },
    {
      "metadata": {
        "slideshow": {
          "slide_type": "subslide"
        }
      },
      "cell_type": "markdown",
      "source": "Ordenamiento de Listas por Seleccion\nConsiste en buscar el menor elemento dentro de la lista e intercambiarlo por el de la primera posicion, luego se busca el siguiente menor elemento y se lo intercambia por el de la segunda posicion"
    },
    {
      "metadata": {
        "trusted": true,
        "scrolled": false
      },
      "cell_type": "code",
      "source": "def agrega():\n\n    num = int(input(\"ingrese los valores de la lista, o -1 para terminar\"))\n    while num != -1:\n        v.append(num)\n        num = int(input(\"ingrese los valores de la lista, o -1 para terminar\"))\n\nv = []\ndel v[:]\n# ingreso valores desordenados en una lista \nagrega()\n\nprint(\"La lista es\", v)\n# calculo el largo de la lista\nlargo = len(v)\nprint(\"El largo de la lista es\", largo)\nprint(\"------------\")\nfor i in range(largo - 1):\n    print(\"AL COMIENZO DEL CICLO EL LISTADO ES\", v)\n    print(\"PRIMER FOR\")\n# EL PRIMER FOR HACE ARRANCAR CADA CICLO DE COMPARACION \n    for j in range(i+1, largo):\n        print(\"SEGUNDO FOR\")\n# EL SEGUNDO FOR HACE LA COMPARACION DE A PARES, DE CADA RANGO.\n# entre el segundo elemento y la cantidad de elementos de la lista\n        print(\"antes posicion:\",i,\" v[i]=\",v[i])\n        print(\"antes posicion:\",j,\" v[j]=\",v[j])\n# comparo de a dos elementos y los doy vuelta si estan descendentes\n        print(\"------------\")\n        if v[i] > v[j]:\n            aux = v[i]\n            v[i] = v[j]\n            v[j] = aux\n# muestro el cambio de posicion\n        print(\"despues posicion:\",i,\" v[i]=\",v[i])\n        print(\"despues posicion:\",j,\" v[j]=\",v[j])\n        print(\"Luego de la comparacion el listado queda\", v)\n        print(\"------------\")\n\n# imprimo la lista final\nprint(\"La lista ordenada es: \",v)\nprint(\"------------\")\n",
      "execution_count": 42,
      "outputs": [
        {
          "output_type": "stream",
          "name": "stdout",
          "text": "ingrese los valores de la lista, o -1 para terminar12\ningrese los valores de la lista, o -1 para terminar23\ningrese los valores de la lista, o -1 para terminar43\ningrese los valores de la lista, o -1 para terminar-1\nLa lista es [12, 23, 43]\nEl largo de la lista es 3\n------------\nAL COMIENZO DEL CICLO EL LISTADO ES [12, 23, 43]\nPRIMER FOR\nSEGUNDO FOR\nantes posicion: 0  v[i]= 12\nantes posicion: 1  v[j]= 23\n------------\ndespues posicion: 0  v[i]= 12\ndespues posicion: 1  v[j]= 23\nLuego de la comparacion el listado queda [12, 23, 43]\n------------\nSEGUNDO FOR\nantes posicion: 0  v[i]= 12\nantes posicion: 2  v[j]= 43\n------------\ndespues posicion: 0  v[i]= 12\ndespues posicion: 2  v[j]= 43\nLuego de la comparacion el listado queda [12, 23, 43]\n------------\nAL COMIENZO DEL CICLO EL LISTADO ES [12, 23, 43]\nPRIMER FOR\nSEGUNDO FOR\nantes posicion: 1  v[i]= 23\nantes posicion: 2  v[j]= 43\n------------\ndespues posicion: 1  v[i]= 23\ndespues posicion: 2  v[j]= 43\nLuego de la comparacion el listado queda [12, 23, 43]\n------------\nLa lista ordenada es:  [12, 23, 43]\n------------\n"
        }
      ]
    },
    {
      "metadata": {},
      "cell_type": "markdown",
      "source": "Busqueda binaria\nRequiere tener una lista ordenada\nSe verifica si el elemento buscado esta en la mitad de la lista, si no esta, se descarta una mitad de la lista y se repite el proceso sobre la otra"
    },
    {
      "metadata": {
        "trusted": true
      },
      "cell_type": "code",
      "source": "def busquedabinaria(v, dato):\n    izq = 0\n    der = len(v) -1\n# A der hay que restar -1 porque las listas comienzan con la primera posicion en 0\n    pos = -1\n\n    while izq <= der and pos == -1:\n        centro = (izq + der)//2\n        print(izq, \"!\", centro, \"!\", der)\n        print(v[izq], \"!\", v[centro], \"!\", v[der])\n        if v[centro] == dato:\n            pos = centro\n        elif v[centro] < dato:\n            izq = centro + 1\n        else:\n            der = centro - 1\n    print(\"el dato esta ubicado en la posición: \",pos)\n    return pos\n\nx = [1, 22, 33, 45, 51, 56, 78, 99]\ny = 22\nprint(\"se busca el valor: \", y, \"en la lista: \", x)\nprint(\"la lista tiene la siguiente cantidad de posiciones:\", len(x))\nbusquedabinaria(x, y)",
      "execution_count": 6,
      "outputs": [
        {
          "output_type": "stream",
          "text": "se busca el valor:  22 en la lista:  [1, 22, 33, 45, 51, 56, 78, 99]\nla lista tiene la siguiente cantidad de posiciones: 8\n0 ! 3 ! 7\n1 ! 45 ! 99\n0 ! 1 ! 2\n1 ! 22 ! 33\nel dato esta ubicado en la posición:  1\n",
          "name": "stdout"
        },
        {
          "output_type": "execute_result",
          "execution_count": 6,
          "data": {
            "text/plain": "1"
          },
          "metadata": {}
        }
      ]
    },
    {
      "metadata": {},
      "cell_type": "markdown",
      "source": "Metodo de Ordenamiento: Intercambio o Burbujeo\nSe basa en comparar cada elemento con el que tiene a la derecha, si es necesario los intercambia, luego avanza a la siguiente pareja y repite el proceso"
    },
    {
      "metadata": {
        "trusted": true
      },
      "cell_type": "code",
      "source": "def agrega():\n    num = int(input(\"ingrese los valores de la lista, o -1 para terminar\"))\n    while num != -1:\n        v.append(num)\n        num = int(input(\"ingrese los valores de la lista, o -1 para terminar\"))\n\n        \ndef metodointercambio(vec):\n    desordenado = True\n    while desordenado: \n        desordenado = False\n        for i in range(len(vec)-1):\n            if vec[i] > vec[i+1]:\n                aux = vec[i]\n                vec[i] = vec[i+1]\n                vec[i+1] = aux\n                desordenado = True\n\n    return v\n\nv = []\ndel v[:]\n# ingreso valores desordenados en una lista \nagrega()\n\n# imprimo la lista final\nprint(\"------------\")\nprint(\"La lista ordenada es: \",metodointercambio(v))\nprint(\"------------\")\n                ",
      "execution_count": 30,
      "outputs": [
        {
          "output_type": "stream",
          "name": "stdout",
          "text": "ingrese los valores de la lista, o -1 para terminar23\ningrese los valores de la lista, o -1 para terminar34\ningrese los valores de la lista, o -1 para terminar45\ningrese los valores de la lista, o -1 para terminar56\ningrese los valores de la lista, o -1 para terminar43\ningrese los valores de la lista, o -1 para terminar-1\n------------\nLa lista ordenada es:  [23, 34, 43, 45, 56]\n------------\n"
        }
      ]
    },
    {
      "metadata": {},
      "cell_type": "markdown",
      "source": "Metodo de Insercion\nConsiste en mover cada elemento de la lista hacia la izquierda, hasta encontrar su ubicacion"
    },
    {
      "metadata": {
        "trusted": true
      },
      "cell_type": "code",
      "source": "def agrega():\n    num = int(input(\"ingrese los valores de la lista, o -1 para terminar\"))\n    while num != -1:\n        v.append(num)\n        num = int(input(\"ingrese los valores de la lista, o -1 para terminar\"))\n        \ndef metodoinsercion(vec):\n    for i in range(1, len(vec)):\n        aux = vec[i]\n        j = i\n        while j > 0 and vec[j-1] > aux:\n            vec[j] = vec[j-1]\n            j = j - 1\n        vec[j] = aux\n        \nv = []\ndel v[:]\n# ingreso valores desordenados en una lista \nagrega()\n\n# imprimo la lista final\nprint(\"------------\")\nprint(\"La lista ordenada es: \",metodointercambio(v))\nprint(\"------------\")\n                ",
      "execution_count": 31,
      "outputs": [
        {
          "output_type": "stream",
          "name": "stdout",
          "text": "ingrese los valores de la lista, o -1 para terminar23\ningrese los valores de la lista, o -1 para terminar34\ningrese los valores de la lista, o -1 para terminar45\ningrese los valores de la lista, o -1 para terminar56\ningrese los valores de la lista, o -1 para terminar54\ningrese los valores de la lista, o -1 para terminar43\ningrese los valores de la lista, o -1 para terminar32\ningrese los valores de la lista, o -1 para terminar21\ningrese los valores de la lista, o -1 para terminar-1\n------------\nLa lista ordenada es:  [21, 23, 32, 34, 43, 45, 54, 56]\n------------\n"
        }
      ]
    },
    {
      "metadata": {},
      "cell_type": "markdown",
      "source": "# Generacion de Lista y Utilizacion de sumarizadores"
    },
    {
      "metadata": {},
      "cell_type": "markdown",
      "source": "Ejercicio\nUna empresa cuenta con 50 vendedores numerados del 1 al 50\nPor cada venta realizada, se ingresa el numero de vendedor y el importe de la misma, donde el numero de vendedor -1 indica el final de los datos\nEstos datos no estan ordenados\nRealizar un programa para imprimir el total de las ventas por vendedor"
    },
    {
      "metadata": {
        "trusted": true
      },
      "cell_type": "code",
      "source": "def leervendedor(maximo):\n    n = int(input(\"Numero de vendedor?: (-1 para terminar!): \"))\n    while (n != -1 and (n < 1 or n > maximo)):\n        print(\"vendedor invalido\")\n        n = int(input(\"Numero de vendedor?: (-1 para terminar!): \"))\n    return n\n\n#programa principal\nVENDEDORES = 10\n\n#creamos el vector y lo inicializamos con 0\nventas = []\nfor i in range(VENDEDORES + 1):\n    ventas.append(0)\n    \n#comenzamos la lectura y acumulacion de datos\nvendedor = leervendedor(VENDEDORES)\nwhile vendedor != -1:\n    importe = int(input(\"importe de la venta?: \"))\n    ventas[vendedor] = ventas[vendedor] + importe\n    vendedor = leervendedor(VENDEDORES)\n    \n#imprimir informe final\nfor i in range(VENDEDORES + 1):\n    print(\"el vendedor: \", i, \"vendio $: \", ventas[i])\n          \n",
      "execution_count": 43,
      "outputs": [
        {
          "output_type": "stream",
          "name": "stdout",
          "text": "Numero de vendedor?: (-1 para terminar!): 1\nimporte de la venta?: 100\nNumero de vendedor?: (-1 para terminar!): 2\nimporte de la venta?: 200\nNumero de vendedor?: (-1 para terminar!): 2\nimporte de la venta?: 300\nNumero de vendedor?: (-1 para terminar!): 1\nimporte de la venta?: 300\nNumero de vendedor?: (-1 para terminar!): 4\nimporte de la venta?: 400\nNumero de vendedor?: (-1 para terminar!): 3\nimporte de la venta?: 34\nNumero de vendedor?: (-1 para terminar!): 5\nimporte de la venta?: 1000\nNumero de vendedor?: (-1 para terminar!): -1\nel vendedor:  0 vendio $:  0\nel vendedor:  1 vendio $:  400\nel vendedor:  2 vendio $:  500\nel vendedor:  3 vendio $:  34\nel vendedor:  4 vendio $:  400\nel vendedor:  5 vendio $:  1000\nel vendedor:  6 vendio $:  0\nel vendedor:  7 vendio $:  0\nel vendedor:  8 vendio $:  0\nel vendedor:  9 vendio $:  0\nel vendedor:  10 vendio $:  0\n"
        }
      ]
    },
    {
      "metadata": {
        "trusted": true
      },
      "cell_type": "code",
      "source": "#Ejercicio del Teorico: Imprimir 10 numeros y leerlos en orden inverso\n\nvec = []\ni=0\nwhile i < 10:\n    n = int(input(\"ingrese un numero\"))\n    vec.append(n)\n    i = i + 1\n\n#impresion\n\ni = 9\nwhile i >= 0:\n    print(vec[i])\n    i = i - 1",
      "execution_count": 40,
      "outputs": [
        {
          "output_type": "stream",
          "name": "stdout",
          "text": "ingrese un numero5\ningrese un numero4\ningrese un numero3\ningrese un numero6\ningrese un numero7\ningrese un numero4\ningrese un numero2\ningrese un numero6\ningrese un numero8\ningrese un numero9\n9\n8\n6\n2\n4\n7\n6\n3\n4\n5\n"
        }
      ]
    },
    {
      "metadata": {
        "trusted": true
      },
      "cell_type": "code",
      "source": "#Ejercicio del Teorico: Imprimir una lista por pantalla en forma horizontal\n\nlista = [4, 7, 2, 9, 5]\nx = 0\nwhile x < 5:\n    print(lista[x],end=\" \")\n    x = x + 1\n",
      "execution_count": 41,
      "outputs": [
        {
          "output_type": "stream",
          "text": "4 7 2 9 5 ",
          "name": "stdout"
        }
      ]
    },
    {
      "metadata": {},
      "cell_type": "markdown",
      "source": "# Trabajo Práctico 6: Listas"
    },
    {
      "metadata": {},
      "cell_type": "markdown",
      "source": "Ejercicio 1: \nEscribir una función para ingresar desde el teclado una serie de números entre 1\ny 20 y guardarlos en una lista. \nEn caso de ingresar un valor fuera de rango el\nprograma mostrará un mensaje de error y solicitará un nuevo número. Para finalizar la carga se deberá ingresar -1. La función no recibe ningún parámetro, y\ndevuelve la lista cargada (o vacía, si el usuario no ingresó nada) como valor de\nretorno. "
    },
    {
      "metadata": {
        "trusted": true
      },
      "cell_type": "code",
      "source": "#Ejercicio 1:\n#Escribir una función para ingresar desde el teclado una serie de números entre 1 y 20 y guardarlos en una lista.\n#En caso de ingresar un valor fuera de rango el programa mostrará un mensaje de error y solicitará un nuevo\n#número.\n#Para finalizar la carga se deberá ingresar -1. La función no recibe ningún parámetro, y devuelve la lista\n#cargada (o vacía, si el usuario no ingresó nada) como valor de retorno.\n\ndef clr1_20():\n    lista = []\n    num = int(input(\"ingrese el valor entre 1 y 20: \"))\n    while num != -1:\n        if num < 1 or num > 20:\n            print(\"error: el num ingresado no es un valor entre 1 y 20: \")\n        else:\n            lista.append(num)\n        num=int (input(\"ingrese un valor entre 1 y 20: \"))\n    print(lista)\n    return (lista)\n\nclr1_20()\n\n",
      "execution_count": 2,
      "outputs": [
        {
          "output_type": "stream",
          "name": "stdout",
          "text": "ingrese el valor entre 1 y 203\ningrese un valor entre 1 y 202\ningrese un valor entre 1 y 204\ningrese un valor entre 1 y 2019\ningrese un valor entre 1 y 2017\ningrese un valor entre 1 y 205\ningrese un valor entre 1 y 204\ningrese un valor entre 1 y 209\ningrese un valor entre 1 y 2011\ningrese un valor entre 1 y 2012\ningrese un valor entre 1 y 2013\ningrese un valor entre 1 y 20-1\n[3, 2, 4, 19, 17, 5, 4, 9, 11, 12, 13]\n"
        },
        {
          "output_type": "execute_result",
          "execution_count": 2,
          "data": {
            "text/plain": "[3, 2, 4, 19, 17, 5, 4, 9, 11, 12, 13]"
          },
          "metadata": {}
        }
      ]
    },
    {
      "metadata": {},
      "cell_type": "markdown",
      "source": "Ejercicio 2: Calcular la suma de los números de una lista."
    },
    {
      "metadata": {
        "trusted": true
      },
      "cell_type": "code",
      "source": "#Ejercicio 2: Calcular la suma de los números de una lista.\n\ndef sumar_lista (lista)\n    resultado = 0\n    for i in range(len(lista)):\n        resultado = resultado + lista[i]\n    return resultado\n\n#main\nlista = clr1_20()\nprint(\"la suma de los elementos es \", sumar_lista(lista))",
      "execution_count": null,
      "outputs": []
    },
    {
      "metadata": {},
      "cell_type": "markdown",
      "source": "Ejercicio 3: Determinar si una lista es capicúa"
    },
    {
      "metadata": {
        "trusted": true
      },
      "cell_type": "code",
      "source": "#Ejercicio 3: Determinar si una lista es capicúa. (es igual de derecha a izquierda que de derecha a izquierda)\n\ndef escapicua(lista):\n    i = 0\n    j = len(lista) - 1\n    while i < j and lista[i] == lista [j]:\n        i = i + 1\n        j = j - 1\n    if i < j:\n        return False\n    else:\n        return True\n    \n#programa principal\nlist = [2,3,4,3,2]\nprint(escapicua(list))",
      "execution_count": 6,
      "outputs": [
        {
          "output_type": "stream",
          "text": "True\n",
          "name": "stdout"
        }
      ]
    },
    {
      "metadata": {
        "trusted": true
      },
      "cell_type": "markdown",
      "source": "Ejercicio 4: Invertir aquellos valores ubicados en posiciones impares de una lista."
    },
    {
      "metadata": {
        "trusted": true
      },
      "cell_type": "code",
      "source": "#Ejercicio 4: Invertir aquellos valores ubicados en posiciones impares de una lista.\n\nv = [1, 2, 3, 4, 5, 6, 7, 8, 9]\nprint(v)\nlar = len(v)\nprint(lar)\nfor i in range(lar-2):\n    if v[i]%2 != 0:\n        a = v[i]\n        b = v[i+2]\n        v[i] = b\n        v[i+2] = a\n        print(v)        \nprint(v)\n        ",
      "execution_count": 1,
      "outputs": [
        {
          "output_type": "stream",
          "text": "[1, 2, 3, 4, 5, 6, 7, 8, 9]\n9\n[3, 2, 1, 4, 5, 6, 7, 8, 9]\n[3, 2, 5, 4, 1, 6, 7, 8, 9]\n[3, 2, 5, 4, 7, 6, 1, 8, 9]\n[3, 2, 5, 4, 7, 6, 9, 8, 1]\n[3, 2, 5, 4, 7, 6, 9, 8, 1]\n",
          "name": "stdout"
        }
      ]
    },
    {
      "metadata": {},
      "cell_type": "markdown",
      "source": "Ejercicio 5: Escribir una función para devolver la posición que ocupa un valor pasado como\nparámetro, utilizando búsqueda secuencial en una lista desordenada. La función\ndebe devolver -1 si el elemento no se encuentra en la lista."
    },
    {
      "metadata": {
        "trusted": true
      },
      "cell_type": "code",
      "source": "#Ejercicio 5: Escribir una función para devolver la posición que ocupa un valor pasado como parámetro,\n#utilizando búsqueda secuencial en una lista desordenada.\n#La función debe devolver -1 si el elemento no se encuentra en la lista.\n\nv = [1, 3, 2, 4, 3, 5, 4, 7]\nb = 3\nlar = len(v)\ncount = 0\nprint(v)\nprint(lar)\nfor i in range(lar - 1):\n    if b == v[i]:\n        count = count + 1\n        print(\"el valor se encuentra en la posicion: \", i)\nif count == 0:\n    print(\"el valor no se encuentra\")\n\n    ",
      "execution_count": null,
      "outputs": []
    },
    {
      "metadata": {},
      "cell_type": "markdown",
      "source": "Ejercicio 6: Ídem anterior, utilizando búsqueda binaria sobre una lista ordenada."
    },
    {
      "metadata": {
        "trusted": true
      },
      "cell_type": "code",
      "source": "def dolist():\n    listex=[]\n    nro=int(input(\"ingrese nro: \"))\n    while nro!=-1:\n        if nro>=0:\n            listex.append(nro)\n            nro=int(input(\"ingrese nro: \"))\n        else:\n            if nro==-1:\n                return (listex)\n            else:\n                print(\"nro no valido\")\n                nro=int(input(\"ingrese nro: \"))\n    return listex\n            \ndef posicion(a,b):\n    aum=0\n    i=0\n    pos=[]\n    if len(a)>0:\n        while i<len(a):\n            if (a[i])==b:\n                pos.append(i+1)\n                i=i+1\n            else:\n                i=i+1\n        return pos\n    else:\n        i=\"Lista sin elementos para encontrar\"\n    return i\n\nres=dolist()\norden=int(input(\"ingrese valor de lista para saber ubicación: \"))\nfuncion=posicion(res,orden)\nprint (res)\nprint (funcion)\n\n    ",
      "execution_count": 2,
      "outputs": [
        {
          "output_type": "stream",
          "name": "stdout",
          "text": "ingrese nro: 1\ningrese nro: 3\ningrese nro: 2\ningrese nro: 4\ningrese nro: 3\ningrese nro: 5\ningrese nro: 3\ningrese nro: -1\ningrese valor de lista para saber ubicación: 3\n[1, 3, 2, 4, 3, 5, 3]\n[2, 5, 7]\n"
        }
      ]
    },
    {
      "metadata": {},
      "cell_type": "markdown",
      "source": "Ejercicio 7: Una escuela necesita conocer cuántos alumnos cumplen años en cada mes del\naño, con el propósito de ofrecerles un agasajo especial en su día. Desarrollar un\nprograma que lea el número de legajo y fecha de nacimiento (día, mes y año) de\ncada uno de los alumnos que concurren a dicha escuela. La carga finaliza con un\nnúmero de legajo igual a -1. Emitir un informe donde aparezca -mes por mescuántos alumnos cumplen años a lo largo del año. \nImprimir también una leyenda\nque indique cuál es el mes con mayor cantidad de cumpleaños"
    },
    {
      "metadata": {
        "trusted": true
      },
      "cell_type": "code",
      "source": "#Ejercicio 7: Una escuela necesita conocer cuántos alumnos cumplen años en cada mes del año, con el propósito de ofrecerles un agasajo especial en su día.\n#Desarrollar un programa que lea el número de legajo y fecha de nacimiento (día, mes y año) de cada uno de los alumnos que concurren a dicha escuela.\n#La carga finaliza con un número de legajo igual a -1.\n#Emitir un informe donde aparezca -mes por mes- cuántos alumnos cumplen años a lo largo del año.\n#Imprimir también una leyenda que indique cuál es el mes con mayor cantidad de cumpleaños.\n\n#Funcion generar lista:\ndef genLista():\n    #creo una lista en blanco con los 12 meses\n    lista = [0, 0, 0, 0 ,0 , 0 ,0 ,0 ,0 ,0, 0, 0]\n    #Introduzco los legajos\n    leg = int(input(\"Ingrese el numero de legajo(-1 para terminar): \"))\n    if leg == -1:\n        #no se cargo nada todavia\n        print(\"No se empezaron a cargar datos\")\n    else:\n        while leg != -1:\n            #Ingreso las fechas\n            print(\"Ingrese la fecha de nacimiento\")\n            dia = int(input(\"Ingrese el dia de nacimiento: \"))\n            mes = int(input(\"Ingrese el mes de nacimiento: \"))\n            año = int(input(\"Ingrese el año de nacimiento: \"))\n            lista[mes - 1] += 1\n            leg = int(input(\"Ingrese el numero de legajo(-1 para terminar): \"))\n        return lista\n\n#Funcion comparar valores:\ndef maximovalores(lista):\n    max = 0\n    for i in range(len(lista)):\n        if lista[i] >= max:\n            max = lista[i]\n            k = i\n    return max, k\n            \n\n#Programa Principal:\nlista = genLista()\nprint(lista)\nmayor, mes = maximovalores(lista)\n#informe:\nfor i in range(len(lista)):\n    print(\"La cantidad de alumnos que cumplen en el mes\", i + 1, \" son: \", lista[i])\nprint(\"El mes con mayor cantidad de cumpleaños fue el mes: \", mes + 1, \"con \", mayor)\n    \n",
      "execution_count": null,
      "outputs": []
    },
    {
      "metadata": {},
      "cell_type": "markdown",
      "source": "Ejercicio 8: Rellenar una lista con números enteros entre 0 y 100 obtenidos al azar e imprimir \nel valor mínimo y el lugar que ocupa. Tener en cuenta que el mínimo puede\nestar repetido, en cuyo caso deberán mostrarse todas las posiciones que ocupe.\nLa carga de datos termina cuando se obtenga un 0 como número al azar, el que\nno deberá cargarse en la lista.\n"
    },
    {
      "metadata": {
        "trusted": true
      },
      "cell_type": "code",
      "source": "#Ejercicio 8: Rellenar una lista con números enteros entre 0 y 100 obtenidos al azar e imprimir el valor mínimo y el lugar que ocupa.\n#Tener en cuenta que el mínimo puede estar repetido, en cuyo caso deberán mostrarse todas las posiciones que ocupe.\n#La carga de datos termina cuando se obtenga un 0 como número al azar, el que no deberá cargarse en la lista.\n\nimport random\n#Funcion generar lista:\ndef genLista():\n    #creo una lista vacia\n    lista = []\n    i = 0\n    lista.append(random.randint(0,100))\n    #le doy valores hasta el 0:\n    while i < len(lista) and lista[i] != 0:\n        lista.append(random.randint(0,100))\n        i += 1\n    lista.pop(len(lista)-1)\n    return lista\n\n#Funcion hallar minimo:\ndef minimo(lista):\n    #Establezco el minimo como el primer valor\n    min = lista[0]\n    for i in range(len(lista)):\n        #Si encentro un valor mas bajo, actualizo el minimo\n        if lista[i] < min:\n            min = lista[i]\n    return min\n#Funcion lista con los minimos:\ndef listaMin(lista,min):\n    #creo una lista vacia donde pondre las posiciones\n    pos = []\n    i = 0\n    while i < len(lista):\n        #busco en la lista los minimos y si los encuentra los agrego a mi lista.\n        if lista[i] == min:\n            pos.append(i)\n        i += 1\n    return pos\n\n#Programa Principal:\nnumeros = genLista()\nprint(numeros)\n#Hallo los mínimos y sus posiciones:\nmin = minimo(numeros)\n#generó la lista con las posiciones en la que se encuentra el mínimo:\nlistaPos = listaMin(numeros, min)\nprint(\"El valor mínimo\", min,\" de la lista se encuentra en las posiciones: \", listaPos)",
      "execution_count": null,
      "outputs": []
    },
    {
      "metadata": {},
      "cell_type": "markdown",
      "source": "Ejercicio 9: Dado una lista de N números (por ejemplo 5), devolver una lista de N-1 valores\nbooleanos, tal que cada valor de este último arreglo corresponde al resultado de\nla comparación de los pares de valores consecutivos del primer arreglo. El valor\nbooleano es True si el primer elemento del par es menor o igual que el siguiente, y False si no lo es. \nEjemplo:\nLista original: \n4 2 8 8 6\nResultado:\nF T T F\n"
    },
    {
      "metadata": {
        "trusted": true
      },
      "cell_type": "code",
      "source": "#Ejercicio 9: Dado una lista de N números (por ejemplo 5), devolver una lista de N-1 valores booleanos,\n#tal que cada valor de este último arreglo corresponde al resultado de la comparación de los pares de valores consecutivos \n#del primer arreglo.\n#El valor booleano es True si el primer elemento del par es menor o igual que el siguiente, y False si no lo es\n\n#Funcion generar lista:\ndef genLista():\n    #creamos lista vacia\n    lista = []\n    #pedimos numero\n    n = int(input(\"Ingrese cuantos numeros tendra su lista: \"))\n    for i in range(n):\n        #procesar dato\n        nro = int(input(\"Ingrese un numero: \"))\n        lista.append(nro)\n    return lista\n\n#Funcion comparacion valores:\ndef compValores(lista):\n    #creo la nueva lista\n    bool = []\n    for i in range(len(lista) - 1):\n        #comparo los valores siguientes\n        if lista[i] <= lista[i + 1]:\n            bool.append(True)\n        else:\n            bool.append(False)\n    return bool\n#Programa Principal:\nnumeros = genLista()\nprint(numeros)\nlistaBool = compValores(numeros)\nprint(listaBool)\n\n\n        ",
      "execution_count": null,
      "outputs": []
    },
    {
      "metadata": {},
      "cell_type": "markdown",
      "source": "Ejercicio 10: Cargar dos listas de números A y B. Se solicita construir e imprimir tres nuevas\nlistas C, D y E que contengan:\n· La concatenación de los valores pares de A con los impares de B.*\n· La concatenación de los valores pares de A con el reverso de los valores\npares de B. (\"valores pares\" o \"valores impares\" se refiere a los elementos propiamente dichos y no a sus posiciones).\n· La intercalación de los elementos de A y B.\n"
    },
    {
      "metadata": {
        "trusted": true
      },
      "cell_type": "code",
      "source": "#Ejercicio 10: Cargar dos listas de números A y B. Se solicita construir e imprimir tres nuevas listas que contengan:\n#• La concatenación de los valores pares de A con los impares de B.*\n#• La concatenación de los valores pares de A con el reverso de los valores pares de B. (\"valores pares\" o \"valores impares\" se refiere a los elementos propiamente dichos y no a sus posiciones).\n#• La intercalación de los elementos de A y B.\n\n#Funcion generar lista:\ndef genLista():\n    #lista vacia\n    lista = []\n    #condicion para el while que no sea -1\n    nro = int(input(\"Ingrese un numero entero(-1 finalizar): \"))\n    while nro != -1:\n        lista.append(nro)\n        nro = int(input(\"Ingrese un numero entero(-1 finalizar): \"))\n    return lista\n\n#Funcion lista 1:\ndef concatenacion1(lista1,lista2):\n    #creo la lista concatenacion1\n    conc1 = []\n    for i in range(len(lista1)):\n        #si el valor es par lo agrego\n        if lista1[i] % 2 == 0:\n            conc1.append(lista1[i])\n    for j in range(len(lista2)):\n        #si el valor es impar lo agrego\n        if lista2[j] % 2 != 0:\n            conc1.append(lista2[j])\n    return conc1\n#Funcion lista2:\ndef concatenacion2(lista1,lista2):\n    #creo una lista concatenacion2\n    conc2 = []\n    numinverso = 0\n    for i in range(len(lista1)):\n        #si el valor es par lo agrego\n        if lista1[i] % 2 == 0:\n            conc2.append(lista1[i])\n    for j in range(len(lista2)):\n        #analizo los valores pares de B\n        if lista2[j] % 2 == 0:\n            #guardo el valor de la lista para no perder el valor\n            aux = lista2[j]\n            #revierto el valor par de B\n            while lista2[j] != 0:\n                dig = lista2[j] % 10\n                lista2[j] //= 10\n                numinverso = (numinverso * 10) + dig\n            #llamo a la funcion auxiliar para devolverle el valor original a lista2[j]\n            lista2[j] = aux\n            #agrego el inverso\n            if numinverso == lista2[j]:\n                #si el numero solo tiene un digito lo multiplico por 10 (ej: 02 , invertido quedaría 20)\n               numinverso *= 10\n               conc2.append(numinverso)\n            else:\n                conc2.append(numinverso)\n            numinverso = 0\n    return conc2\n\n#Funcion lista3(concatenación de los elementos intercalados):\ndef intercalar(lista1,lista2):\n    #creo una lista vacia\n    inter = []\n    i = 0\n    j = 0\n    while i < len(lista1) and j < len(lista2):\n        #recorre la lista desde 0 hasta sus ultimos elementos y los agrega a la lista creada intercalar\n        inter.append(lista1[i])\n        inter.append(lista2[j])\n        i += 1\n        j += 1\n    return inter\n           \n    \n#Programa Principal:\nprint(\"Ingrese los valores para crear la lista A\")\nA = genLista()\nprint(\"Ingrese los valores para crear la lista B\")\nB = genLista()\nprint(\"lista A: \", A)\nprint(\"lista B: \", B)\nr1 = concatenacion1(A,B)\nprint(\"La concatenacion de los pares de A y los impares de B: \",r1)\nr2 = concatenacion2(A,B)\nprint(\"La concatenación de los valores pares de A con el reverso de los valores pares de B: \", r2)\nr3 = intercalar(A,B)\nprint(\"La intercalación de los elementos de A y B: \", r3)\n\n\n        ",
      "execution_count": 4,
      "outputs": [
        {
          "output_type": "stream",
          "text": "Ingrese los valores para crear la lista A\nIngrese un numero entero(-1 finalizar): 4\nIngrese un numero entero(-1 finalizar): 3\nIngrese un numero entero(-1 finalizar): 2\nIngrese un numero entero(-1 finalizar): 1\nIngrese un numero entero(-1 finalizar): -1\nIngrese los valores para crear la lista B\nIngrese un numero entero(-1 finalizar): 5\nIngrese un numero entero(-1 finalizar): 4\nIngrese un numero entero(-1 finalizar): 3\nIngrese un numero entero(-1 finalizar): 2\nIngrese un numero entero(-1 finalizar): -1\nlista A:  [4, 3, 2, 1]\nlista B:  [5, 4, 3, 2]\nLa concatenacion de los pares de A y los impares de B:  [4, 2, 5, 3]\nLa concatenación de los valores pares de A con el reverso de los valores pares de B:  [4, 2, 40, 20]\nLa intercalación de los elementos de A y B:  [4, 5, 3, 4, 2, 3, 1, 2]\n",
          "name": "stdout"
        }
      ]
    },
    {
      "metadata": {},
      "cell_type": "markdown",
      "source": "### Ejercicio 11: Dada una lista ordenada de números llamada A y un nuevo número N, desarrollar un programa que agregue el elemento N dentro de la lista A, respetando el\nordenamiento existente. El programa deberá detectar automáticamente si el ordenamiento es ascendente o descendente antes de realizar la inserción. "
    },
    {
      "metadata": {
        "trusted": true
      },
      "cell_type": "code",
      "source": "#Ejercicio 11: Dada una lista ordenada de números llamada A y un nuevo número N, desarrollar un programa que agregue el elemento N dentro de la lista A, respetando el ordenamiento existente.\n#El programa deberá detectar automáticamente si el ordenamiento es ascendente o descendente antes de realizar la inserción.\n\n#Funcion generar lista:\ndef genLista():\n    #lista vacia\n    lista = []\n    #condicion para el while que no sea -1\n    nro = int(input(\"Ingrese un numero entero(-1 finalizar): \"))\n    while nro != -1:\n        lista.append(nro)\n        nro = int(input(\"Ingrese un numero entero(-1 finalizar): \"))\n    return lista\n\n#Funcion ordenamiento ascendente(menor a mayor):\ndef metodoburbujeo1(lista):\n    ordenado = 1\n    while ordenado == 1:\n        ordenado = 0\n        for i in range(len(lista)-1):\n            if lista[i] > lista[i + 1]:\n                aux = lista[i]\n                lista[i] = lista[i + 1]\n                lista[i + 1] = aux\n                ordenado = 1\n    return lista\n\n#Metodo ordenamiento descendiente(mayor a menor):\ndef metodoburbujeo2(lista):\n    ordenado = 1\n    while ordenado == 1:\n        ordenado = 0\n        for i in range(len(lista)-1):\n            if lista[i] < lista[i + 1]:\n                aux = lista[i]\n                lista[i] = lista[i + 1]\n                lista[i + 1] = aux\n                ordenado = 1\n    return lista\n        \n\n\n#Programa principal:\nnumeros = genLista()\nprint(\"La lista sin el numero agregado: \",numeros)\nnro = int(input(\"Ingrese un numero para agregarlo a la lista: \"))\nnumeros.append(nro)\n#ordeno de forma ascendente\ninters = metodoburbujeo1(numeros)\nprint(\"En ordenamiento ascendente es: \", inters)\ninters = metodoburbujeo2(inters)\n#ordeno de forma descendiente\nprint(\"En ordenamiento descendiente es: \",inters)\n",
      "execution_count": 1,
      "outputs": [
        {
          "output_type": "stream",
          "name": "stdout",
          "text": "Ingrese un numero entero(-1 finalizar): 12\nIngrese un numero entero(-1 finalizar): 23\nIngrese un numero entero(-1 finalizar): 34\nIngrese un numero entero(-1 finalizar): 45\nIngrese un numero entero(-1 finalizar): -1\nLa lista sin el numero agregado:  [12, 23, 34, 45]\nIngrese un numero para agregarlo a la lista: 33\nEn ordenamiento ascendente es:  [12, 23, 33, 34, 45]\nEn ordenamiento descendiente es:  [45, 34, 33, 23, 12]\n"
        }
      ]
    },
    {
      "metadata": {},
      "cell_type": "markdown",
      "source": "Ejercicio 12: Leer una lista de números V. Luego se solicita:\n\n· Calcular el producto de los elementos de subíndice par y dividirlo por la\nsuma de los elementos de subíndice impar, sólo si esta suma es distinta\nde cero. Imprimir la lista leída y el resultado calculado, o un mensaje de\nerror en caso de no poder realizar la operación.\n\n· Generar e imprimir otra lista tal que su primer elemento contenga la\nsuma del primero más el último elemento de la lista V; el segundo elemento contenga la suma del segundo más el penúltimo de V, etc. La\nnueva lista contendrá la mitad de los elementos de la lista original.\n\n· Imprimir un listado de aquellos elementos de V que cumplan con la condición de tener iguales sus dos elementos laterales (el anterior y el siguiente). Si ninguno cumple esta condición, se imprimirá una leyenda\naclaratoria. Considerar que los extremos de la lista se encuentran unidos, de modo que el último elemento se encuentra antes que el primero,\ny que el primer elemento se encuentra después del último.\n"
    },
    {
      "metadata": {
        "trusted": true
      },
      "cell_type": "code",
      "source": "#Ejercicio 12: Leer una lista de números V. Luego se solicita:\n\n#• Calcular el producto de los elementos de subíndice par y dividirlo por la suma de los elementos de subíndice impar, \n#sólo si esta suma es distinta de cero.\n\n#Imprimir la lista leída y el resultado calculado, o un mensaje de error en caso de no poder realizar la operación. \n \n#• Generar e imprimir otra lista tal que su primer elemento contenga la suma del primero más el último elemento \n#de la lista V; el segundo elemento contenga la suma del segundo más el penúltimo de V, etc.\n#La nueva lista contendrá la mitad de los elementos de la lista original. \n \n#• Imprimir un listado de aquellos elementos de V que cumplan con la condición de tener iguales sus dos elementos \n#laterales (el anterior y el siguiente).\n\n#Si ninguno cumple esta condición, se imprimirá una leyenda aclaratoria.\n\n#Considerar que los extremos de la lista se encuentran unidos, de modo que el último elemento se encuentra \n#antes que el primero, y que el primer elemento se encuentra después del último.\n\n\n#Funcion generarlista:\ndef genLista():\n    #creo una lista vacia\n    V = []\n    nro = int(input(\"Ingrese un numero (-1 para finalizar): \"))\n    while nro != -1:\n        #genero numeros mientras sean distintos a -1\n        V.append(nro)\n        nro = int(input(\"Ingrese un numero (-1 para finalizar): \"))\n    return V\n\n#Funcion 1:\ndef sumaC(lista):\n    #suma de los impares\n    suma = 0\n    #producto de los enteros\n    prod = 1\n    for i in range(len(lista)):\n        if i % 2 == 0:\n            prod *= lista[i]\n        else:\n            suma += lista[i]\n    if suma != 0:\n        r = prod / suma\n        return r\n    else:\n        print(\"La suma de los numeros de subindice impar es 0\")\n    \n        \n#Funcion 2:\ndef sumaRara(lista):\n    #genero una lista\n    rara = []\n    i = 0\n    k = len(lista) - 1\n    while i <= (len(lista)//2) and k >= (len(lista)//2):\n        suma = lista[i] + lista[k]\n        rara.append(suma)\n        suma = 0\n        i += 1\n        k -= 1\n    return rara\n\n#Funcion 3:\ndef elemLaterales(lista):\n    #genero una lista nueva\n    nova = []\n    #busqueda secuencial comparando elementos\n    for i in range(0, len(lista)):\n        if i==0: #es el primer elemento de la lista\n            if lista[i] == lista[len(lista)-1] and lista[i] == lista[i+1]:\n                nova.append(lista[i])\n                \n        elif i == len(lista)-1 : #Es el ultimo elemento de la lista\n            if lista[i] == lista[i-1] and lista[i] == lista[0] :\n                nova.append(lista[i])\n        else: #es un valor cualquiera\n            if lista[i-1] == lista[i] and lista[i]==lista[i+1]:\n                nova.append(lista[i])\n    return nova\n                \n        \n#Programa principal:\nnumeros = genLista()\nprint(numeros)\nr1 = sumaC(numeros)\nprint(r1)\nr2 = sumaRara(numeros)\nprint(\"La suma del primer elemento con el ultimo, el segundo con el anteultimo y etc es: \",r2)\nr3 = elemLaterales(numeros)\nprint(\"La lista con los elementos laterales es: \", r3)\n    ",
      "execution_count": 5,
      "outputs": [
        {
          "output_type": "stream",
          "name": "stdout",
          "text": "Ingrese un numero (-1 para finalizar): 3\nIngrese un numero (-1 para finalizar): 4\nIngrese un numero (-1 para finalizar): 2\nIngrese un numero (-1 para finalizar): 5\nIngrese un numero (-1 para finalizar): -1\n[3, 4, 2, 5]\n0.6666666666666666\nLa suma del primer elemento con el ultimo, el segundo con el anteultimo y etc es:  [8, 6]\nLa lista con los elementos laterales es:  []\n"
        }
      ]
    },
    {
      "metadata": {},
      "cell_type": "markdown",
      "source": "Ejercicio 13: Realizar un programa que permita ingresar números en una lista, finalizando la\nlectura con -1. Informar si la secuencia de elementos ingresada es ascendente,\ndescendente, todos sus valores son iguales o se encuentra desordenada. "
    },
    {
      "metadata": {
        "trusted": true
      },
      "cell_type": "code",
      "source": "#Ejercicio 13: Realizar un programa que permita ingresar números en una lista, finalizando la lectura con -1.\n#Informar si la secuencia de elementos ingresada es ascendente, descendente, todos sus valores son iguales o \n#se encuentra desordenada.\n\n#funcion generar lista\ndef genLista():\n    #creo una lista vacia\n    lista = []\n    nro = int(input(\"Ingrese un numero (-1 para terminar): \"))\n    #analizo el nro para ver si se cargo algo\n    if nro == -1:\n        print(\"todavia no cargo ningún número a la lista\")\n    else:\n        while nro != -1:\n            #proceso el numero y si es != -1 lo agrego a la lista\n            lista.append(nro)\n            nro = int(input(\"Ingrese un numero (-1 para terminar): \"))\n        return lista\n\n#busqueda secuencial descendente:\ndef bssecDesc(lista):\n    #comparo numero a numero\n    for i in range(len(lista) - 1):\n        for k in range(i + 1, len(lista)):\n            #si el primero es mayor que el segundo es verdadero\n            if lista[i] > lista[k]:\n                z = True\n            else:\n                #si no lo es, quiero que devuelva un falso y termine el ciclo\n                z = False\n                return z\n    return z\n#busqueda secuencial valores iguales:\ndef bssecIgual(lista):\n    #comparo numero a numero\n    for i in range(len(lista) - 1):\n        for k in range(i + 1, len(lista)):\n            #si el primero es igual que el segundo es verdadero\n            if lista[i] == lista[k]:\n                z = True\n            else:\n                #si no lo es, quiero que devuelva un falso y termine el ciclo\n                z = False\n                return z\n    return z\n\n\n#busqueda secuencial ascendente:\ndef bssecAsc(lista):\n    #comparo numero a numero\n    for i in range(len(lista) - 1):\n        for k in range(i + 1, len(lista)):\n            #si el primero es menor que el segundo es verdadero\n            if lista[i] < lista[k]:\n                z = True\n            else:\n                #si no lo es, quiero que devuelva un falso y termine el ciclo\n                z = False\n                return z\n    return z\n\n#Programa Principal:\n#genero una lista\nnumeros = genLista()\n#analizo si esa lista es descendente\nif bssecDesc(numeros) == True:\n    print(\"La lista es descendente\")\n#analizo si es ascendente\nelif bssecAsc(numeros) == True:\n    print(\"La lista es ascendente\")\n#analizo si todos sus valores son iguales\nelif bssecIgual(numeros) == True:\n    print(\"Todos sus valores son iguales\")\nelse:\n    #si no es ninguna esta desordenada\n    print(\"La lista está desordenada\")\n\n        ",
      "execution_count": 7,
      "outputs": [
        {
          "output_type": "stream",
          "name": "stdout",
          "text": "Ingrese un numero (-1 para terminar): 1\nIngrese un numero (-1 para terminar): 2\nIngrese un numero (-1 para terminar): 3\nIngrese un numero (-1 para terminar): 4\nIngrese un numero (-1 para terminar): 5\nIngrese un numero (-1 para terminar): -1\nLa lista es ascendente\n"
        }
      ]
    },
    {
      "metadata": {},
      "cell_type": "markdown",
      "source": "Ejercicio 14: Eliminar de una lista de números enteros los valores que se encuentren en una\nsegunda lista. Imprimir la lista original, la lista de valores a eliminar y la lista\nresultante."
    },
    {
      "metadata": {
        "trusted": true
      },
      "cell_type": "code",
      "source": "#Ejercicio 14: Eliminar de una lista de números enteros los valores que se encuentren en una segunda lista.\n#Imprimir la lista original, la lista de valores a eliminar y la lista resultante.\n\n#funcion generar lista\ndef genLista():\n    #creo una lista vacia\n    lista = []\n    nro = int(input(\"Ingrese un numero (-1 para terminar): \"))\n    #analizo el nro para ver si se cargo algo\n    if nro == -1:\n        print(\"todavia no cargo ningún número a la lista\")\n    else:\n        while nro != -1:\n            #proceso el numero y si es != -1 lo agrego a la lista\n            lista.append(nro)\n            nro = int(input(\"Ingrese un numero (-1 para terminar): \"))\n        return lista\n    \n#funcion lista resultante\ndef listaFinal(lista1,lista2):\n    #creo la lista resultante con los valores de la original\n    k = 0\n    while k < len(lista2):\n    #si ambos valores son iguales en la lista quiero que se eliminé el valor de la lista creada\n        for x in range(len(lista1)):\n            if lista1[x] == lista2[k]:\n                #borro el valor una vez que lo encuentro y lo añado al final para que no haya errores de rango\n                lista1.pop(x)\n                lista1.append(lista2[k])\n        k += 1\n    for i in range(len(lista2)):\n        #borro los ultimos valores que agregué\n        lista1.pop()\n    return lista1\n\n\n\n#Programa principal:\n#creo la lista original\nprint(\"A continuación creará la lista original\")\noriginal = genLista()\n#creo la lista con los valores a suprimir\nprint(\"A continuación creará la lista con los valores a suprimir de la original\")\nsuprimir = genLista()\n#imprimo la lista original ya que si no, se perderán sus valores\nprint(\"La lista original :\" , original)\n#llamo a la funcion para mi lista resultante\nresultante = listaFinal(original,suprimir)\nprint(\"La lista con valores a suprimir : \", suprimir)\nprint(\"La lista resultante: \", resultante)\n\n\n            \n    ",
      "execution_count": 8,
      "outputs": [
        {
          "output_type": "stream",
          "text": "A continuación creará la lista original\nIngrese un numero (-1 para terminar): 4\nIngrese un numero (-1 para terminar): 3\nIngrese un numero (-1 para terminar): 2\nIngrese un numero (-1 para terminar): 1\nIngrese un numero (-1 para terminar): -1\nA continuación creará la lista con los valores a suprimir de la original\nIngrese un numero (-1 para terminar): 1\nIngrese un numero (-1 para terminar): 2\nIngrese un numero (-1 para terminar): 5\nIngrese un numero (-1 para terminar): 6\nIngrese un numero (-1 para terminar): -1\nLa lista original : [4, 3, 2, 1]\nLa lista con valores a suprimir :  [1, 2, 5, 6]\nLa lista resultante:  []\n",
          "name": "stdout"
        }
      ]
    },
    {
      "metadata": {},
      "cell_type": "raw",
      "source": "Ejercicio 15: Leer dos listas de números M y N, ambas ordenadas de menor a mayor. Generar\ne imprimir una tercera lista que resulte de intercalar los elementos de M y N. La\nnueva lista también debe quedar ordenada, sin utilizar ningún método de ordenamiento."
    },
    {
      "metadata": {
        "trusted": true
      },
      "cell_type": "code",
      "source": "#Ejercicio 15: Leer dos listas de números M y N, ambas ordenadas de menor a mayor.\n#Generar e imprimir una tercera lista que resulte de intercalar los elementos de M y N. La nueva lista también debe quedar\n#ordenada, sin utilizar ningún método de ordenamiento.\n\n#funcion generar lista\ndef genLista():\n    #creo una lista vacia\n    lista = []\n    nro = int(input(\"Ingrese un numero (-1 para terminar): \"))\n    #analizo el nro para ver si se cargo algo\n    if nro == -1:\n        print(\"todavia no cargo ningún número a la lista\")\n    else:\n        while nro != -1:\n            #proceso el numero y si es != -1 lo agrego a la lista\n            lista.append(nro)\n            nro = int(input(\"Ingrese un numero (-1 para terminar): \"))\n        return lista\n    \n#funcion ordenamiento:\ndef secuencial(lista):\n    for i in range(len(lista)-1):\n        for k in range(i + 1, len(lista)):\n            if lista[i] > lista[k]:\n                aux = lista[i]\n                lista[i] = lista[k]\n                lista[k] = aux\n    return lista\n\n#funcion intercalar:\ndef intercalar(lista1, lista2):\n    r = []\n    i = 0\n    k = 0\n    while i < len(lista1) and k < len(lista2):\n        r.append(lista1[i])\n        r.append(lista2[k])\n        i += 1\n        k += 1\n    return r\n\n#Programa principal:\nprint(\"Se creara la lista M\")\nM = genLista()\nprint(\"Se creara la lista N\")\nN = genLista()\nMord = secuencial(M)\nNord = secuencial(N)\nprint(\"La lista M: \", Mord)\nprint(\"La lista N: \", Nord)\nrta = intercalar(Mord,Nord)\nprint(\"La lista intercalada es: \", rta)",
      "execution_count": 9,
      "outputs": [
        {
          "output_type": "stream",
          "text": "Se creara la lista M\nIngrese un numero (-1 para terminar): 5\nIngrese un numero (-1 para terminar): 4\nIngrese un numero (-1 para terminar): 3\nIngrese un numero (-1 para terminar): 2\nIngrese un numero (-1 para terminar): 1\nIngrese un numero (-1 para terminar): -1\nSe creara la lista N\nIngrese un numero (-1 para terminar): 9\nIngrese un numero (-1 para terminar): 8\nIngrese un numero (-1 para terminar): 7\nIngrese un numero (-1 para terminar): 6\nIngrese un numero (-1 para terminar): 5\nIngrese un numero (-1 para terminar): -1\nLa lista M:  [1, 2, 3, 4, 5]\nLa lista N:  [5, 6, 7, 8, 9]\nLa lista intercalada es:  [1, 5, 2, 6, 3, 7, 4, 8, 5, 9]\n",
          "name": "stdout"
        }
      ]
    },
    {
      "metadata": {},
      "cell_type": "raw",
      "source": "Ejercicio 16: Desarrollar un programa que genere un número entero al azar de cuatro cifras y\nproponerle al usuario que lo descubra, ingresando valores repetidamente hasta\nhallarlo. En cada intento el programa mostrará mensajes indicando si el número\ningresado es mayor o menor que el valor secreto. Permitir que el usuario abandone al ingresar -1. Informar la cantidad de intentos realizada al terminar el juego, haciendo que el usuario ingrese su nombre si mejoró la mejor marca de intentos obtenida hasta el momento. Luego mostrar la lista de los 5 mejores puntajes y preguntar si se desea jugar otra vez, reiniciando el juego en caso afirmativo."
    },
    {
      "metadata": {
        "trusted": true
      },
      "cell_type": "code",
      "source": "#genere un número entero al azar de cuatro cifras y\n#proponerle al usuario que lo descubra, ingresando valores repetidamente hasta hallarlo. \n#En cada intento el programa mostrará mensajes indicando si el número ingresado es mayor o menor que el valor secreto. \n#Permitir que el usuario abandone al ingresar -1. \n#Informar la cantidad de intentos realizada al terminar el juego, \n#haciendo que el usuario ingrese su nombre si mejoró la mejor marca de intentos obtenida hasta el momento. \n#Luego mostrar la lista de los 5 mejores puntajes y\n#preguntar si se desea jugar otra vez reiniciando el juego en caso afirmativo.\n\nimport random\n\ndef ordenarank(ran):\n    largo = len(ran)\n    print(len(ran))\n    for i in range(1,largo-1,2):\n        for j in range(i+2,largo,2):\n            if ran[i] > ran[j]:\n                a = ran[i]\n                b = ran[j]\n                c = ran[i-1]\n                d = ran[j-1]\n                ran[i] = b\n                ran[j] = a\n                ran[i-1] = d\n                ran[j-1] = c \n    return ran\n\ndef juego(ranking):\n    secreto = random.randint(0,1)\n    print(\"ingrese un valor de 4 cifras, o -1 para abandonar el juego\")\n    intento = int(input())\n    qintento = 1\n    while intento != secreto:\n        qintento = qintento + 1\n        if intento > secreto:\n            print(\"el valor que ingreso es superior\")\n        else:\n            print(\"el valor que ingreso es inferior\")\n        print(\"ingrese un valor de 4 cifras, o -1 para abandonar el juego\")\n        intento = int(input())\n    print(\"la cantidad de intentos fue: \", qintento)\n    print(\"ingrese su nombre: \")\n    nombre = str(input())\n    ranking.append(nombre)\n    ranking.append(qintento)\n    print(\"SUS PUNTOS:\",nombre, qintento)\n\n    \n    return ranking\n\nrank = []\nprint(\"Quiere comenzar un nuevo juego? -1 (NO) 1 (SI)\")\nrespuesta=int(input())\nwhile respuesta == 1:\n    nuevo = juego(rank)\n    ranki = ordenarank(rank)\n    print(\"MEJORES JUGADDORES: \",ranki)\n    print(\"Quiere comenzar un nuevo juego? -1 (NO) 1 (SI)\")\n    respuesta=int(input())",
      "execution_count": 10,
      "outputs": [
        {
          "output_type": "stream",
          "text": "Quiere comenzar un nuevo juego? -1 (NO) 1 (SI)\n1\ningrese un valor de 4 cifras, o -1 para abandonar el juego\n4322\nel valor que ingreso es superior\ningrese un valor de 4 cifras, o -1 para abandonar el juego\n3211\nel valor que ingreso es superior\ningrese un valor de 4 cifras, o -1 para abandonar el juego\n2121\nel valor que ingreso es superior\ningrese un valor de 4 cifras, o -1 para abandonar el juego\n1111\nel valor que ingreso es superior\ningrese un valor de 4 cifras, o -1 para abandonar el juego\n1000\nel valor que ingreso es superior\ningrese un valor de 4 cifras, o -1 para abandonar el juego\n0212\nel valor que ingreso es superior\ningrese un valor de 4 cifras, o -1 para abandonar el juego\n0000\nla cantidad de intentos fue:  7\ningrese su nombre: \n",
          "name": "stdout"
        },
        {
          "output_type": "error",
          "ename": "KeyboardInterrupt",
          "evalue": "",
          "traceback": [
            "\u001b[0;31m---------------------------------------------------------------------------\u001b[0m",
            "\u001b[0;31mKeyboardInterrupt\u001b[0m                         Traceback (most recent call last)",
            "\u001b[0;32m~/anaconda3_501/lib/python3.6/site-packages/ipykernel/kernelbase.py\u001b[0m in \u001b[0;36m_input_request\u001b[0;34m(self, prompt, ident, parent, password)\u001b[0m\n\u001b[1;32m    883\u001b[0m             \u001b[0;32mtry\u001b[0m\u001b[0;34m:\u001b[0m\u001b[0;34m\u001b[0m\u001b[0m\n\u001b[0;32m--> 884\u001b[0;31m                 \u001b[0mident\u001b[0m\u001b[0;34m,\u001b[0m \u001b[0mreply\u001b[0m \u001b[0;34m=\u001b[0m \u001b[0mself\u001b[0m\u001b[0;34m.\u001b[0m\u001b[0msession\u001b[0m\u001b[0;34m.\u001b[0m\u001b[0mrecv\u001b[0m\u001b[0;34m(\u001b[0m\u001b[0mself\u001b[0m\u001b[0;34m.\u001b[0m\u001b[0mstdin_socket\u001b[0m\u001b[0;34m,\u001b[0m \u001b[0;36m0\u001b[0m\u001b[0;34m)\u001b[0m\u001b[0;34m\u001b[0m\u001b[0m\n\u001b[0m\u001b[1;32m    885\u001b[0m             \u001b[0;32mexcept\u001b[0m \u001b[0mException\u001b[0m\u001b[0;34m:\u001b[0m\u001b[0;34m\u001b[0m\u001b[0m\n",
            "\u001b[0;32m~/anaconda3_501/lib/python3.6/site-packages/jupyter_client/session.py\u001b[0m in \u001b[0;36mrecv\u001b[0;34m(self, socket, mode, content, copy)\u001b[0m\n\u001b[1;32m    802\u001b[0m         \u001b[0;32mtry\u001b[0m\u001b[0;34m:\u001b[0m\u001b[0;34m\u001b[0m\u001b[0m\n\u001b[0;32m--> 803\u001b[0;31m             \u001b[0mmsg_list\u001b[0m \u001b[0;34m=\u001b[0m \u001b[0msocket\u001b[0m\u001b[0;34m.\u001b[0m\u001b[0mrecv_multipart\u001b[0m\u001b[0;34m(\u001b[0m\u001b[0mmode\u001b[0m\u001b[0;34m,\u001b[0m \u001b[0mcopy\u001b[0m\u001b[0;34m=\u001b[0m\u001b[0mcopy\u001b[0m\u001b[0;34m)\u001b[0m\u001b[0;34m\u001b[0m\u001b[0m\n\u001b[0m\u001b[1;32m    804\u001b[0m         \u001b[0;32mexcept\u001b[0m \u001b[0mzmq\u001b[0m\u001b[0;34m.\u001b[0m\u001b[0mZMQError\u001b[0m \u001b[0;32mas\u001b[0m \u001b[0me\u001b[0m\u001b[0;34m:\u001b[0m\u001b[0;34m\u001b[0m\u001b[0m\n",
            "\u001b[0;32m~/anaconda3_501/lib/python3.6/site-packages/zmq/sugar/socket.py\u001b[0m in \u001b[0;36mrecv_multipart\u001b[0;34m(self, flags, copy, track)\u001b[0m\n\u001b[1;32m    466\u001b[0m         \"\"\"\n\u001b[0;32m--> 467\u001b[0;31m         \u001b[0mparts\u001b[0m \u001b[0;34m=\u001b[0m \u001b[0;34m[\u001b[0m\u001b[0mself\u001b[0m\u001b[0;34m.\u001b[0m\u001b[0mrecv\u001b[0m\u001b[0;34m(\u001b[0m\u001b[0mflags\u001b[0m\u001b[0;34m,\u001b[0m \u001b[0mcopy\u001b[0m\u001b[0;34m=\u001b[0m\u001b[0mcopy\u001b[0m\u001b[0;34m,\u001b[0m \u001b[0mtrack\u001b[0m\u001b[0;34m=\u001b[0m\u001b[0mtrack\u001b[0m\u001b[0;34m)\u001b[0m\u001b[0;34m]\u001b[0m\u001b[0;34m\u001b[0m\u001b[0m\n\u001b[0m\u001b[1;32m    468\u001b[0m         \u001b[0;31m# have first part already, only loop while more to receive\u001b[0m\u001b[0;34m\u001b[0m\u001b[0;34m\u001b[0m\u001b[0m\n",
            "\u001b[0;32mzmq/backend/cython/socket.pyx\u001b[0m in \u001b[0;36mzmq.backend.cython.socket.Socket.recv\u001b[0;34m()\u001b[0m\n",
            "\u001b[0;32mzmq/backend/cython/socket.pyx\u001b[0m in \u001b[0;36mzmq.backend.cython.socket.Socket.recv\u001b[0;34m()\u001b[0m\n",
            "\u001b[0;32mzmq/backend/cython/socket.pyx\u001b[0m in \u001b[0;36mzmq.backend.cython.socket._recv_copy\u001b[0;34m()\u001b[0m\n",
            "\u001b[0;32m~/anaconda3_501/lib/python3.6/site-packages/zmq/backend/cython/checkrc.pxd\u001b[0m in \u001b[0;36mzmq.backend.cython.checkrc._check_rc\u001b[0;34m()\u001b[0m\n",
            "\u001b[0;31mKeyboardInterrupt\u001b[0m: ",
            "\nDuring handling of the above exception, another exception occurred:\n",
            "\u001b[0;31mKeyboardInterrupt\u001b[0m                         Traceback (most recent call last)",
            "\u001b[0;32m<ipython-input-10-fd75c599f7c8>\u001b[0m in \u001b[0;36m<module>\u001b[0;34m\u001b[0m\n\u001b[1;32m     53\u001b[0m \u001b[0mrespuesta\u001b[0m\u001b[0;34m=\u001b[0m\u001b[0mint\u001b[0m\u001b[0;34m(\u001b[0m\u001b[0minput\u001b[0m\u001b[0;34m(\u001b[0m\u001b[0;34m)\u001b[0m\u001b[0;34m)\u001b[0m\u001b[0;34m\u001b[0m\u001b[0m\n\u001b[1;32m     54\u001b[0m \u001b[0;32mwhile\u001b[0m \u001b[0mrespuesta\u001b[0m \u001b[0;34m==\u001b[0m \u001b[0;36m1\u001b[0m\u001b[0;34m:\u001b[0m\u001b[0;34m\u001b[0m\u001b[0m\n\u001b[0;32m---> 55\u001b[0;31m     \u001b[0mnuevo\u001b[0m \u001b[0;34m=\u001b[0m \u001b[0mjuego\u001b[0m\u001b[0;34m(\u001b[0m\u001b[0mrank\u001b[0m\u001b[0;34m)\u001b[0m\u001b[0;34m\u001b[0m\u001b[0m\n\u001b[0m\u001b[1;32m     56\u001b[0m     \u001b[0mranki\u001b[0m \u001b[0;34m=\u001b[0m \u001b[0mordenarank\u001b[0m\u001b[0;34m(\u001b[0m\u001b[0mrank\u001b[0m\u001b[0;34m)\u001b[0m\u001b[0;34m\u001b[0m\u001b[0m\n\u001b[1;32m     57\u001b[0m     \u001b[0mprint\u001b[0m\u001b[0;34m(\u001b[0m\u001b[0;34m\"MEJORES JUGADDORES: \"\u001b[0m\u001b[0;34m,\u001b[0m\u001b[0mranki\u001b[0m\u001b[0;34m)\u001b[0m\u001b[0;34m\u001b[0m\u001b[0m\n",
            "\u001b[0;32m<ipython-input-10-fd75c599f7c8>\u001b[0m in \u001b[0;36mjuego\u001b[0;34m(ranking)\u001b[0m\n\u001b[1;32m     41\u001b[0m     \u001b[0mprint\u001b[0m\u001b[0;34m(\u001b[0m\u001b[0;34m\"la cantidad de intentos fue: \"\u001b[0m\u001b[0;34m,\u001b[0m \u001b[0mqintento\u001b[0m\u001b[0;34m)\u001b[0m\u001b[0;34m\u001b[0m\u001b[0m\n\u001b[1;32m     42\u001b[0m     \u001b[0mprint\u001b[0m\u001b[0;34m(\u001b[0m\u001b[0;34m\"ingrese su nombre: \"\u001b[0m\u001b[0;34m)\u001b[0m\u001b[0;34m\u001b[0m\u001b[0m\n\u001b[0;32m---> 43\u001b[0;31m     \u001b[0mnombre\u001b[0m \u001b[0;34m=\u001b[0m \u001b[0mstr\u001b[0m\u001b[0;34m(\u001b[0m\u001b[0minput\u001b[0m\u001b[0;34m(\u001b[0m\u001b[0;34m)\u001b[0m\u001b[0;34m)\u001b[0m\u001b[0;34m\u001b[0m\u001b[0m\n\u001b[0m\u001b[1;32m     44\u001b[0m     \u001b[0mranking\u001b[0m\u001b[0;34m.\u001b[0m\u001b[0mappend\u001b[0m\u001b[0;34m(\u001b[0m\u001b[0mnombre\u001b[0m\u001b[0;34m)\u001b[0m\u001b[0;34m\u001b[0m\u001b[0m\n\u001b[1;32m     45\u001b[0m     \u001b[0mranking\u001b[0m\u001b[0;34m.\u001b[0m\u001b[0mappend\u001b[0m\u001b[0;34m(\u001b[0m\u001b[0mqintento\u001b[0m\u001b[0;34m)\u001b[0m\u001b[0;34m\u001b[0m\u001b[0m\n",
            "\u001b[0;32m~/anaconda3_501/lib/python3.6/site-packages/ipykernel/kernelbase.py\u001b[0m in \u001b[0;36mraw_input\u001b[0;34m(self, prompt)\u001b[0m\n\u001b[1;32m    857\u001b[0m             \u001b[0mself\u001b[0m\u001b[0;34m.\u001b[0m\u001b[0m_parent_ident\u001b[0m\u001b[0;34m,\u001b[0m\u001b[0;34m\u001b[0m\u001b[0m\n\u001b[1;32m    858\u001b[0m             \u001b[0mself\u001b[0m\u001b[0;34m.\u001b[0m\u001b[0m_parent_header\u001b[0m\u001b[0;34m,\u001b[0m\u001b[0;34m\u001b[0m\u001b[0m\n\u001b[0;32m--> 859\u001b[0;31m             \u001b[0mpassword\u001b[0m\u001b[0;34m=\u001b[0m\u001b[0;32mFalse\u001b[0m\u001b[0;34m,\u001b[0m\u001b[0;34m\u001b[0m\u001b[0m\n\u001b[0m\u001b[1;32m    860\u001b[0m         )\n\u001b[1;32m    861\u001b[0m \u001b[0;34m\u001b[0m\u001b[0m\n",
            "\u001b[0;32m~/anaconda3_501/lib/python3.6/site-packages/ipykernel/kernelbase.py\u001b[0m in \u001b[0;36m_input_request\u001b[0;34m(self, prompt, ident, parent, password)\u001b[0m\n\u001b[1;32m    887\u001b[0m             \u001b[0;32mexcept\u001b[0m \u001b[0mKeyboardInterrupt\u001b[0m\u001b[0;34m:\u001b[0m\u001b[0;34m\u001b[0m\u001b[0m\n\u001b[1;32m    888\u001b[0m                 \u001b[0;31m# re-raise KeyboardInterrupt, to truncate traceback\u001b[0m\u001b[0;34m\u001b[0m\u001b[0;34m\u001b[0m\u001b[0m\n\u001b[0;32m--> 889\u001b[0;31m                 \u001b[0;32mraise\u001b[0m \u001b[0mKeyboardInterrupt\u001b[0m\u001b[0;34m\u001b[0m\u001b[0m\n\u001b[0m\u001b[1;32m    890\u001b[0m             \u001b[0;32melse\u001b[0m\u001b[0;34m:\u001b[0m\u001b[0;34m\u001b[0m\u001b[0m\n\u001b[1;32m    891\u001b[0m                 \u001b[0;32mbreak\u001b[0m\u001b[0;34m\u001b[0m\u001b[0m\n",
            "\u001b[0;31mKeyboardInterrupt\u001b[0m: "
          ]
        }
      ]
    },
    {
      "metadata": {},
      "cell_type": "markdown",
      "source": "Ejercicio 17: Modificar el programa anterior para que las pistas brindadas por el programa no\nsean del tipo \"es mayor\" o \"es menor\" sino \"M dígitos correctos y N dígitos\naproximados\". Se considera que un dígito es correcto cuando tanto su valor\ncomo su posición coinciden con los del número secreto, mientras que un dígito\nes aproximado cuando coincide el valor pero no su posición. Ejemplos:\nNúmero secreto: 5739\n· Intento 1: 1234 -> 1 correcto\n· Intento 2: 5678 -> 1 correcto y 1 aproximado\n· Intento 3: 9375 -> 4 aproximados"
    },
    {
      "metadata": {
        "trusted": true
      },
      "cell_type": "code",
      "source": "#Ejercicio 17: Modificar el programa anterior para que las pistas brindadas por el programa no sean del tipo \"es mayor\" o \"es menor\" sino \"M dígitos correctos y N dígitos aproximados\".\n#Se considera que un dígito es correcto cuando tanto su valor como su posición coinciden con los del número secreto, mientras que un dígito es aproximado cuando coincide el valor pero no su posición.\n#Ejemplos:\n#Número secreto: 5739\n#• Intento 1: 1234 -> 1 correcto\n#• Intento 2: 5678 -> 1 correcto y 1 aproximado\n#• Intento 3: 9375 -> 4 aproximados\n\nimport random\n\n#funcion analizar los digitos:\ndef analizarDig(nro,n):\n    #creo una lista vacia con donde pondré los valores de los digitos del numero generado\n    listadig1 = []\n    #creo una lista vacia donde pondré los valores de los digitos del numero ingresado\n    listadig2 = []\n    while nro!= 0 and n!= 0:\n        dig1 = nro % 10\n        nro //= 10\n        #agrego a la lista los digitos del numero generado\n        listadig1.append(dig1)\n        dig2 = n % 10\n        n //= 10\n        #agrego a la lista los digitos del numero ingresado\n        listadig2.append(dig2)\n    return listadig1, listadig2\n\n#funcion ordenar las listas:\ndef ordenar(lista):\n    i = 0\n    k = len(lista) - 1\n    #la idea de esta lista es ordenar el los digitos como son en la lista, ya que en la funcion anterior iban del ultimo al primero\n    while i < len(lista) and k >= 0:\n        aux = lista[i]\n        lista[i] = lista[k]\n        lista[k] = aux\n        i += 1\n        k -= 1\n    return lista\n\n#funcion final:\ndef procesarDig(listadig1,listadig2):\n    cont = 0\n    aprox = 0\n    i = len(listadig1) - 1\n    k = len(listadig2) - 1\n    while i >= 0 and k >= 0:\n        #hallo los digitos correctos, (mismas posiciones en ambas listas) y borró esos valores.\n        if listadig2[k] == listadig1[i] and i == k:\n            cont += 1\n            listadig2.pop(k)\n            listadig1.pop(i)\n        i -= 1\n        k -= 1\n    for m in range(len(listadig1)):\n        for s in range(len(listadig2)):\n            #si encuentro en la nueva lista (no tiene los que están en la misma posición), borró el número encontrado en la lista con el digito ingresado y agregó un -1 para no estar fuera de rango.\n            if listadig2[s] == listadig1[m]:\n                aprox += 1\n                listadig2.pop(s)\n                listadig2.append(-1)\n    return cont, aprox\n                \n                \n    \n    \n#Funcion Principal:\n#creo una variable con el numero secreto\nnro = random.randint(1000,9999)\n\n#pido un numero al usuario\nn = int(input(\"Ingrese un numero entero de cuatro cifras (-1 par finalizar): \"))\n\n#la variable cant me dirá la cantidad de intentos\ncant = 0\n\n#en esta lista almacenaré los puntajes\nlista = []\n#en esta lista almacenaré los nombre de las personas que sacarón dicho puntaje\nnombres = []\n\nmejor = 999999999999\n\n#analizo el numero ingresado por el usuario hasta que devuelva uno valido\nwhile n < 1000 or n > 9999:\n    print(\"El numero que ingresaste es inválido\")\n    n = int(input(\"Ingrese un numero entero de cuatro cifras (-1 par finalizar): \"))\n\nwhile n!= -1:\n    if nro < 1000 or nro > 9999:\n        #pido un numero valido\n        print(\"El numero ingresado es inválido\")\n        n = int(input(\"Ingrese un numero entero de cuatro cifras (-1 par finalizar): \"))\n    listadigitosnro, listadigitosn = analizarDig(nro,n)\n    listadigitosnro = ordenar(listadigitosnro)\n    listadigitosn = ordenar(listadigitosn)\n    correctos, aproximadas = procesarDig(listadigitosnro, listadigitosn)\n    if correctos != 4:\n        print(\"El numero para comprobar es: \", nro)\n        print(\"La cantidad de digitos correctos de su numero ingresado fueron: \", correctos)\n        print(\"La cantidad de digitos aproximados al numero generado: \", aproximadas)\n        cant += 1\n        n = int(input(\"Ingrese un numero entero de cuatro cifras (-1 par finalizar): \"))\n\n    if correctos == 4:\n        print(\"Felicitaciones, usted halló el número secreto\")\n        print(\"La cantidad de intentos fueron: \", cant)\n        if cant <= mejor:\n            #si la cantidad de intentos es mejor que la cantidad de intentos anterior\n            nombre = input(\"Ingrese su nombre: \")\n            nombres.append(nombre)\n            mejor = cant\n            lista.append(mejor)\n            if len(lista) > 5 and len(nombres) > 5:\n                #analizo las listas y borro los primeros valores que se supone, requirieron mas intentos\n                lista.pop(0)\n                nombres.pop(0)\n        print(\"Los mejores puntajes fueron: \",lista)\n        print(\"Sus nombres respectivos fueron: : \",nombres)\n        otraVez = input(\"Desea jugar otra vez? (Si para continuar): \")\n        if otraVez == \"Si\" or otraVez == \"si\" or otraVez == \"Sí\" or otraVez == \"sí\":\n            #reincio el valor secreto y las cantidades.\n            nro = random.randint(1000,9999)\n            cant = 0\n            n = int(input(\"Ingrese un numero entero de cuatro cifras (-1 par finalizar): \"))\n        else:\n            #en caso de que no se quiera jugar n vale -1 y se cierra el ciclo\n            n = -1\n        ",
      "execution_count": null,
      "outputs": [
        {
          "output_type": "stream",
          "name": "stdout",
          "text": "Ingrese un numero entero de cuatro cifras (-1 par finalizar): 0101\nEl numero que ingresaste es inválido\nIngrese un numero entero de cuatro cifras (-1 par finalizar): 1111\nEl numero para comprobar es:  3531\nLa cantidad de digitos correctos de su numero ingresado fueron:  1\nLa cantidad de digitos aproximados al numero generado:  0\nIngrese un numero entero de cuatro cifras (-1 par finalizar): 3211\nEl numero para comprobar es:  3531\nLa cantidad de digitos correctos de su numero ingresado fueron:  2\nLa cantidad de digitos aproximados al numero generado:  0\nIngrese un numero entero de cuatro cifras (-1 par finalizar): 3531\nFelicitaciones, usted halló el número secreto\nLa cantidad de intentos fueron:  2\nIngrese su nombre: faby\nLos mejores puntajes fueron:  [2]\nSus nombres respectivos fueron: :  ['faby']\n"
        }
      ]
    },
    {
      "metadata": {},
      "cell_type": "markdown",
      "source": "Ejercicio 18: Ingresar por teclado un número N y construir una lista llamada SECUENCIAS con\nN números enteros al azar entre 1 y 20. Esta lista se caracterizará porque sus\nvalores deben encontrarse divididos en secuencias de números separadas por\nceros, cuya suma no sea mayor que 20. Para eso se deberá agregar un elemento\nde valor 0 a fin de separar cada secuencia de la siguiente, cuidando que ninguna\nsecuencia sume más de 20. Agregar un 0 adicional al final de la lista y mostrar la\nlista obtenida por pantalla. Ejemplo:\n\nValor de N ingresado: 11\n\nNúmeros al azar generados: 5, 2, 9, 6, 4, 15, 3, 19, 12, 1, 5\n\nLista SECUENCIAS construida:\n\n5 2 9 0 6 4 0 15 3 0 19 0 12 1 5 0\n"
    },
    {
      "metadata": {
        "trusted": true
      },
      "cell_type": "code",
      "source": "",
      "execution_count": null,
      "outputs": []
    },
    {
      "metadata": {},
      "cell_type": "markdown",
      "source": "Ejercicio 19: A partir de la lista SECUENCIAS generada en el ejercicio anterior, imprimir la\nsecuencia más larga almacenada en la misma. Si hubiera varias secuencias con\nla misma longitud máxima deberán mostrarse todas las que correspondan."
    }
  ],
  "metadata": {
    "kernelspec": {
      "name": "python36",
      "display_name": "Python 3.6",
      "language": "python"
    },
    "language_info": {
      "mimetype": "text/x-python",
      "nbconvert_exporter": "python",
      "name": "python",
      "pygments_lexer": "ipython3",
      "version": "3.6.6",
      "file_extension": ".py",
      "codemirror_mode": {
        "version": 3,
        "name": "ipython"
      }
    }
  },
  "nbformat": 4,
  "nbformat_minor": 2
}