{
  "cells": [
    {
      "metadata": {},
      "cell_type": "markdown",
      "source": "# FACULTAD DE INGENIERÍA Y CIENCIAS EXACTAS\nDepartamento de Tecnología Informática\nFundamentos de Informática"
    },
    {
      "metadata": {},
      "cell_type": "markdown",
      "source": "# Trabajo Práctico 2: Estructura secuencial"
    },
    {
      "metadata": {},
      "cell_type": "raw",
      "source": "Ejercicio 1: Indicar el valor de la variable X después de la ejecución de las siguientes\nsecuencias de comandos:\na) \nm = 2 \nx = 4\ny = x + m\n\nb) \na = 3\nb = 4\nx = a * a - b\n\nc)\nx = 3\ny = x * (-4) + 2\nx = y"
    },
    {
      "metadata": {
        "trusted": false
      },
      "cell_type": "code",
      "source": "m = 2 \nx = 4\ny = x + m\nprint (x)",
      "execution_count": 18,
      "outputs": [
        {
          "name": "stdout",
          "output_type": "stream",
          "text": "4\n"
        }
      ]
    },
    {
      "metadata": {
        "trusted": false
      },
      "cell_type": "code",
      "source": "a = 3\nb = 4\nx = a * a - b\nprint (x)",
      "execution_count": 19,
      "outputs": [
        {
          "name": "stdout",
          "output_type": "stream",
          "text": "5\n"
        }
      ]
    },
    {
      "metadata": {
        "trusted": true
      },
      "cell_type": "code",
      "source": "x = 3\ny = x * (-4) + 2\nx = y\nprint (x)",
      "execution_count": 2,
      "outputs": [
        {
          "output_type": "stream",
          "text": "-10\n",
          "name": "stdout"
        }
      ]
    },
    {
      "metadata": {},
      "cell_type": "raw",
      "source": "Ejercicio 2: Desarrollar un programa que permita ingresar dos números enteros A y B a través del teclado. Imprimir su suma y su diferencia."
    },
    {
      "metadata": {
        "trusted": true
      },
      "cell_type": "code",
      "source": "a = int(input(\"ingrese una numero entero: \"))\nb = int(input(\"ingrese una numero entero: \"))\nprint (\"la suma de a y b es:\",a + b)\nprint (\"la diferencia de a y b es:\",a - b)\n       ",
      "execution_count": 3,
      "outputs": [
        {
          "output_type": "stream",
          "name": "stdout",
          "text": "ingrese una numero entero: 34\ningrese una numero entero: 43\nla suma de a y b es: 77\nla diferencia de a y b es: -9\n"
        }
      ]
    },
    {
      "metadata": {},
      "cell_type": "raw",
      "source": "Ejercicio 3: Ingresar la longitud del radio de un círculo. Calcular e imprimir:\n· La superficie del círculo (Sup = pi * r²)\n· El perímetro de la circunferencia (Per = pi * d)\n· La superficie de la esfera (Sup = 4 * pi * r²)\n· El volumen de la esfera (Vol = 4/3 * pi * r³)"
    },
    {
      "metadata": {
        "trusted": true
      },
      "cell_type": "code",
      "source": "import math\n\nr = int(input(\"ingresar la longitud del radio de un círculo: \"))\n\nsup = math.pi*(r**2)\nprint (\"La superficie del círculo es:\",sup)\nper = math.pi*(r*2)\nprint (\"El perímetro del círculo es:\",per)\nsup_esfera = 4 * math.pi * (r**2)\nprint (\"La superficie de la esfera es:\",sup_esfera)\nvol_esfera = 4/3 * math.pi * (r**3)\nprint (\"El volumen de la esfera es:\",vol_esfera)",
      "execution_count": 4,
      "outputs": [
        {
          "output_type": "stream",
          "name": "stdout",
          "text": "ingresar la longitud del radio de un círculo: 5\nLa superficie del círculo es: 78.53981633974483\nEl perímetro del círculo es: 31.41592653589793\nLa superficie de la esfera es: 314.1592653589793\nEl volumen de la esfera es: 523.5987755982989\n"
        }
      ]
    },
    {
      "metadata": {},
      "cell_type": "raw",
      "source": "Ejercicio 4: Escribir un programa que permita ingresar la edad de una persona en\naños y la convierta a días, imprimiendo el resultado. Considerar que todos\nlos años tienen 365 días."
    },
    {
      "metadata": {
        "trusted": true
      },
      "cell_type": "code",
      "source": "edad = int(input(\"ingresar la edad en años: \"))\n\ndias = edad * 365\nprint (\"La edad en dias es:\",dias)",
      "execution_count": 5,
      "outputs": [
        {
          "output_type": "stream",
          "name": "stdout",
          "text": "ingresar la edad en años: 49\nLa edad en dias es: 17885\n"
        }
      ]
    },
    {
      "metadata": {},
      "cell_type": "raw",
      "source": "Ejercicio 5: Leer una medida en metros e imprimir esta medida expresada en centímetros,\npulgadas, pies y yardas. Los factores de conversión son:\n· 1 pie = 12 pulgadas\n· 1 yarda = 3 pies\n· 1 pulgada = 2,54 cm.\n· 1 metro = 100 cm."
    },
    {
      "metadata": {
        "trusted": false
      },
      "cell_type": "code",
      "source": "metros = int(input(\"ingrese los metros: \"))\ncentimetros = metros * 100\npulgadas = centimetros / 2.54\npies = pulgadas / 12\nyardas = pies / 3\nprint (metros, \"metros equivalen a:\", centimetros, \"centimetros,\", pulgadas, \"pulgadas,\", pies, \"pies,\", yardas, \"yardas\")",
      "execution_count": 3,
      "outputs": [
        {
          "name": "stdout",
          "output_type": "stream",
          "text": "ingrese los metros: 1\n1 metros equivalen a: 100 centimetros, 39.37007874015748 pulgadas, 3.2808398950131235 pies, 1.0936132983377078 yardas\n"
        }
      ]
    },
    {
      "metadata": {},
      "cell_type": "raw",
      "source": "Ejercicio 6: Ingresar tres números enteros, calcular su promedio y mostrarlo por\npantalla."
    },
    {
      "metadata": {
        "trusted": false
      },
      "cell_type": "code",
      "source": "ent1 = int(input(\"ingrese un numer entero: \"))\nent2 = int(input(\"ingrese un numer entero: \"))\nent3 = int(input(\"ingrese un numer entero: \"))\nproment = ((ent1 + ent2 + ent3)//3)\nprint(\"el promedio es: \", proment)",
      "execution_count": 6,
      "outputs": [
        {
          "name": "stdout",
          "output_type": "stream",
          "text": "ingrese un numer entero: 1\ningrese un numer entero: 2\ningrese un numer entero: 3\nel promedio es:  2\n"
        }
      ]
    },
    {
      "metadata": {},
      "cell_type": "raw",
      "source": "Ejercicio 7: Leer un período en segundos e imprimirlo expresado en días, horas, minutos\ny segundos. Por ejemplo, 200000 segundos equivalen a 2 días, 7\nhoras, 33 minutos y 20 segundos."
    },
    {
      "metadata": {
        "trusted": false
      },
      "cell_type": "code",
      "source": "segundos = int(input(\"ingrese los segundos: \"))\nminutos = segundos // 60\nrestseg = segundos % 60\nhoras = minutos // 60\nrestmin = minutos % 60\ndias = horas // 24\nresthoras = horas % 24\nprint(segundos,\" equivalen a\", dias, \"dias,\", resthoras, \"horas,\",restmin, \"minutos, y\", restseg, \"segundos\")",
      "execution_count": 3,
      "outputs": [
        {
          "name": "stdout",
          "output_type": "stream",
          "text": "ingrese los segundos: 200000\n200000  equivalen a 2 dias, 7 horas, 33 minutos, y 20 segundos\n"
        }
      ]
    },
    {
      "metadata": {},
      "cell_type": "raw",
      "source": "Ejercicio 8: Una inmobiliaria paga a sus vendedores un salario de $800, más una\ncomisión de $50 por cada venta realizada, más el 5% del valor de esas\nventas. Realizar un programa que imprima el número del vendedor y el\nsalario que le corresponde en un determinado mes. Se leen el número\ndel vendedor, la cantidad de ventas que realizó y el valor total de las\nmismas."
    },
    {
      "metadata": {},
      "cell_type": "raw",
      "source": "salario de $800, \ncomisión de $50 por cada venta\nmás el 5% del valor de esas ventas\n\nimprima el número del vendedor\ny el salario que le corresponde en un determinado mes\nla cantidad de ventas que realizó\nvalor total de las mismas"
    },
    {
      "metadata": {
        "trusted": false
      },
      "cell_type": "code",
      "source": "vendedor = int(input(\"ingrese el numero de vendedor:\"))\nmes = int(input(\"ingrese el numero de mes:\"))\nsalariofijo = 800\nqventas = int(input(\"ingrese la cantidad que vendio:\"))\nmontoventas = int(input(\"ingrese el monto total que vendio:\"))\ncomisioncant = 50 * qventas\ncomisionmonto = 0.05 * montoventas\nsalariototal = salariofijo + comisioncant + comisionmonto\nprint(\"En el mes\", mes, \"el vendedor:\", vendedor,\"tiene un salario total de $\", salariototal, \"ya que vendio\", qventas, \"productos por un total de $\", montoventas)",
      "execution_count": 8,
      "outputs": [
        {
          "name": "stdout",
          "output_type": "stream",
          "text": "ingrese el numero de vendedor:1\ningrese el numero de mes:12\ningrese la cantidad que vendio:1\ningrese el monto total que vendio:1\nEn el mes 12 el vendedor: 1 tiene un salario total de $ 850.05 ya que vendio 1 productos por un total de $ 1\n"
        }
      ]
    },
    {
      "metadata": {},
      "cell_type": "raw",
      "source": "Ejercicio 9: Un banco necesita para sus cajeros automáticos un programa que lea\nuna cantidad de dinero e imprima a cuántos billetes equivale, considerando\nque existen billetes de $100, $50, $10, $5 y $1. Desarrollar dicho\nprograma de tal forma que se minimice la cantidad de billetes entregados\npor el cajero."
    },
    {
      "metadata": {
        "trusted": false
      },
      "cell_type": "code",
      "source": "monto = int(input(\"cuanto dinero quiere retirar?\"))\nb100 = monto // 100\nrb100 = monto % 100\nb50 = rb100 // 50\nrb50 = monto % 50\nb10 = rb50 // 10\nrb10 = monto % 10\nb5 = rb10 // 5\nrb5 = monto % 5\nb1 = rb5 // 1\n\n\nprint(\"se entregan $\", monto, \"mediante\",b100, \"billetes de $100,\",b50, \"billetes de $50,\",b10, \"billetes de $10,\",b5, \"billetes de $5,\",b1, \"billetes de $1\")\n\n",
      "execution_count": 15,
      "outputs": [
        {
          "name": "stdout",
          "output_type": "stream",
          "text": "cuanto dinero quiere retirar?9999\nse entregan $ 9999 mediante 99 billetes de $100, 1 billetes de $50, 4 billetes de $10, 1 billetes de $5, 4 billetes de $1\n"
        }
      ]
    },
    {
      "metadata": {},
      "cell_type": "raw",
      "source": "Ejercicio 10: Desarrollar un programa que solicite una temperatura expresada en grados\ncentígrados y la imprima convertida a grados Fahrenheit, tal que: C =(5/9)*(F-32)"
    },
    {
      "metadata": {
        "trusted": false
      },
      "cell_type": "code",
      "source": "centigrados = int(input(\"ingrese los grados centigrados\"))\nfarenheit = (centigrados*(9/5))+32\nprint(\"los grados farenheit son:\", farenheit)",
      "execution_count": 18,
      "outputs": [
        {
          "name": "stdout",
          "output_type": "stream",
          "text": "ingrese los grados centigrados30\nlos grados farenheit son: 86.0\n"
        }
      ]
    },
    {
      "metadata": {},
      "cell_type": "raw",
      "source": "Ejercicio 11:Escribir un programa para convertir un número binario de 4 cifras en un\nnúmero decimal. El número binario se ingresa como un solo número entero\nde cuatro dígitos."
    },
    {
      "metadata": {},
      "cell_type": "raw",
      "source": "metodo 1 "
    },
    {
      "metadata": {
        "trusted": true
      },
      "cell_type": "code",
      "source": "binario1 = int(input(\"ingrese el primer digito del numero binario de 4 cifras:\"))\nbinario2 = int(input(\"ingrese el segundo digito del numero binario de 4 cifras:\"))\nbinario3 = int(input(\"ingrese el tercer digito del numero binario de 4 cifras:\"))\nbinario4 = int(input(\"ingrese el cuarto digito del numero binario de 4 cifras:\"))\ndecimal = (binario1 * 2 ** 0) + (binario2 * 2 ** 1) + (binario3 * 2 ** 2) + (binario4 * 2 ** 3)\nprint(\"el numero binario es:\",binario1,binario2,binario3,binario4)\nprint(\"el numero decimal es:\",decimal)",
      "execution_count": 15,
      "outputs": [
        {
          "output_type": "stream",
          "name": "stdout",
          "text": "ingrese el primer digito del numero binario de 4 cifras:1\ningrese el segundo digito del numero binario de 4 cifras:1\ningrese el tercer digito del numero binario de 4 cifras:1\ningrese el cuarto digito del numero binario de 4 cifras:1\nel numero binario es: 1 1 1 1\nel numero decimal es: 15\n"
        }
      ]
    },
    {
      "metadata": {
        "trusted": true
      },
      "cell_type": "code",
      "source": "(1 * 2 ^ 3)",
      "execution_count": 14,
      "outputs": [
        {
          "output_type": "execute_result",
          "execution_count": 14,
          "data": {
            "text/plain": "1"
          },
          "metadata": {}
        }
      ]
    },
    {
      "metadata": {},
      "cell_type": "raw",
      "source": "metodo 2"
    },
    {
      "metadata": {
        "trusted": true
      },
      "cell_type": "code",
      "source": "binario = input(\"ingrese el numero binario de 4 cifras:\")\ndecimal = int(binario, 2)\nprint(\"el numero binario es:\",binario)\nprint(\"el numero decimal es:\",decimal)",
      "execution_count": 2,
      "outputs": [
        {
          "output_type": "stream",
          "name": "stdout",
          "text": "ingrese el numero binario de 4 cifras:0001\nel numero binario es: 0001\nel numero decimal es: 1\n"
        }
      ]
    },
    {
      "metadata": {
        "trusted": true
      },
      "cell_type": "code",
      "source": "",
      "execution_count": null,
      "outputs": []
    }
  ],
  "metadata": {
    "kernelspec": {
      "name": "python3",
      "display_name": "Python 3",
      "language": "python"
    },
    "language_info": {
      "mimetype": "text/x-python",
      "nbconvert_exporter": "python",
      "name": "python",
      "file_extension": ".py",
      "version": "3.5.4",
      "pygments_lexer": "ipython3",
      "codemirror_mode": {
        "version": 3,
        "name": "ipython"
      }
    }
  },
  "nbformat": 4,
  "nbformat_minor": 2
}