{
  "cells": [
    {
      "metadata": {},
      "cell_type": "markdown",
      "source": "# FACULTAD DE INGENIERÍA Y CIENCIAS EXACTAS\nDepartamento de Tecnología Informática\n- FUNDAMENTOS DE INFORMATICA"
    },
    {
      "metadata": {},
      "cell_type": "markdown",
      "source": "Fundamentos de Informática - Simulacro Primer Parcial 2019"
    },
    {
      "metadata": {},
      "cell_type": "markdown",
      "source": "Realizar una funcion que permita determinar los numeros automorficos menores o iguales que un numero ingresado por teclado.\nNúmeros automórficos. Un número n es automórfico si los últimos dígitos de su cuadrado son los dígitos de n. Por ejemplo, 5, 6, 76 y 890625 son números automórficos ya que 5² = 25, 6² = 36 y 76² = 5776 "
    },
    {
      "metadata": {
        "trusted": true
      },
      "cell_type": "code",
      "source": "# Tema 1, ejercicio 2\n\ndef esautomorfico(n):\n    cuadrado = n**2\n    automorfico = True\n    # Descomponemos simultáneamente tanto el número original como su cuadrado\n    # Si alguna cifra de ambos difiere, el número no es automórfico\n    while n != 0:\n        digito1 = n % 10\n        digito2 = cuadrado % 10\n        n = n // 10\n        cuadrado = cuadrado // 10\n        if digito1 != digito2:\n            automorfico = False\n    return automorfico\n\n# Programa principal\nlimite = int(input(\"Límite superior? \"))\ncont = 1\nwhile cont <= limite:\n    if esautomorfico(cont):\n        print(cont, cont**2)\n    cont = cont + 1",
      "execution_count": 11,
      "outputs": [
        {
          "output_type": "stream",
          "name": "stdout",
          "text": "Límite superior? 300\n1 1\n5 25\n6 36\n25 625\n76 5776\n"
        }
      ]
    },
    {
      "metadata": {
        "trusted": true
      },
      "cell_type": "code",
      "source": "largo = float(input(\"Largo del ambiente? \"))\nancho = float(input(\"Ancho del ambiente? \"))\naltura = float(input(\"Altura del ambiente? \"))\nprint()\nanchoventana = float(input(\"Ancho de la ventana? \"))\nalturaventana = float(input(\"Altura de la ventana? \"))\nprint()\nanchopuerta = float(input(\"Ancho de la puerta? \"))\nalturapuerta = float(input(\"Altura de la puerta? \"))\nprint()\nanchoceramica = float(input(\"Ancho de la ceramica? \"))\nlargoceramica = float(input(\"Largo de la ceramica? \"))\nsuperficieparedes = ancho*altura*2 + largo*altura*2\nsuperficieventana = anchoventana*alturaventana\nsuperficiepuerta = anchopuerta*alturapuerta\nsuperficietotal = superficieparedes-superficieventana-superficiepuerta\nsuperficieceramica = anchoceramica*largoceramica\ncantceramicas = superficietotal/superficieceramica\nif cantceramicas!=int(cantceramicas):\n    cantceramicas = int(cantceramicas)+1  # No puede usarse menos de una cerámica\nprint()\nprint(\"Para revestir las cuatro paredes del ambiente se necesitan\", cantceramicas, \"cerámicas\")\nprint()\ncantporpaquete = float(input(\"Cantidad de cerámicas por paquete? \"))\nprecioporpaquete = float(input(\"Precio del paquete de cerámicas? \"))\npaquetes = cantceramicas/cantporpaquete\nif paquetes!=int(paquetes):  # No puede comprarse menos de un paquete\n    paquetes = int(paquetes)+1\npreciototal = paquetes*precioporpaquete\nprint(\"La obra demandará $\", preciototal)",
      "execution_count": 1,
      "outputs": [
        {
          "output_type": "stream",
          "name": "stdout",
          "text": "Largo del ambiente? 4\nAncho del ambiente? 5\nAltura del ambiente? 3\n\nAncho de la ventana? 1\nAltura de la ventana? 2\n\nAncho de la puerta? 2\nAltura de la puerta? 2\n\nAncho de la ceramica? 0.2\nLargo de la ceramica? 0.3\n\nPara revestir las cuatro paredes del ambiente se necesitan 800.0 cerámicas\n\nCantidad de cerámicas por paquete? 12\nPrecio del paquete de cerámicas? 100\nLa obra demandará $ 6700.0\n"
        }
      ]
    },
    {
      "metadata": {},
      "cell_type": "markdown",
      "source": "Genere un programa que para un numero entero positivo, responda todos sus divisores"
    },
    {
      "metadata": {
        "trusted": true
      },
      "cell_type": "code",
      "source": "# Tema 2, ejercicio 2\n\nn = int(input(\"Ingrese el valor de N: \"))\nprint()\nprint(\"Divisores de\", n)\ndiv = n-1\nwhile div>0:\n    if n%div==0:\n        print(div, end=\" \")\n    div = div - 1\nprint()",
      "execution_count": 3,
      "outputs": [
        {
          "output_type": "stream",
          "name": "stdout",
          "text": "Ingrese el valor de N: 55\n\nDivisores de 55\n11 5 1 \n"
        }
      ]
    },
    {
      "metadata": {},
      "cell_type": "markdown",
      "source": "Genere una lista de n cantidad de numero enteros positivos en forma aleatoria, ingresando n por teclado.\nResponder cual fue el valor mas repetido en la lista y cuantas veces aparecio"
    },
    {
      "metadata": {
        "trusted": true
      },
      "cell_type": "code",
      "source": "# Tema 2, ejercicio 1\n\nimport random\n\nlista = []\nn = int(input(\"Cantidad de elementos? \"))\nwhile n<=0:\n    print(\"Valor inválido. Debe ser mayor que 0.\")\n    n = int(input(\"Cantidad de elementos? \"))\nprint()\nfor i in range(n):\n    lista.append(random.randint(10, 99))\n# Buscar valor más repetido\nvmr = -1\nqmasrep = 0\n\n\nfor i in range(n):\n    qrep = 0\n    \n    for j in range(i, n):\n        if lista[i]==lista[j]:\n            qrep = qrep + 1\n    \n    if qrep>qmasrep:\n        vmr = lista[i]\n        qmasrep = qrep\n\nprint(\"El valor más repetido es\", vmr, \"con\",qmasrep, \"apariciones\")\nprint(lista)",
      "execution_count": 2,
      "outputs": [
        {
          "output_type": "stream",
          "name": "stdout",
          "text": "Cantidad de elementos? 50\n\nEl valor más repetido es 27 con 3 apariciones\n[82, 45, 87, 76, 71, 27, 76, 65, 37, 72, 37, 27, 11, 39, 67, 27, 77, 48, 59, 46, 63, 34, 90, 65, 44, 96, 95, 45, 19, 12, 92, 30, 17, 22, 17, 29, 22, 57, 89, 15, 52, 20, 52, 94, 72, 40, 46, 52, 86, 29]\n"
        }
      ]
    },
    {
      "metadata": {
        "trusted": true
      },
      "cell_type": "code",
      "source": "# Tema 1, ejercicio 2\n\nimport random\n\nlista = []\nn = int(input(\"Cantidad de elementos? \"))\nwhile n<=0:\n    print(\"Valor inválido. Debe ser mayor que 0.\")\n    n = int(input(\"Cantidad de elementos? \"))\n    \nfor i in range(n):\n    lista.append(random.randint(1, 100))\n    \n# Buscar el máximo\nmaximo = lista[0]\npos = 0\n\nfor i in range(1, n):\n    if lista[i]>maximo:\n        maximo = lista[i]\n        pos = i\n        \n# Contar repeticiones del máximo\nrep = 0\n\nfor i in range(n):\n    if lista[i]==maximo:\n        rep = rep + 1\n\n        print(lista)\nprint()\nprint(\"El máximo es\", maximo, \"y se encontró\", rep, \"veces\")\n\n# Intercambiar con el último, si corresponde\nif rep==1:\n    lista[pos] = lista[n-1]\n    lista[n-1] = maximo\nprint(lista)",
      "execution_count": 6,
      "outputs": [
        {
          "output_type": "stream",
          "name": "stdout",
          "text": "Cantidad de elementos? 30\n[38, 82, 66, 2, 44, 15, 76, 3, 9, 52, 69, 29, 22, 87, 1, 40, 65, 75, 46, 20, 14, 80, 44, 74, 27, 46, 44, 60, 74, 69]\n\nEl máximo es 87 y se encontró 1 veces\n[38, 82, 66, 2, 44, 15, 76, 3, 9, 52, 69, 29, 22, 69, 1, 40, 65, 75, 46, 20, 14, 80, 44, 74, 27, 46, 44, 60, 74, 87]\n"
        }
      ]
    },
    {
      "metadata": {},
      "cell_type": "markdown",
      "source": "Genere una lista de n cantidad de numero enteros positivos en forma aleatoria, ingresando n por teclado.\nResponder cual fue el valor maximo en la lista y cuantas veces aparecio"
    },
    {
      "metadata": {
        "trusted": true
      },
      "cell_type": "code",
      "source": "# Tema 2, ejercicio 1\n\n# Primera parte: Lectura de datos\na = int(input(\"Ingrese un número entero: \"))\nb = int(input(\"Ingrese otro número entero: \"))\nif a > b:\n    aux = a\n    a = b\n    b = aux\n# Segunda parte: Impresión de múltiplos de 5\nprint(\"Alternativa 1: Recorrer todos los números e imprimir sólo los múltiplos de 5\")\ncont = a\nwhile cont <= b:\n    if cont%5 == 0:\n        print(cont)\n    cont = cont + 1\nprint()\nprint(\"Alternativa 2: Buscar el primer múltiplo de 5 y sumar de a 5\")\na = a + 5 - a%5\nwhile a <= b:\n    print(a)\n    a = a + 5\nprint()",
      "execution_count": 4,
      "outputs": [
        {
          "output_type": "stream",
          "name": "stdout",
          "text": "Ingrese un número entero: 3\nIngrese otro número entero: 4\nAlternativa 1: Recorrer todos los números e imprimir sólo los múltiplos de 5\n\nAlternativa 2: Buscar el primer múltiplo de 5 y sumar de a 5\n\n"
        }
      ]
    },
    {
      "metadata": {},
      "cell_type": "markdown",
      "source": "Realizar una funcion que permita determinar si un numero ingresado por teclado es narcicista.\nUn ejemplo de número narcisista es el 153. Puesto que 153 = 1**3 + 5**3 + 3**3 = 1 + 125 + 27 = 153"
    },
    {
      "metadata": {
        "trusted": true
      },
      "cell_type": "code",
      "source": "# Tema 2, ejercicio 2\n\ndef esnarcisista(n):\n    copia1 = n\n    copia2 = n\n    largo = 0\n    total = 0\n    # Calculamos la cantidad de dígitos del número\n    while copia1 != 0:\n        largo = largo + 1\n        copia1 = copia1 // 10\n    # Vamos obteniendo cada una de las cifras del número y las vamos acumulando,\n    # elevándolas primero a la potencia correspondiente\n    while copia2 != 0:\n        digito = copia2 % 10\n        copia2 = copia2 // 10\n        total = total + digito ** largo\n    if n == total:\n        return True\n    else:\n        return False\n\n# Programa principal\na = int(input(\"Ingrese un número entero: \"))\nif esnarcisista(a):\n    print(a, \"es un número narcisista\")\nelse:\n    print(\"No es un número narcisista\")",
      "execution_count": 2,
      "outputs": [
        {
          "output_type": "stream",
          "name": "stdout",
          "text": "Ingrese un número entero: 153\n153 es un número narcisista\n"
        }
      ]
    },
    {
      "metadata": {},
      "cell_type": "markdown",
      "source": "Realizar una funcion que permita determinar si un numero ingresado por teclado es oblongo.\nUn número oblongo, es un número que es el producto de dos naturales consecutivos, esto es: n (n + 1) que puede ser expresado como n² + n. Los primeros números oblongos son:\n\n0, 2, 6, 12, 20, 30, 42, 56, 72, 90, 110, 132, 156, 182, 210, 240, 272, 306, 342, 380, 420, 462"
    },
    {
      "metadata": {
        "trusted": true
      },
      "cell_type": "code",
      "source": "# Fundamentos de Informática - Simulacro Primer Parcial 2019\n\n\nn = int(input(\"Ingrese un número positivo: \"))\nwhile n<0:\n    print(\"El número debe ser positivo. Intente nuevamente.\")\n    n = int(input(\"Ingrese un número positivo: \"))\nbase = 0\nproducto = base*(base+1)\nwhile producto<n:\n    base = base+1\n    producto = base*(base+1)\nif producto==n:\n    print(n, \"es un número oblongo que se obtiene multiplicando\", base, \"y\", base+1)\nelse:\n    print(n, \"no es un número oblongo\")",
      "execution_count": 6,
      "outputs": [
        {
          "output_type": "stream",
          "name": "stdout",
          "text": "Ingrese un número positivo: 3\n3 no es un número oblongo\n"
        }
      ]
    },
    {
      "metadata": {
        "trusted": true
      },
      "cell_type": "code",
      "source": "# Tema 1, ejercicio 1 ingresar los numeros de pacientes atendidos por un hospital en el ultimo mes.\n#Se ingresa el legajo entre 4 y 6 cifras. Para terminar la carga escriir -1\n#luego de cargar todos los legajos, responder el paciente que se atendio mas veces y cuantas consultas tuvo.\n\ndef leerpaciente():\n    n = int(input(\"Nº de historia clínica? (-1 para terminar) \"))\n    while n!=-1 and (n<1000 or n>999999):\n        print(\"Número de historia clínica inválido.\")\n        n = int(input(\"Nº de historia clínica? (-1 para terminar) \"))\n    return n\n\n# Programa principal\npacientes = []\nhc = leerpaciente()\nwhile hc!=-1:\n    pacientes.append(hc)\n    hc = leerpaciente()\nprint()\nif len(pacientes)==0:\n    print(\"No se ingresaron pacientes\")\nelse:\n    # Buscar paciente más repetido (pmr)\n    pmr = -1\n    masveces = 0\n    consultas = len(pacientes)\n    for i in range(consultas):\n        veces = 0\n        for j in range(i, consultas):\n            if pacientes[i]==pacientes[j]:\n                veces = veces + 1\n        if veces>masveces:\n            masveces = veces\n            pmr = pacientes[i]\n    print(\"El paciente que más veces se atendió fue el nº\", pmr, \"con\", masveces, \"consultas\")\n    ",
      "execution_count": null,
      "outputs": []
    },
    {
      "metadata": {
        "trusted": true
      },
      "cell_type": "markdown",
      "source": "Pedir el ingreso de dos numeros diferentes por teclado. El primer número debe ser menor que el segundo. \nImprimir todos los numeros pares entre los números ingresados "
    },
    {
      "metadata": {
        "trusted": true
      },
      "cell_type": "code",
      "source": "# Tema 1, ejercicio 1\n\n# Primera etapa: Lectura de datos\na = int(input(\"Ingrese un número entero: \"))\nb = int(input(\"Ingrese otro número entero: \"))\nwhile a >= b:\n    print(\"El primer número debe ser menor que el segundo. Vuelva a ingresarlos\")\n    a = int(input(\"Ingrese un número entero: \"))\n    b = int(input(\"Ingrese otro número entero: \"))\n# Segunda etapa: Impresión de numeros pares\nprint(\"Alternativa 1: Recorrer todos los números entre A y B e imprimir sólo los pares\")\ncont = a\nwhile cont <= b:\n    if cont%2 == 0:\n        print(cont)\n    cont = cont + 1\nprint()\nprint(\"Alternativa 2: Buscar el primer par y sumar de a 2\")\nif a%2 == 1:\n    a = a + 1\nwhile a <= b:\n    print(a)\n    a = a + 2\nprint()\n",
      "execution_count": 1,
      "outputs": [
        {
          "output_type": "stream",
          "name": "stdout",
          "text": "Ingrese un número entero: 34\nIngrese otro número entero: 23\nEl primer número debe ser menor que el segundo. Vuelva a ingresarlos\nIngrese un número entero: 23\nIngrese otro número entero: 34\nAlternativa 1: Recorrer todos los números entre A y B e imprimir sólo los pares\n24\n26\n28\n30\n32\n34\n\nAlternativa 2: Buscar el primer par y sumar de a 2\n24\n26\n28\n30\n32\n34\n\n"
        }
      ]
    },
    {
      "metadata": {},
      "cell_type": "raw",
      "source": "Recuperatorio Segundo Parcial Ejercicio 1"
    },
    {
      "metadata": {
        "trusted": true
      },
      "cell_type": "code",
      "source": "#realizar un programa que luego de ingresar un numero entre 4 y 10 cifras,\n#revise si alguno de los digitos del numero ingresado se repite\n#Decir que valores se repiten y en que posicion,\n#si ocurre esto pedir ingresar un nuevo valor\n#no esta permitido ingresar numero por separado\n\ndef qdig(val):\n    dig = val//10\n    count = 1\n    while dig > 0:\n        dig = dig//10\n        count = count + 1\n    return count\n\ndef num2list(val):\n    list = []\n    q = qdig(val)\n    while q > 0:\n        numa = int(val*(10**-(q-1)))\n        numb = int(val*(10**-(q)))*10\n        final = numa - numb\n        list.append(final)\n        q = q - 1\n    return list\n\n\ndef repetidos(num):\n    lis = num2list(num)\n    larg =len(lis)\n    repetidos = []\n    posicion = []\n    qrepetidos = 0\n    for i in range(larg-1):\n        for j in range(i+1, larg):\n            if lis[i] == lis[j]:\n                qrepetidos = qrepetidos + 1\n                repetidos.append(lis[i])\n                posicion.append(i)\n                posicion.append(j)\n    if qrepetidos > 0:\n        print(\"se encontro\",qrepetidos,\"repetidos: \",repetidos,\"en las posiciones: \",posicion)\n    else:\n        print(\"no se cargaron repetidos\")\n    return qrepetidos\n    \n#programa principal\nnum = int(input(\"ingresar un numero entre 4 y 10 cifras y que no se repitan; \"))\nwhile num < 1000 or num > 999999999:\n    print(\"ingrese nuevamente, porque el numero esta fuera de rango\")\n    num = int(input(\"ingresar un numero entre 4 y 10 cifras y que no se repitan; \"))\n\nprint(\"la cantidad de digitos es\",qdig(num))\nprint(\"la lista es: \", num2list(num))\nvalrepetidos = repetidos(num)\n\nwhile valrepetidos > 0:\n    num = int(input(\"ingresar un numero entre 4 y 10 cifras y que no se repitan\"))",
      "execution_count": null,
      "outputs": [
        {
          "output_type": "stream",
          "name": "stdout",
          "text": "ingresar un numero entre 4 y 10 cifras y que no se repitan; 12345654\nla cantidad de digitos es 8\nla lista es:  [1, 2, 3, 4, 5, 6, 5, 4]\nse encontro 2 repetidos:  [4, 5] en las posiciones:  [3, 7, 4, 6]\n"
        }
      ]
    },
    {
      "metadata": {},
      "cell_type": "markdown",
      "source": "Recuperatorio Segundo Parcial Ejercicio 2\nGenerar un programa donde se ingresen numeros enteros positivos, termina el programa con el ingreso de -1\nEncontrar el minimo y el maximo del conjunto de numeros ingresados. \nLuego obtener el rango del conjunto de numeros. \nEl rango se calcula como la diferencia entre el maximo y el minimo del conjunto de datos. \nFinalmente eliminar del listado los numeros menores al rango."
    },
    {
      "metadata": {
        "trusted": true
      },
      "cell_type": "code",
      "source": "#Recuperatorio Segundo Parcial Ejercicio 2\n#Generar un programa donde se ingresen numeros enteros positivos, termina el programa con el ingreso de -1\n#Encontrar el minimo y el maximo del conjunto de numeros ingresados.\n#Luego obtener el rango del conjunto de numeros.\n#El rango se calcula como la diferencia entre el maximo y el minimo del conjunto de datos.\n#Finalmente eliminar del listado los numeros menores al rango\n\ndef buscmax(lis):\n    maxlis = lista[0]\n    larg = len(lis)\n    for i in range(1,larg):\n        if lis[i] > maxlis:\n            maxlis = lis[i]\n            pos = i\n    return maxlis\n\ndef buscmin(lis):\n    minlis = lista[0]\n    larg = len(lis)\n    for i in range(1,larg):\n        if lis[i] < minlis:\n            minlis = lis[i]\n            pos = i\n    return minlis\n\ndef busc_may_ran(lis,ran):\n    mayran = []\n    larg = len(lis)\n    for i in range(larg):\n        if lis[i] >= ran:\n            mayran.append(lis[i])\n    return mayran\n\n#programa principal\nlista = []\nprint(\"ingrese un numero entero positivo, o -1 para terminar\")\nnum = int(float(input()))\nwhile num != -1:\n    if num > 0:\n        lista.append(num)\n    else:\n        print(\"el valor no es entero positivo\")\n    print(\"ingrese un numero entero positivo, o -1 para terminar\")\n    num = int(float(input()))\n    \nprint(\"ingreso -1, termino la ejecución\")\nprint(\"los valores ingresados fueron: \",lista)\nnummax = buscmax(lista)\nprint(\"el maximo encontrado es: \",nummax)\nnummin = buscmin(lista)\nprint(\"el minimo encontrado es: \",nummin)\nrango = nummax - nummin\nprint(\"el rango encontrado es: \",rango)\nmayrango = busc_may_ran(lista,rango)\nprint(\"el listado mayor o igual al rango encontrado es: \",mayrango)\n",
      "execution_count": 9,
      "outputs": [
        {
          "output_type": "stream",
          "text": "ingrese un numero entero positivo, o -1 para terminar\n9\ningrese un numero entero positivo, o -1 para terminar\n6\ningrese un numero entero positivo, o -1 para terminar\n5\ningrese un numero entero positivo, o -1 para terminar\n4\ningrese un numero entero positivo, o -1 para terminar\n3\ningrese un numero entero positivo, o -1 para terminar\n5\ningrese un numero entero positivo, o -1 para terminar\n6\ningrese un numero entero positivo, o -1 para terminar\n7\ningrese un numero entero positivo, o -1 para terminar\n-1\ningreso -1, termino la ejecución\nlos valores ingresados fueron:  [9, 6, 5, 4, 3, 5, 6, 7]\nel maximo encontrado es:  9\nel minimo encontrado es:  3\nel rango encontrado es:  6\nel listado mayor o igual al rango encontrado es:  [9, 6, 6, 7]\n",
          "name": "stdout"
        }
      ]
    },
    {
      "metadata": {
        "trusted": true
      },
      "cell_type": "markdown",
      "source": "Examen Final Publicado"
    },
    {
      "metadata": {},
      "cell_type": "markdown",
      "source": "Examen Final 1 (Thompson)\nDesarrollar una función que reciba como parámetro un número entero positivo\ncualquiera y lo devuelva invertido, es decir que la última cifra pase a ser la primera, la\npenúltima pase a ser la segunda, etc. Por ejemplo, si la función recibe como parámetro\nel número 123, debe devolver 321. "
    },
    {
      "metadata": {
        "trusted": true
      },
      "cell_type": "code",
      "source": "def qdig(num):\n    count = 0\n    while num >0:\n        num = num//10\n        count = count + 1\n    return count\n\ndef inv(num):\n    largo = qdig(num)\n    lista = []\n    while num > 0:\n        nuevo = num%10\n        num = num//10\n        lista.append(nuevo)\n    return lista\n\nnum = int(input(\"ingrese el numero\"))\nprint(inv(num))",
      "execution_count": null,
      "outputs": []
    },
    {
      "metadata": {
        "trusted": true
      },
      "cell_type": "markdown",
      "source": "Examen Recuperatorio Ultima oportunidad: Cargar una lista con numeros enteros positivos, rechazando los numeros que sean negativos. Se finaliza la carga ingresando 0. Luego se solicita calcular e imprimir el promedio de los numeros almacenados que resultan ser capicuas. \nEjemplo: 261, 36263, 5047, 8228, 10, 21 55512, 0.\nEl promedio es 734001. (36263, 8228, 21 57512)/3"
    },
    {
      "metadata": {
        "trusted": true
      },
      "cell_type": "code",
      "source": "#Examen Recuperatorio Ultima oportunidad:\n#Cargar una lista con numeros enteros positivos, rechazando los numeros que sean negativos.\n#Se finaliza la carga ingresando 0.\n#Luego se solicita calcular e imprimir el promedio de los numeros almacenados que resultan ser capicuas. \n#Ejemplo: 261, 36263, 5047, 8228, 10, 21, 55572, 0.\n#El promedio es 734001. (36263, 8228, 57572)/3\n\nREHACER!!!\n\ndef escapicua(lista):\n    i = 0\n    j = len(lista) - 1\n    while i < j and lista[i] == lista [j]:\n        i = i + 1\n        j = j - 1\n    if i < j:\n        return False\n    else:\n        return True\n\nnum = int(input(\"ingresar un numero positivo, 0 para finalizar\"))\nlista = []\nwhile num != 0:\n    if num > 0:\n        lista.append(num)\n        num = int(input(\"ingresar un numero positivo, 0 para finalizar\"))\n    else:\n        print(\"el numero debe ser positivo\")\n        num = int(input(\"ingresar un numero positivo, 0 para finalizar\"))\nprint(\"Se finaliza el programa\")        \n        \nprint(\"La lista cargada fue: \",lista)\n",
      "execution_count": null,
      "outputs": []
    },
    {
      "metadata": {},
      "cell_type": "markdown",
      "source": "Examen Recuperatorio Ultima oportunidad: Se dice que un numero es perfecto cuando es igual a la suma de sus divisores propios menor que el mismo.\nPor ejemplo: 6 es un numero perfecto porque sus divisores son 1, 2, 3. y adema 6 = 1+2+3.\nOtro numero perfecto es el 28 porque sus div so 1, 2, 4, 7, 14 y la suma es 28.\nRealizar un programa que cargando una cantidad N de numeros, busque todos los numeros pefectos menores a la cantidad ingresada."
    },
    {
      "metadata": {
        "trusted": true
      },
      "cell_type": "code",
      "source": "def divisores(num):\n    divisor = 1\n    divi = []\n    while divisor < num:\n        if num%divisor == 0:\n            divi.append(divisor)\n        divisor = divisor + 1\n    suma = sum(divi)\n    return suma\n\ndef buscaper(cant):\n    count = 1\n    while count < cant:\n        if divisores(count) == count:\n            print(\"el numero\", count, \"es perfecto\")\n        count = count + 1\n        \ncantidad = int(input(\"ingrese la cantidad a buscar\"))\nprint(buscaper(cantidad))",
      "execution_count": null,
      "outputs": []
    },
    {
      "metadata": {},
      "cell_type": "markdown",
      "source": "Examen Final 2 (Thompson)\nEscribir una función que ordene un vector en forma ascendente y además elimine los\nelementos repetidos del mismo. La función debe recibir como parámetro el vector y la\ncantidad de elementos que contiene (hasta un máximo de MAX elementos), y devolver\ncomo valor de retorno un entero indicando cuántos elementos contiene el vector luego\ndel proceso. Puede utilizar funciones auxiliares en caso necesario, y utilizar cualquiera\nde los métodos de ordenamiento estudiados. "
    },
    {
      "metadata": {
        "trusted": true
      },
      "cell_type": "code",
      "source": "#Examen Final 2 (Thompson) Escribir una función que ordene un vector en forma ascendente y\n#además elimine los elementos repetidos del mismo.\n#La función debe recibir como parámetro el vector y la cantidad de elementos que contiene\n#(hasta un máximo de MAX elementos), y devolver como valor de retorno un entero indicando\n#cuántos elementos contiene el vector luego del proceso.\n#Puede utilizar funciones auxiliares en caso necesario,\n#y utilizar cualquiera de los métodos de ordenamiento estudiados.\n\n#FALTA COMPLETAR ELIMINACION DE REPETIDOS\n\nimport random\n\ndef ordena(li):\n    lar = len(li)\n    desordenado = True\n\n    while desordenado:\n        desordenado = False\n        for i in range(lar-1):\n            if li[i] > li[i+1]:\n                aux = li[i]\n                li[i] = li[i+1]\n                li[i+1] = aux\n                desordenado = True\n    return li\n        \ndef elimrep(li):\n    lar = len(li)\n    rep = 0\n    listrep = []\n    i = 0\n    for i in range(i, lar-1):\n        for j in range(i+1, lar):\n            if li[i] == li[j]:\n                rep = rep + 1\n                listrep.append(li[i])                \n    return listrep\n\n\ncant = int(input(\"ingrese la cantidad de elementos de la lista\"))\nlista = []\nfor i in range(cant):\n    lista.append(random.randint(0,100))\nprint(\"la lista es: \", lista)\n\nprint(\"la lista ordenada es: \", ordena(lista))\n\nprint(elimrep(lista))",
      "execution_count": null,
      "outputs": []
    },
    {
      "metadata": {},
      "cell_type": "markdown",
      "source": "Ejercicio 1 (Daquino)\nDado un vector A[100], ya cargado, pero está desordenado\nOrdenarlo por el método del burbujeo\nIngresar un valor por teclado y buscarlo por búsqueda binaria, si está, eliminarlo del vector,\ndesplazando a los otros valores; en caso contrario, informarlo"
    },
    {
      "metadata": {
        "trusted": true
      },
      "cell_type": "code",
      "source": "import random\n\ndef metodoburbujeo(vec):\n    desordenado = True\n    while desordenado: \n        desordenado = False\n        for i in range(len(vec)-1):\n            if vec[i] > vec[i+1]:\n                aux = vec[i]\n                vec[i] = vec[i+1]\n                vec[i+1] = aux\n                desordenado = True\n\n    return vec\n\ndef busquedabinaria(v, dato):\n    izq = 0\n    der = len(v) -1\n# A der hay que restar -1 porque las listas comienzan con la primera posicion en 0\n    pos = -1\n\n    while izq <= der and pos == -1:\n        centro = (izq + der)//2\n        print(izq, \"!\", centro, \"!\", der)\n        print(v[izq], \"!\", v[centro], \"!\", v[der])\n        if v[centro] == dato:\n            pos = centro\n        elif v[centro] < dato:\n            izq = centro + 1\n        else:\n            der = centro - 1\n    print(\"el dato esta ubicado en la posición: \",pos)\n    return pos\n\na = []\ncount = 0\nwhile count < 100:\n    aleat = random.randint(1,100)\n    a.append(aleat)\n    count = count + 1\nprint(a)\nprint()\nprint(metodoburbujeo(a))\n\n\ny = int(input(\"ingrese el valor a buscar\"))\nprint(\"se busca el valor: \", y, \"en la lista: \", a)\nprint(\"la lista tiene la siguiente cantidad de posiciones:\", len(a))\nprint(busquedabinaria(a, y))\na.pop(busquedabinaria(a, y))\nprint()\nprint(a)\n",
      "execution_count": null,
      "outputs": []
    },
    {
      "metadata": {},
      "cell_type": "markdown",
      "source": "Ejercicio 2 (Daquino)\nIngresar 2 valores por teclado, A y B, controlando que sean positivos y menores a 50.\nObtener su producto utilizando el método egipcio, que consiste en lo siguiente. • Se hacen dos columnas: en la primera, se van obteniendo las potencias de 2, mientras 2n sea menor que A\n• En la segunda, se van obteniendo el doble de cada valor, comenzando por B, hasta llegar\na la potencia de 2 generada. • Obtener el valor A sumando los distintos valores de la primera columna, sumando la\npareja correspondiente en la columna B\nEl número que se obtiene es el resultado.\nEjemplo: 48 * 15\n48 * 15\n1 15\n2 30\n4 60\n8 120\n16 240\n32 480\nEl valor A (48) se obtiene sumando 32+16, por lo tanto, si sumamos su correspondiente pareja en la\notra columna (240+480) obtenemos 720, que es el resultado de multiplicar 48*15\nPuede utilizar vectores"
    },
    {
      "metadata": {
        "trusted": true
      },
      "cell_type": "code",
      "source": "",
      "execution_count": null,
      "outputs": []
    },
    {
      "metadata": {
        "trusted": true
      },
      "cell_type": "markdown",
      "source": "# Examen Final 04-10"
    },
    {
      "metadata": {
        "trusted": true
      },
      "cell_type": "code",
      "source": "# EXAMEN FINAL 04-10\n#Ejercicio 1\n\n#Se solicita generar una lista en forma aleatoria\n#donde la cantidad N de elementos de la misma sean solicitados por teclado.\n#los numeros alatorios deben estar en el rango de 0 a 99999 y la cantidad de numeros de cada valor generado debe ser impar.\n#Sobre esta lista se solicita:\n#-encontrar el maximo y el minimo\n#-realizar un ordenamiento por el valor centrar de cada elemento.\n#Por ejemplo: en la siguiente lista se ordena de la siguiente forma:\n#Lista = 234, 146, 34567, 161, 479, 8, 193 ya que el orden es 3, 4, 5, 6, 7, 8, 9\n#Detallar por comentario cual fue el metodo de ordenamiento utilizado.\n#Imprimir la lista original y tambien la lista reordenada\n\nimport random\n\ndef qdig(x):\n    count = 0\n    while x > 0:\n        x = x//10\n        count = count + 1\n    return count\n    \ndef cargarlista(cantidad):\n    lista = []\n    count  = 0\n    while count < cantidad:\n        alea = random.randint(0,99999)\n        dig = qdig(alea)\n        if dig%2 != 0:\n            lista.append(alea)\n            count = count + 1\n    return lista\n\ndef digmed(num):\n    largo = qdig(num)\n    half = (largo//2)\n    a = num//10**(half)\n    b = a%10\n    return b\n\n#metodo de intercambio\ndef metodointercambio(vec):\n    desordenado = True\n    largo = len(vec)\n    while desordenado: \n        desordenado = False\n        for i in range(largo-1):\n            if digmed(vec[i]) > digmed(vec[i+1]):\n                a = vec[i]\n                b = vec[i+1]                \n                vec[i] = b\n                vec[i+1] = a\n                desordenado = True\n    return vec\n\ndef maxim(lista):\n    maximo = lista[0]\n    pos = 0\n    for i in range(0, len(lista)):\n        if lista[i]>maximo:\n            maximo = lista[i]\n            pos = i            \n    # Contar repeticiones del máximo\n    rep = 0\n    for i in range(0, len(lista)):\n        if lista[i]==maximo:\n            rep = rep + 1\n    print(\"El máximo es\", maximo, \"y se encontró\", rep, \"veces\")\n    return\n\ndef minim(lista):\n    minimo = lista[0]\n    pos = 0\n    for i in range(0, len(lista)):\n        if lista[i]<minimo:\n            minimo = lista[i]\n            pos = i            \n    # Contar repeticiones del máximo\n    rep = 0\n    for i in range(0, len(lista)):\n        if lista[i]==minimo:\n            rep = rep + 1\n    print(\"El minimo es\", minimo, \"y se encontró\", rep, \"veces\")\n    return\n\ncant = int(input(\"ingrese la cantidad de numeros\"))\nlistaorigen = (cargarlista(cant))\nprint(\"la lista original es: \",listaorigen)\n\nmaxim(listaorigen)\nminim(listaorigen)\n#metodo de intercambio\nlistaord = print(\"la lista reordenada por el numero central es: \", metodointercambio(listaorigen))",
      "execution_count": 4,
      "outputs": [
        {
          "output_type": "stream",
          "name": "stdout",
          "text": "ingrese la cantidad de numeros20\nla lista original es:  [27531, 68242, 67911, 49960, 99477, 38045, 91239, 22684, 76418, 97635, 93168, 79499, 19860, 42917, 97100, 36817, 91327, 96336, 79854, 54817]\nEl máximo es 99477 y se encontró 1 veces\nEl minimo es 19860 y se encontró 1 veces\nla lista reordenada por el numero central es:  [38045, 93168, 97100, 68242, 91239, 91327, 96336, 99477, 76418, 79499, 27531, 22684, 97635, 19860, 36817, 79854, 54817, 67911, 49960, 42917]\n"
        }
      ]
    },
    {
      "metadata": {
        "trusted": true
      },
      "cell_type": "code",
      "source": "# EXAMEN FINAL 04-10\n#Ejercicio 2\n#Realizar un programa para un cajero automatico de un banco que ante la solicitud de un monto de dinero,\n#le entregue el mismo utilizando billetes de  1000, 500,  200, 100.\n#En el caso que el cliente pida una extracion de un monto menor a $100 tiene de rechazar y\n#pedir un nuevo importe. En lo posible debe priorizar entregar los billetes mas grandes primero\n\n\nmonto = int(input(\"cuanto dinero quiere retirar?\"))\nwhile monto%100 > 0:\n    print(\"El cajero no dispone billetes menores a $100, modifique el monto solicitado\")\n    monto = int(input(\"cuanto dinero quiere retirar?\"))\n\nb1000 = monto // 1000\nrb1000 = monto % 1000\nb500 = rb1000 // 500\nrb500 = monto % 500\nb200 = rb500 // 200\nrb200 = monto % 200\nb100 = rb200 // 100\nrb100 = monto % 100\nprint(\"se entregan $\", monto, \"mediante\",b1000, \"billetes de $1000,\",b500, \"billetes de $500,\",b200, \"billetes de $200,\",b100, \"billetes de $100,\")\n\n",
      "execution_count": null,
      "outputs": []
    },
    {
      "metadata": {
        "trusted": true
      },
      "cell_type": "code",
      "source": "#Examen Final 06-12-2019 ejericio 1\nExisten numero com el 176, donde se da la condicion que la suma de dos de sus digitos, da como resultado el tercer digito.\npor ejemplo en 176 , 1+6 =7\ntambien ocurre por ejemplo en 325, donde 3+2 = 5\nBuscar todos los numeros de tres cifras que cumplen esta condicion. (25%)\nCuantos de estos numero son ademas numeros primos? (15%)",
      "execution_count": null,
      "outputs": []
    },
    {
      "metadata": {
        "trusted": true
      },
      "cell_type": "code",
      "source": "#Examen Final 06-12-2019 ejericio 2\nRealizar un programa que solicite el ingreso de numeros enteros, y que para finalizar la carga se realice ingresando -1\nEn el ingreso los numero deben verificarse que no hayan sido cargados antes. para ello debe utilizarse una busqueda binaria\npara evitar ingresar repetidos (25%).\nEn la lista generada no debe utilizarse ningun metodo de ordenamiento. \nlos numeros deben in ordenandose en su posicion en la medida que se los ingresa. (25%) \nla lista debe ir imprimiendose en la medida que se va realizando la carga.\nEl programa debe incluir po lo menos 2 funciones, que cunplan una parte funcional del programa. (10%)\n\n",
      "execution_count": null,
      "outputs": []
    }
  ],
  "metadata": {
    "kernelspec": {
      "name": "python36",
      "display_name": "Python 3.6",
      "language": "python"
    },
    "language_info": {
      "mimetype": "text/x-python",
      "nbconvert_exporter": "python",
      "name": "python",
      "pygments_lexer": "ipython3",
      "version": "3.6.6",
      "file_extension": ".py",
      "codemirror_mode": {
        "version": 3,
        "name": "ipython"
      }
    }
  },
  "nbformat": 4,
  "nbformat_minor": 2
}