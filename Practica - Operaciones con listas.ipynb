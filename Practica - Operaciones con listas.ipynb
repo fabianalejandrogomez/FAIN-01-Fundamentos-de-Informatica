{
  "cells": [
    {
      "metadata": {
        "trusted": true
      },
      "cell_type": "code",
      "source": "#ayuda memoria ordenamientos\n\n# seleccion\n\n#for (larg-1)\n#for (i+1, larg)\n#if lis[i] > lis[j]\n\n# burbujeo\n\n#while desordenado\n#for (larg-1)\n#if lis[i] > lis[i+1] (recordar desordenado)\n\n# insercion \n\n#for (1, larg)\n#while j > 0 and lis[j-1] > aux\n#(recordar espejada)\n\n#repetidos for (larg)/for (i+1, larg)/if lis[i] == lis[j]\n\ndef ordena_m_selec(lis):\n    larg = len(lis)\n    for i in range(larg-1):\n        for j in range(i+1, larg):\n            if lis[i] > lis[j]:\n                a = lis[i]\n                b = lis[j]\n                lis[i] = b\n                lis[j] = a\n    return lis\n\ndef ordena_m_burbu(lis):\n    larg = len(lis)\n    dersordenado = True\n    while desordenado:\n        dersordenado = False\n        for i in range(larg-1):\n            if lis[i] > lis[i+1]:\n                a = lis[i]\n                b = lis[i+1]\n                lis[i] = b\n                lis[i+1] = a\n                dersordenado = True\n    return lis\n\ndef integrar(lis1, lis2):\n    lis3 = []\n    larg1 = len(lis1)\n    larg2 = len(lis2)    \n    for i in range(larg1):\n        lis3.append(lis1[i])\n        lis3.append(lis2[i])\n    return lis3\n\ndef ordena_m_inser(lis):\n    larg = len(lis)\n    for i in range(1, larg):\n        aux = lis[i]\n        j = i\n        while j > 0 and lis[j-1] > aux:\n            lis[j] = lis[j-1]\n            j = j - 1\n        lis[j] = aux\n    return lis\n\ndef buscarep(lis):\n    larg = len(lis)\n    lisrepet = []\n    posrepet = []\n    for i in range(larg-1):\n        rep = 0\n        for j in range(i+1, larg):\n            if lis[i] == lis[j]:\n                rep = rep + 1\n                lisrepet.append(lis[i])\n                posrepet.append(i)\n    print(\"los valores repetidos son:\", lisrepet)\n    print(\"las posiciones repetidas son:\", posrepet)\n    return lisrepet, posrepet\n            \n\ndef busq_sec(lis, val):\n    larg = len(lis)\n    pos= []\n    for i in range(larg):\n        if lis[i] == val:\n            pos.append(i)\n    print(\"el valor fue encontradado en posicion: \", pos)\n    return pos\n            \ndef busq_bin(lis, val):\n    larg = len(lis)\n    lisord = ordena_m_selec(lis)\n    izq = 0\n    der = larg-1\n    pos=-1\n    while izq <= der and pos == -1:\n        centro = (izq+der)//2\n        if lisord[centro] == val:\n            pos = centro\n        elif lisord[centro] < val:\n            izq = centro + 1\n        else:\n            der = centro - 1\n    print(\"el valor fue encontradado en posicion: \", pos)\n    return pos\n    \nlista1 = [1, 2, 3, 9, 8, 7, 10, 15, 25, 43, 1, 2, 3]\nprint(lista1)\nlarg1 = len(lista1)\nprint(larg1)\nlista2 = [10, 12, 3, 19, 8, 71, 10, 25, 25, 43, 10, 2, 3]\nprint(lista2)\nlarg2 = len(lista2)\nprint(larg2)\n\n\nord_m_sel1 = ordena_m_selec(lista1)\nprint(\"ordenado por seleccion: \",ord_m_sel1)\nord_m_burbu2 = ordena_m_burbu(lista2)\nprint(\"ordenado por burbujeo: \",ord_m_burbu2)\n\nintegralis = integrar(lista1, lista2)\nprint(\"intercala la lista 1 y 2: \",integralis)\n\nord_m_inser2 = ordena_m_inser(integralis)\nprint(\"ordenado por insercion \",ord_m_inser2)\n\nrepetidos = buscarep(lista1)\n\nvalor = 10\nbusca = busq_sec(lista1,valor)\n\nvalor = 19\nbusca = busq_bin(lista2,valor)",
      "execution_count": 1,
      "outputs": [
        {
          "output_type": "stream",
          "text": "[1, 2, 3, 9, 8, 7, 10, 15, 25, 43, 1, 2, 3]\n13\n[10, 12, 3, 19, 8, 71, 10, 25, 25, 43, 10, 2, 3]\n13\nordenado por seleccion:  [1, 1, 2, 2, 3, 3, 7, 8, 9, 10, 15, 25, 43]\nordenado por burbujeo:  [2, 3, 3, 8, 10, 10, 10, 12, 19, 25, 25, 43, 71]\nintercala la lista 1 y 2:  [1, 2, 1, 3, 2, 3, 2, 8, 3, 10, 3, 10, 7, 10, 8, 12, 9, 19, 10, 25, 15, 25, 25, 43, 43, 71]\nordenado por insercion  [1, 1, 2, 2, 2, 3, 3, 3, 3, 7, 8, 8, 9, 10, 10, 10, 10, 12, 15, 19, 25, 25, 25, 43, 43, 71]\nlos valores repetidos son: [1, 2, 3]\nlas posiciones repetidas son: [0, 2, 4]\nel valor fue encontradado en posicion:  [9]\nel valor fue encontradado en posicion:  8\n",
          "name": "stdout"
        }
      ]
    },
    {
      "metadata": {
        "trusted": true
      },
      "cell_type": "code",
      "source": "#Basicos\nimport random\n\ndef qdig(n):\n    count = 0\n    while n > 0:\n        n = n//10\n        count = count + 1\n    return count\n\ndef genera(n): #Genera valores entre 1 y 3 digitos, solo pares con cantidad de digitos impares\n    lis= []\n    q = 0\n    while q < n:\n        alea = random.randint(0,999)\n        if alea%2 == 0 and qdig(alea)%2 != 0:\n            lis.append(alea)\n            q = q +1\n    return lis\n\ndef ordensec(li):\n    lar = len(li)\n    i = 0\n    for i in range(lar-1):\n        for j in range(i+1, lar):\n            if li[i] > li[j]:\n                aux = li[j]\n                li[j] = li[i]\n                li[i] = aux\n    return li\n    \ndef maxim(li):\n    maxi = 0\n    lar = len(li)\n    i = 0\n    for i in range(lar):\n        if li[i] > maxi:\n            maxi = li[i]\n    return maxi\n\ndef minim(li):\n    mini = li[0]\n    lar = len(li)\n    i = 0\n    for i in range(lar):\n        if li[i] <= mini:\n            mini = li[i]\n    return mini\n\ndef buscsec(li,val):\n    lar = len(li)\n    pos = []\n    for i in range(lar):\n        if li[i] == val:\n            pos.append(i)\n    return pos\n\ndef valrep(li):\n    lar = len(li)\n    valrep = []\n    i = 0 \n    for i in range(i, lar-1):   \n        for j in range(i+1, lar):\n            if li[i] == li[j] and li[i] not in valrep:               \n                valrep.append(li[i])\n    return valrep\n\ndef qrep(li1,li2):\n    lar1 = len(li1)\n    lar2 = len(li2)\n    repe = [0]*lar1\n    final = []\n    for i in range(lar1):\n        for j in range(lar2):\n            if li1[i] == li2[j]:\n                repe[i] = repe[i] + 1\n    for i in range(lar1):\n        final.append(\"valor:\")\n        final.append(li1[i])\n        final.append(\"repeticiones:\")\n        final.append(repe[i])\n    return final\n\n\ndef valmasrep(li):\n    lar = len(li)\n    vmr = -1\n    qmasrep = 0\n\n    for i in range(lar):\n        qrep = 0\n    \n        for j in range(i, lar):\n            if li[i]==li[j]:\n                qrep = qrep + 1\n    \n        if qrep>=qmasrep:\n            vmr = li[i]\n            qmasrep = qrep\n    return vmr, qmasrep\n\norig = genera(100)\nprint(\"La lista original es: \", orig)\nprint()\nprint(\"El maximo de la lista es: \", maxim(orig))\nprint()\nprint(\"El minimo de la lista es: \", minim(orig))\nprint()\nprint(\"El maximo de la lista se encontro en : \", buscsec(orig, maxim(orig)))\nprint()\nprint(\"El minimo de la lista se encontro en : \", buscsec(orig, minim(orig)))\nprint()\nordenada = ordensec(orig)\nprint(\"La lista ordenada es: \", ordenada)\nprint()\nrepetidos = valrep(orig)\nprint(\"Los valores repetidos son: \", repetidos)\nprint(\"La cantidad de repeticiones por valor repetido es: \",qrep(repetidos, ordenada))\nprint()\nmasrepetidos = valmasrep(ordenada)\nprint(\"Los valores mas repetidos son: \", masrepetidos)",
      "execution_count": 14,
      "outputs": [
        {
          "output_type": "stream",
          "text": "La lista original es:  [984, 638, 856, 6, 682, 644, 502, 410, 548, 264, 178, 126, 338, 872, 764, 170, 356, 884, 962, 426, 542, 562, 180, 570, 366, 918, 988, 468, 182, 712, 718, 138, 866, 448, 614, 690, 582, 768, 210, 134, 448, 344, 670, 166, 338, 592, 436, 916, 720, 154, 746, 756, 796, 134, 124, 430, 238, 806, 636, 376, 984, 858, 250, 538, 510, 342, 190, 750, 674, 184, 430, 784, 154, 884, 344, 516, 712, 464, 324, 172, 592, 328, 198, 860, 536, 120, 212, 444, 294, 316, 624, 724, 176, 206, 220, 370, 166, 344, 712, 976]\n\nEl maximo de la lista es:  988\n\nEl minimo de la lista es:  6\n\nEl maximo de la lista se encontro en :  [26]\n\nEl minimo de la lista se encontro en :  [3]\n\nLa lista ordenada es:  [6, 120, 124, 126, 134, 134, 138, 154, 154, 166, 166, 170, 172, 176, 178, 180, 182, 184, 190, 198, 206, 210, 212, 220, 238, 250, 264, 294, 316, 324, 328, 338, 338, 342, 344, 344, 344, 356, 366, 370, 376, 410, 426, 430, 430, 436, 444, 448, 448, 464, 468, 502, 510, 516, 536, 538, 542, 548, 562, 570, 582, 592, 592, 614, 624, 636, 638, 644, 670, 674, 682, 690, 712, 712, 712, 718, 720, 724, 746, 750, 756, 764, 768, 784, 796, 806, 856, 858, 860, 866, 872, 884, 884, 916, 918, 962, 976, 984, 984, 988]\n\nLos valores repetidos son:  [134, 154, 166, 338, 344, 430, 448, 592, 712, 884, 984]\nLa cantidad de repeticiones por valor repetido es:  ['valor:', 134, 'repeticiones:', 2, 'valor:', 154, 'repeticiones:', 2, 'valor:', 166, 'repeticiones:', 2, 'valor:', 338, 'repeticiones:', 2, 'valor:', 344, 'repeticiones:', 3, 'valor:', 430, 'repeticiones:', 2, 'valor:', 448, 'repeticiones:', 2, 'valor:', 592, 'repeticiones:', 2, 'valor:', 712, 'repeticiones:', 3, 'valor:', 884, 'repeticiones:', 2, 'valor:', 984, 'repeticiones:', 2]\n\nLos valores mas repetidos son:  (712, 3)\n",
          "name": "stdout"
        }
      ]
    },
    {
      "metadata": {
        "trusted": true
      },
      "cell_type": "code",
      "source": "",
      "execution_count": null,
      "outputs": []
    }
  ],
  "metadata": {
    "kernelspec": {
      "name": "python36",
      "display_name": "Python 3.6",
      "language": "python"
    },
    "language_info": {
      "mimetype": "text/x-python",
      "nbconvert_exporter": "python",
      "name": "python",
      "pygments_lexer": "ipython3",
      "version": "3.6.6",
      "file_extension": ".py",
      "codemirror_mode": {
        "version": 3,
        "name": "ipython"
      }
    }
  },
  "nbformat": 4,
  "nbformat_minor": 2
}