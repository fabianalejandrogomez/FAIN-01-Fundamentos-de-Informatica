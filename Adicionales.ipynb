{
  "cells": [
    {
      "metadata": {
        "collapsed": true
      },
      "cell_type": "markdown",
      "source": "Funcion para calcular cantidad de Digitos"
    },
    {
      "metadata": {},
      "cell_type": "markdown",
      "source": "Manejo de Digitos de un Numero"
    },
    {
      "metadata": {
        "trusted": true
      },
      "cell_type": "code",
      "source": "def qdig(x): # Va contando la cantidad de digitos mientras, con while, achico el numero al divirlo\n    count = 0\n    while x > 0:\n        x = x // 10\n        count = count + 1\n    return count\n\ndef seldig(x,z): # Va achicando el numero al dividirlo y se queda con el ultimo digito cuando llega a la posicion\n    count = 0\n    while count < z:\n        d = x%10\n        x = x//10\n        count = count +  1      \n    return d\n\ndef ult3(x,n): # Al agrandar el resto(%) selecciono mas digitos del final\n    d = x%10**n\n    return d\n\ndef pri3(x,n): # Al multiplicar el divisor y hacerlo mas grande, selecciono mas digitos del inicio\n    d = x//10**(qdig(x)-n)\n    return d\n\ndef digmed(x,n): \n    d = x%10**(qdig(x)-n) # Con resto, me quedo solo con los ultimos numeros que me pide\n    e = d//10**n # Al numero anterior, les saco los ultimos numero que me pide\n    return e\n\ndef capicua(x):\n    q = qdig(x)\n    hq = q//2\n    capi = True\n    ini = 1\n    fin = qdig(x)\n    while (q >= hq) and capi:\n        a = seldig(x, fin)\n        b = seldig(x, ini)\n        if a != b:\n            capi = False\n        q = q - 1\n        ini = ini + 1\n        fin = fin - 1\n    return capi\n\n#programa principal\nn = 123454321\nprint(\"El numero original es:\", n)\nprint(\"Cantidad de Elementos:\", qdig(n))\n\nprint(\"Digito en la posicion 6:\", seldig(n,6))\n\nprint(\"Ultimos 3 elementos\", ult3(n,3))\n\nprint(\"Primeros 3 elementos\", pri3(n,3))\n\nalgunosdigitos = 2\nprint(\"Digitos del medio sacando \", algunosdigitos,\" de cada lado\", digmed(n,algunosdigitos))\n\nprint(\"Es capicua\", capicua(n))",
      "execution_count": 2,
      "outputs": [
        {
          "output_type": "stream",
          "text": "El numero original es: 123454321\nCantidad de Elementos: 9\nDigito en la posicion 6: 4\nUltimos 3 elementos 321\nPrimeros 3 elementos 123\nDigitos del medio sacando  2  de cada lado 34543\nEs capicua True\n",
          "name": "stdout"
        }
      ]
    },
    {
      "metadata": {},
      "cell_type": "raw",
      "source": "Funcion para imprimir un Digito en Particular"
    },
    {
      "metadata": {
        "trusted": true
      },
      "cell_type": "code",
      "source": "def q_digitos(x):\n    dig = 1\n    while x > 9:\n        x = x // 10\n        dig = dig + 1\n    return dig\n\nnum = 9182\n\n#Descomponiendo los elementos\na = num%10**1\nb = num%10**2\nc = num%10**3\nd = num%10**4\n\ne = num//10**0\nf = num//10**1\ng = num//10**2\nh = num//10**3\n\nprint(\"la cantidad de digitos del numero es: \",q_digitos(num))\n\nprint(a)\nprint(b)\nprint(c)\nprint(d)\n\nprint(e)\nprint(f)\nprint(g)\nprint(h)\n\n\n",
      "execution_count": 2,
      "outputs": [
        {
          "output_type": "stream",
          "text": "la cantidad de digitos del numero es:  4\n2\n82\n182\n9182\n9182\n918\n91\n9\n",
          "name": "stdout"
        }
      ]
    },
    {
      "metadata": {
        "trusted": true
      },
      "cell_type": "code",
      "source": "def q_digitos(x):\n    dig = 1\n    while x > 9:\n        x = x // 10\n        dig = dig + 1\n    return dig\n\ndef elemento(y,z):\n    w = y%(10**(z))\n    return w\n\nnum = 918267\nposicion = 4\ncount = 0\na = 0\n\nwhile count < q_digitos(num):\n    count = count + 1\n    a = a + 1\n    print(elemento(num,a))\n    \n    \n    ",
      "execution_count": 3,
      "outputs": [
        {
          "output_type": "stream",
          "text": "7\n67\n267\n8267\n18267\n918267\n",
          "name": "stdout"
        }
      ]
    },
    {
      "metadata": {
        "trusted": true
      },
      "cell_type": "code",
      "source": "def q_digitos(x):\n    count = 0\n    while x > 0:\n        x = x // 10\n        count = count + 1\n    return count\n\ndef elemento(y,z):\n    a = y%(10**(z))\n    b = y%(10**(z-1))\n    c = (a - b)//10**(z-1)\n    return c\n\nnum = 918267\nprint(q_digitos(num))\nposicion = 4\nprint(elemento(num, posicion))",
      "execution_count": 3,
      "outputs": [
        {
          "output_type": "stream",
          "text": "6\n8\n",
          "name": "stdout"
        }
      ]
    },
    {
      "metadata": {
        "trusted": true
      },
      "cell_type": "code",
      "source": "#Dos formas de hacer lo mismo: encontrar el digito de una posicion\n\ndef seldig(y, z):\n    a = y%(10**(z))\n    b = y%(10**(z-1))\n    c = (a-b)//(10**(z-1))\n    return c\n\ndef seldig2(y,z):\n    count = 0\n    while z > count:\n        c = y%10\n        y = y//10\n        count = count + 1\n    return c\n    \nn = 78371380393223149\nprint(seldig(n,8))\nprint(seldig2(n,8))",
      "execution_count": 6,
      "outputs": [
        {
          "output_type": "stream",
          "text": "9\n9\n",
          "name": "stdout"
        }
      ]
    },
    {
      "metadata": {
        "trusted": true
      },
      "cell_type": "code",
      "source": "def q_digitos(x):\n    dig = 1\n    while x > 9:\n        x = x // 10\n        dig = dig + 1\n    return dig\n\ndef elemento(y,z):\n    a = y%(10**(z))\n    b = y%(10**(z-1))\n    c = (a - b)//10**(z-1)\n    return c\n    \nnum = 918267\nqd = q_digitos(num)\n\nfor i in range(1, qd+1):\n    digito = elemento(num,i)\n    print(i, digito)\n    ",
      "execution_count": 5,
      "outputs": [
        {
          "output_type": "stream",
          "text": "1 7\n2 6\n3 2\n4 8\n5 1\n6 9\n",
          "name": "stdout"
        }
      ]
    },
    {
      "metadata": {},
      "cell_type": "markdown",
      "source": "Funcion para sumar los digitos de un numero"
    },
    {
      "metadata": {
        "trusted": true
      },
      "cell_type": "code",
      "source": "n = 2342141\n\ndigito = 0\nsuma = 0\nprint(\"digito | n | suma\")\nprint(digito,\"|\",n,\"|\",suma)\n    \nwhile n!=0:\n    digito = n%10\n    n = n // 10\n    suma+=digito\n    \n    print(digito,\"|\",n,\"|\",suma)\nprint(\"La suma de los dígitos del numero es\", suma)",
      "execution_count": 6,
      "outputs": [
        {
          "output_type": "stream",
          "text": "digito | n | suma\n0 | 2342141 | 0\n1 | 234214 | 1\n4 | 23421 | 5\n1 | 2342 | 6\n2 | 234 | 8\n4 | 23 | 12\n3 | 2 | 15\n2 | 0 | 17\nLa suma de los dígitos del numero es 17\n",
          "name": "stdout"
        }
      ]
    },
    {
      "metadata": {
        "trusted": true
      },
      "cell_type": "code",
      "source": "import random\n\ncant = int(input(\"ingrese la cantidad de valores de la lista, maximo 50\"))\nwhile cant > 50:\n    cant = int(input(\"ingrese la cantidad de valores de la lista, maximo 50\"))\n\nlista = []\nfor i in range(1, cant):\n    lista.append(random.randint(1,99))\nprint(lista)\n\nmaximo = 0\n\nqmasrep = 0\n\nfor i in range(len(lista)):\n    if lista[i] >= maximo:\n        maximo = lista[i]\n\nprint(maximo)\n\nfor i in range(len(lista)):\n    qrepetido = 0\n    for j in range(i, len(lista)):\n        if lista[i] == lista[j]:\n            qrepetido = qrepetido + 1\n            \n        if qrepetido>qmasrep:\n            vmr = lista[i]\n            qmasrep = qrepetido\n\nprint(qmasrep)\nprint(vmr)\n",
      "execution_count": 6,
      "outputs": [
        {
          "output_type": "stream",
          "name": "stdout",
          "text": "ingrese la cantidad de valores de la lista, maximo 5040\n[91, 4, 39, 1, 38, 55, 56, 41, 35, 56, 77, 85, 38, 68, 90, 3, 33, 48, 89, 7, 29, 83, 83, 52, 65, 20, 34, 61, 18, 57, 89, 64, 2, 35, 50, 46, 75, 28, 72]\n91\n2\n38\n"
        }
      ]
    },
    {
      "metadata": {},
      "cell_type": "markdown",
      "source": "Examen Final 2 (Thompson) Escribir una función que ordene un vector en forma ascendente y además elimine los elementos repetidos del mismo. La función debe recibir como parámetro el vector y la cantidad de elementos que contiene (hasta un máximo de MAX elementos), y devolver como valor de retorno un entero indicando cuántos elementos contiene el vector luego del proceso. Puede utilizar funciones auxiliares en caso necesario, y utilizar cualquiera de los métodos de ordenamiento estudiados."
    },
    {
      "metadata": {
        "trusted": true
      },
      "cell_type": "code",
      "source": "import random\n\ndef crealista(lista):\n    cant = int(input(\"ingrese la cantidad, maximo 99: \"))\n    while cant >99:\n        print(\"Debe ingresar menos de 100\")\n        cant = int(input(\"ingrese la cantidad, maximo 99: \"))\n    for i in range(1, cant):\n        lista.append(random.randint(1,99))\n\ndef ordena(lista):\n    for i in range(len(lista)-1):\n        for j in range(i+1, len(lista)):\n            if lista[i] > lista[j]:\n                aux = lista[i]\n                lista[i] = lista[j]\n                lista[j] = aux\n\ndef busquedasecuencial(lista, dato):\n    i = 0\n    while i < len(lista) and lista[i] != dato:\n        i = i + 1\n    if i < len(lista):\n        return i\n    else:\n        return -1              \n                \ndef remover(lista): \n    listafinal = [] \n    for i in lista: \n        if i not in listafinal: \n            listafinal.append(i) \n    return listafinal \n                      \n            \nv =[]\ndel v[:]\n\ncrealista(v)\n\n\nprint(\"lista original: \", v)\nprint(\"largo: \",len(v))\n\nordena(v)\n\nprint(\"lista ordenada: \", v)\n\nprint(\"lista final: \",remover(v))\n\nprint(\"largo: \",len(remover(v)))\n\nprint(\"dato encontrado en: \",busquedasecuencial(v, 10))\n",
      "execution_count": 1,
      "outputs": [
        {
          "output_type": "stream",
          "name": "stdout",
          "text": "ingrese la cantidad, maximo 99: 44\nlista original:  [4, 20, 9, 77, 24, 76, 27, 11, 21, 41, 88, 95, 38, 61, 16, 53, 27, 62, 21, 74, 46, 65, 40, 60, 74, 53, 66, 42, 93, 58, 19, 5, 60, 6, 43, 11, 23, 63, 71, 44, 52, 91, 80]\nlargo:  43\nlista ordenada:  [4, 5, 6, 9, 11, 11, 16, 19, 20, 21, 21, 23, 24, 27, 27, 38, 40, 41, 42, 43, 44, 46, 52, 53, 53, 58, 60, 60, 61, 62, 63, 65, 66, 71, 74, 74, 76, 77, 80, 88, 91, 93, 95]\nlista final:  [4, 5, 6, 9, 11, 16, 19, 20, 21, 23, 24, 27, 38, 40, 41, 42, 43, 44, 46, 52, 53, 58, 60, 61, 62, 63, 65, 66, 71, 74, 76, 77, 80, 88, 91, 93, 95]\nlargo:  37\ndato encontrado en:  -1\n"
        }
      ]
    },
    {
      "metadata": {
        "trusted": true
      },
      "cell_type": "markdown",
      "source": "generar un programa que solicite ingresar un numero entero. En dicho menu debe rechazar los numeros que contengan digitos repetidos. No esta permitido ingresar los digitos por separado."
    },
    {
      "metadata": {},
      "cell_type": "markdown",
      "source": "generar un programa donde se ingresen numeros enteros positivos. encontrar el minomo y el maximo del conjunto de nu eros ingresados. Luego ogtener el rango del conjunto de numeros. El rango se calcula como la diferencia entre el maximo y el minimo del conjunto de datos. Finalmente eliminar del listado los numeros menores al rango."
    }
  ],
  "metadata": {
    "kernelspec": {
      "name": "python36",
      "display_name": "Python 3.6",
      "language": "python"
    },
    "language_info": {
      "mimetype": "text/x-python",
      "nbconvert_exporter": "python",
      "name": "python",
      "pygments_lexer": "ipython3",
      "version": "3.6.6",
      "file_extension": ".py",
      "codemirror_mode": {
        "version": 3,
        "name": "ipython"
      }
    }
  },
  "nbformat": 4,
  "nbformat_minor": 2
}