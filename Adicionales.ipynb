{
  "nbformat": 4,
  "nbformat_minor": 0,
  "metadata": {
    "kernelspec": {
      "name": "python36",
      "display_name": "Python 3.6",
      "language": "python"
    },
    "language_info": {
      "mimetype": "text/x-python",
      "nbconvert_exporter": "python",
      "name": "python",
      "pygments_lexer": "ipython3",
      "version": "3.6.6",
      "file_extension": ".py",
      "codemirror_mode": {
        "version": 3,
        "name": "ipython"
      }
    },
    "colab": {
      "name": "Adicionales.ipynb",
      "provenance": []
    }
  },
  "cells": [
    {
      "cell_type": "markdown",
      "metadata": {
        "collapsed": true,
        "id": "mxj6WNuu1KmC"
      },
      "source": [
        "Funcion para calcular cantidad de Digitos"
      ]
    },
    {
      "cell_type": "markdown",
      "metadata": {
        "id": "tAUaL7n_1KmC"
      },
      "source": [
        "Manejo de Digitos de un Numero"
      ]
    },
    {
      "cell_type": "code",
      "metadata": {
        "trusted": true,
        "id": "7efPS1u-1KmC",
        "outputId": "7208c080-ddcf-4d67-a2c6-f1b6bef3a2b2"
      },
      "source": [
        "def qdig(x): # Va contando la cantidad de digitos mientras, con while, achico el numero al divirlo\n",
        "    count = 0\n",
        "    while x > 0:\n",
        "        x = x // 10\n",
        "        count = count + 1\n",
        "    return count\n",
        "\n",
        "def seldig(x,z): # Va achicando el numero al dividirlo y se queda con el ultimo digito cuando llega a la posicion\n",
        "    count = 0\n",
        "    while count < z:\n",
        "        d = x%10\n",
        "        x = x//10\n",
        "        count = count +  1      \n",
        "    return d\n",
        "\n",
        "def ult3(x,n): # Al agrandar el resto(%) selecciono mas digitos del final\n",
        "    d = x%10**n\n",
        "    return d\n",
        "\n",
        "def pri3(x,n): # Al multiplicar el divisor y hacerlo mas grande, selecciono mas digitos del inicio\n",
        "    d = x//10**(qdig(x)-n)\n",
        "    return d\n",
        "\n",
        "def digmed(x,n): \n",
        "    d = x%10**(qdig(x)-n) # Con resto, me quedo solo con los ultimos numeros que me pide\n",
        "    e = d//10**n # Al numero anterior, les saco los ultimos numero que me pide\n",
        "    return e\n",
        "\n",
        "def capicua(x):\n",
        "    q = qdig(x)\n",
        "    hq = q//2\n",
        "    capi = True\n",
        "    ini = 1\n",
        "    fin = qdig(x)\n",
        "    while (q >= hq) and capi:\n",
        "        a = seldig(x, fin)\n",
        "        b = seldig(x, ini)\n",
        "        if a != b:\n",
        "            capi = False\n",
        "        q = q - 1\n",
        "        ini = ini + 1\n",
        "        fin = fin - 1\n",
        "    return capi\n",
        "\n",
        "#programa principal\n",
        "n = 123454321\n",
        "print(\"El numero original es:\", n)\n",
        "print(\"Cantidad de Elementos:\", qdig(n))\n",
        "\n",
        "print(\"Digito en la posicion 6:\", seldig(n,6))\n",
        "\n",
        "print(\"Ultimos 3 elementos\", ult3(n,3))\n",
        "\n",
        "print(\"Primeros 3 elementos\", pri3(n,3))\n",
        "\n",
        "algunosdigitos = 2\n",
        "print(\"Digitos del medio sacando \", algunosdigitos,\" de cada lado\", digmed(n,algunosdigitos))\n",
        "\n",
        "print(\"Es capicua\", capicua(n))"
      ],
      "execution_count": null,
      "outputs": [
        {
          "output_type": "stream",
          "text": [
            "El numero original es: 123454321\n",
            "Cantidad de Elementos: 9\n",
            "Digito en la posicion 6: 4\n",
            "Ultimos 3 elementos 321\n",
            "Primeros 3 elementos 123\n",
            "Digitos del medio sacando  2  de cada lado 34543\n",
            "Es capicua True\n"
          ],
          "name": "stdout"
        }
      ]
    },
    {
      "cell_type": "markdown",
      "metadata": {
        "id": "NTBLp3mL1KmD"
      },
      "source": [
        "Funcion para imprimir un Digito en Particular"
      ]
    },
    {
      "cell_type": "code",
      "metadata": {
        "trusted": true,
        "id": "Qoqchjkt1KmD",
        "outputId": "e5758638-4a9e-4116-faa0-c8a0fa7a81fd"
      },
      "source": [
        "def q_digitos(x):\n",
        "    dig = 1\n",
        "    while x > 9:\n",
        "        x = x // 10\n",
        "        dig = dig + 1\n",
        "    return dig\n",
        "\n",
        "num = 9182\n",
        "\n",
        "#Descomponiendo los elementos\n",
        "a = num%10**1\n",
        "b = num%10**2\n",
        "c = num%10**3\n",
        "d = num%10**4\n",
        "\n",
        "e = num//10**0\n",
        "f = num//10**1\n",
        "g = num//10**2\n",
        "h = num//10**3\n",
        "\n",
        "print(\"la cantidad de digitos del numero es: \",q_digitos(num))\n",
        "\n",
        "print(a)\n",
        "print(b)\n",
        "print(c)\n",
        "print(d)\n",
        "\n",
        "print(e)\n",
        "print(f)\n",
        "print(g)\n",
        "print(h)\n",
        "\n",
        "\n"
      ],
      "execution_count": null,
      "outputs": [
        {
          "output_type": "stream",
          "text": [
            "la cantidad de digitos del numero es:  4\n",
            "2\n",
            "82\n",
            "182\n",
            "9182\n",
            "9182\n",
            "918\n",
            "91\n",
            "9\n"
          ],
          "name": "stdout"
        }
      ]
    },
    {
      "cell_type": "code",
      "metadata": {
        "trusted": true,
        "id": "Xm01PU7_1KmD",
        "outputId": "e35e383d-1b0a-4c7b-e475-cb5ebac1a993"
      },
      "source": [
        "def q_digitos(x):\n",
        "    dig = 1\n",
        "    while x > 9:\n",
        "        x = x // 10\n",
        "        dig = dig + 1\n",
        "    return dig\n",
        "\n",
        "def elemento(y,z):\n",
        "    w = y%(10**(z))\n",
        "    return w\n",
        "\n",
        "num = 918267\n",
        "posicion = 4\n",
        "count = 0\n",
        "a = 0\n",
        "\n",
        "while count < q_digitos(num):\n",
        "    count = count + 1\n",
        "    a = a + 1\n",
        "    print(elemento(num,a))\n",
        "    \n",
        "    \n",
        "    "
      ],
      "execution_count": null,
      "outputs": [
        {
          "output_type": "stream",
          "text": [
            "7\n",
            "67\n",
            "267\n",
            "8267\n",
            "18267\n",
            "918267\n"
          ],
          "name": "stdout"
        }
      ]
    },
    {
      "cell_type": "code",
      "metadata": {
        "trusted": true,
        "id": "Okobbn831KmD",
        "outputId": "40f752c3-859d-49a3-8256-08b301cb06b2"
      },
      "source": [
        "def q_digitos(x):\n",
        "    count = 0\n",
        "    while x > 0:\n",
        "        x = x // 10\n",
        "        count = count + 1\n",
        "    return count\n",
        "\n",
        "def elemento(y,z):\n",
        "    a = y%(10**(z))\n",
        "    b = y%(10**(z-1))\n",
        "    c = (a - b)//10**(z-1)\n",
        "    return c\n",
        "\n",
        "num = 918267\n",
        "print(q_digitos(num))\n",
        "posicion = 4\n",
        "print(elemento(num, posicion))"
      ],
      "execution_count": null,
      "outputs": [
        {
          "output_type": "stream",
          "text": [
            "6\n",
            "8\n"
          ],
          "name": "stdout"
        }
      ]
    },
    {
      "cell_type": "code",
      "metadata": {
        "trusted": true,
        "id": "Ah0xU4F_1KmE",
        "outputId": "9510bd93-5bff-4dca-f90c-022e61053814"
      },
      "source": [
        "#Dos formas de hacer lo mismo: encontrar el digito de una posicion\n",
        "\n",
        "def seldig(y, z):\n",
        "    a = y%(10**(z))\n",
        "    b = y%(10**(z-1))\n",
        "    c = (a-b)//(10**(z-1))\n",
        "    return c\n",
        "\n",
        "def seldig2(y,z):\n",
        "    count = 0\n",
        "    while z > count:\n",
        "        c = y%10\n",
        "        y = y//10\n",
        "        count = count + 1\n",
        "    return c\n",
        "    \n",
        "n = 78371380393223149\n",
        "print(seldig(n,8))\n",
        "print(seldig2(n,8))"
      ],
      "execution_count": null,
      "outputs": [
        {
          "output_type": "stream",
          "text": [
            "9\n",
            "9\n"
          ],
          "name": "stdout"
        }
      ]
    },
    {
      "cell_type": "code",
      "metadata": {
        "trusted": true,
        "id": "FeOS0kdK1KmE",
        "outputId": "5cac8a95-e957-40a5-bf84-5119683437d3"
      },
      "source": [
        "def q_digitos(x):\n",
        "    dig = 1\n",
        "    while x > 9:\n",
        "        x = x // 10\n",
        "        dig = dig + 1\n",
        "    return dig\n",
        "\n",
        "def elemento(y,z):\n",
        "    a = y%(10**(z))\n",
        "    b = y%(10**(z-1))\n",
        "    c = (a - b)//10**(z-1)\n",
        "    return c\n",
        "    \n",
        "num = 918267\n",
        "qd = q_digitos(num)\n",
        "\n",
        "for i in range(1, qd+1):\n",
        "    digito = elemento(num,i)\n",
        "    print(i, digito)\n",
        "    "
      ],
      "execution_count": null,
      "outputs": [
        {
          "output_type": "stream",
          "text": [
            "1 7\n",
            "2 6\n",
            "3 2\n",
            "4 8\n",
            "5 1\n",
            "6 9\n"
          ],
          "name": "stdout"
        }
      ]
    },
    {
      "cell_type": "markdown",
      "metadata": {
        "id": "Lj5MGCt51KmE"
      },
      "source": [
        "Funcion para sumar los digitos de un numero"
      ]
    },
    {
      "cell_type": "code",
      "metadata": {
        "trusted": true,
        "id": "uiXC-HHq1KmE",
        "outputId": "fcdc90c9-1465-4f52-e941-3751f92107ea"
      },
      "source": [
        "n = 2342141\n",
        "\n",
        "digito = 0\n",
        "suma = 0\n",
        "print(\"digito | n | suma\")\n",
        "print(digito,\"|\",n,\"|\",suma)\n",
        "    \n",
        "while n!=0:\n",
        "    digito = n%10\n",
        "    n = n // 10\n",
        "    suma+=digito\n",
        "    \n",
        "    print(digito,\"|\",n,\"|\",suma)\n",
        "print(\"La suma de los dígitos del numero es\", suma)"
      ],
      "execution_count": null,
      "outputs": [
        {
          "output_type": "stream",
          "text": [
            "digito | n | suma\n",
            "0 | 2342141 | 0\n",
            "1 | 234214 | 1\n",
            "4 | 23421 | 5\n",
            "1 | 2342 | 6\n",
            "2 | 234 | 8\n",
            "4 | 23 | 12\n",
            "3 | 2 | 15\n",
            "2 | 0 | 17\n",
            "La suma de los dígitos del numero es 17\n"
          ],
          "name": "stdout"
        }
      ]
    },
    {
      "cell_type": "code",
      "metadata": {
        "trusted": true,
        "id": "Igwky2Le1KmE",
        "outputId": "655d9c7f-0e36-49f0-d4d8-d73ac35ef974"
      },
      "source": [
        "import random\n",
        "\n",
        "cant = int(input(\"ingrese la cantidad de valores de la lista, maximo 50\"))\n",
        "while cant > 50:\n",
        "    cant = int(input(\"ingrese la cantidad de valores de la lista, maximo 50\"))\n",
        "\n",
        "lista = []\n",
        "for i in range(1, cant):\n",
        "    lista.append(random.randint(1,99))\n",
        "print(lista)\n",
        "\n",
        "maximo = 0\n",
        "\n",
        "qmasrep = 0\n",
        "\n",
        "for i in range(len(lista)):\n",
        "    if lista[i] >= maximo:\n",
        "        maximo = lista[i]\n",
        "\n",
        "print(maximo)\n",
        "\n",
        "for i in range(len(lista)):\n",
        "    qrepetido = 0\n",
        "    for j in range(i, len(lista)):\n",
        "        if lista[i] == lista[j]:\n",
        "            qrepetido = qrepetido + 1\n",
        "            \n",
        "        if qrepetido>qmasrep:\n",
        "            vmr = lista[i]\n",
        "            qmasrep = qrepetido\n",
        "\n",
        "print(qmasrep)\n",
        "print(vmr)\n"
      ],
      "execution_count": null,
      "outputs": [
        {
          "output_type": "stream",
          "text": [
            "ingrese la cantidad de valores de la lista, maximo 5040\n",
            "[91, 4, 39, 1, 38, 55, 56, 41, 35, 56, 77, 85, 38, 68, 90, 3, 33, 48, 89, 7, 29, 83, 83, 52, 65, 20, 34, 61, 18, 57, 89, 64, 2, 35, 50, 46, 75, 28, 72]\n",
            "91\n",
            "2\n",
            "38\n"
          ],
          "name": "stdout"
        }
      ]
    },
    {
      "cell_type": "markdown",
      "metadata": {
        "id": "ugijTPNW1KmE"
      },
      "source": [
        "Examen Final 2 (Thompson) Escribir una función que ordene un vector en forma ascendente y además elimine los elementos repetidos del mismo. La función debe recibir como parámetro el vector y la cantidad de elementos que contiene (hasta un máximo de MAX elementos), y devolver como valor de retorno un entero indicando cuántos elementos contiene el vector luego del proceso. Puede utilizar funciones auxiliares en caso necesario, y utilizar cualquiera de los métodos de ordenamiento estudiados."
      ]
    },
    {
      "cell_type": "code",
      "metadata": {
        "trusted": true,
        "id": "iLnVMPBc1KmE",
        "outputId": "eb97c33a-a3b1-431c-ab11-436a5577b860"
      },
      "source": [
        "import random\n",
        "\n",
        "def crealista(lista):\n",
        "    cant = int(input(\"ingrese la cantidad, maximo 99: \"))\n",
        "    while cant >99:\n",
        "        print(\"Debe ingresar menos de 100\")\n",
        "        cant = int(input(\"ingrese la cantidad, maximo 99: \"))\n",
        "    for i in range(1, cant):\n",
        "        lista.append(random.randint(1,99))\n",
        "\n",
        "def ordena(lista):\n",
        "    for i in range(len(lista)-1):\n",
        "        for j in range(i+1, len(lista)):\n",
        "            if lista[i] > lista[j]:\n",
        "                aux = lista[i]\n",
        "                lista[i] = lista[j]\n",
        "                lista[j] = aux\n",
        "\n",
        "def busquedasecuencial(lista, dato):\n",
        "    i = 0\n",
        "    while i < len(lista) and lista[i] != dato:\n",
        "        i = i + 1\n",
        "    if i < len(lista):\n",
        "        return i\n",
        "    else:\n",
        "        return -1              \n",
        "                \n",
        "def remover(lista): \n",
        "    listafinal = [] \n",
        "    for i in lista: \n",
        "        if i not in listafinal: \n",
        "            listafinal.append(i) \n",
        "    return listafinal \n",
        "                      \n",
        "            \n",
        "v =[]\n",
        "del v[:]\n",
        "\n",
        "crealista(v)\n",
        "\n",
        "\n",
        "print(\"lista original: \", v)\n",
        "print(\"largo: \",len(v))\n",
        "\n",
        "ordena(v)\n",
        "\n",
        "print(\"lista ordenada: \", v)\n",
        "\n",
        "print(\"lista final: \",remover(v))\n",
        "\n",
        "print(\"largo: \",len(remover(v)))\n",
        "\n",
        "print(\"dato encontrado en: \",busquedasecuencial(v, 10))\n"
      ],
      "execution_count": null,
      "outputs": [
        {
          "output_type": "stream",
          "text": [
            "ingrese la cantidad, maximo 99: 44\n",
            "lista original:  [4, 20, 9, 77, 24, 76, 27, 11, 21, 41, 88, 95, 38, 61, 16, 53, 27, 62, 21, 74, 46, 65, 40, 60, 74, 53, 66, 42, 93, 58, 19, 5, 60, 6, 43, 11, 23, 63, 71, 44, 52, 91, 80]\n",
            "largo:  43\n",
            "lista ordenada:  [4, 5, 6, 9, 11, 11, 16, 19, 20, 21, 21, 23, 24, 27, 27, 38, 40, 41, 42, 43, 44, 46, 52, 53, 53, 58, 60, 60, 61, 62, 63, 65, 66, 71, 74, 74, 76, 77, 80, 88, 91, 93, 95]\n",
            "lista final:  [4, 5, 6, 9, 11, 16, 19, 20, 21, 23, 24, 27, 38, 40, 41, 42, 43, 44, 46, 52, 53, 58, 60, 61, 62, 63, 65, 66, 71, 74, 76, 77, 80, 88, 91, 93, 95]\n",
            "largo:  37\n",
            "dato encontrado en:  -1\n"
          ],
          "name": "stdout"
        }
      ]
    },
    {
      "cell_type": "markdown",
      "metadata": {
        "trusted": true,
        "id": "lmSjbWhz1KmE"
      },
      "source": [
        "generar un programa que solicite ingresar un numero entero. En dicho menu debe rechazar los numeros que contengan digitos repetidos. No esta permitido ingresar los digitos por separado."
      ]
    },
    {
      "cell_type": "markdown",
      "metadata": {
        "id": "i4xffcHC1KmE"
      },
      "source": [
        "generar un programa donde se ingresen numeros enteros positivos. encontrar el minomo y el maximo del conjunto de nu eros ingresados. Luego ogtener el rango del conjunto de numeros. El rango se calcula como la diferencia entre el maximo y el minimo del conjunto de datos. Finalmente eliminar del listado los numeros menores al rango."
      ]
    },
    {
      "cell_type": "markdown",
      "metadata": {
        "id": "8sdTxPVc1QWl"
      },
      "source": [
        "Analizar una serie de numeros y encontrar la meseta mas larga"
      ]
    },
    {
      "cell_type": "code",
      "metadata": {
        "colab": {
          "base_uri": "https://localhost:8080/"
        },
        "id": "v6MXkHLJ1V0W",
        "outputId": "17880458-5ce1-49e1-bc1d-748f74337c81"
      },
      "source": [
        "\n",
        "def longest_substring(arr):\n",
        "    len_substring = 0\n",
        "    longest = 0\n",
        "    idx = 0\n",
        "    for i in range(len(arr)):\n",
        "        if i > 0:\n",
        "            if arr[i] != arr[i-1]:\n",
        "                len_substring = 0\n",
        "\n",
        "        len_substring += 1\n",
        "\n",
        "        if len_substring > longest:\n",
        "            longest = len_substring\n",
        "            idx = i\n",
        "    return longest, idx - longest + 2\n",
        "\n",
        "l = [1, 2, 2, 2, 3, 3, 3, 3, 5, 5, 6]\n",
        "longest, idx = longest_substring(l)\n",
        "\n",
        "print (\"longest series have length: {}, and starts at place: {}\".format(longest, idx ))"
      ],
      "execution_count": 1,
      "outputs": [
        {
          "output_type": "stream",
          "text": [
            "longest series have length: 4, and starts at place: 5\n"
          ],
          "name": "stdout"
        }
      ]
    }
  ]
}