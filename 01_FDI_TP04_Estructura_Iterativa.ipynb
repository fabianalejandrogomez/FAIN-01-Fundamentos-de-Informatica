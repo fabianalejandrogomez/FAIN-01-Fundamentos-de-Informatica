{
  "cells": [
    {
      "metadata": {},
      "cell_type": "markdown",
      "source": "# Apuntes"
    },
    {
      "metadata": {},
      "cell_type": "raw",
      "source": "Ejemplo 1 de la clase 4\nImprimir los numeros entre 0 y 20"
    },
    {
      "metadata": {
        "trusted": true
      },
      "cell_type": "code",
      "source": "a = 0\nwhile a <= 20:\n    print(a)\n    a = a + 1",
      "execution_count": 1,
      "outputs": [
        {
          "output_type": "stream",
          "text": "0\n1\n2\n3\n4\n5\n6\n7\n8\n9\n10\n11\n12\n13\n14\n15\n16\n17\n18\n19\n20\n",
          "name": "stdout"
        }
      ]
    },
    {
      "metadata": {},
      "cell_type": "raw",
      "source": "Ejemplo 2 de la clase 4\nImprimir los numeros pares entre 0 y 20"
    },
    {
      "metadata": {
        "trusted": true
      },
      "cell_type": "code",
      "source": "a = 0\nwhile a <= 20:\n    print(a)\n    a = a + 2",
      "execution_count": 2,
      "outputs": [
        {
          "output_type": "stream",
          "text": "0\n2\n4\n6\n8\n10\n12\n14\n16\n18\n20\n",
          "name": "stdout"
        }
      ]
    },
    {
      "metadata": {},
      "cell_type": "raw",
      "source": "Ejemplo 3 de la clase 4\nLeer un conjunto de numeros enteros e imprimir su promedio\nFinalizar la lectura de datos con el valor -1"
    },
    {
      "metadata": {
        "trusted": true
      },
      "cell_type": "code",
      "source": "suma = 0\ncant = 0\nn = int(input(\"ingrese un numero o finalice con -1:\"))\nwhile n != -1:\n    suma = suma + n\n    cant = cant + 1\n    n = int(input(\"ingrese un numero o finalice con -1:\"))\nif cant != 0:\n    prom = suma / cant\n    print(\"el promerio es\",prom)\nelse:\n    print(\"no se ingresaron valores\")",
      "execution_count": 3,
      "outputs": [
        {
          "output_type": "stream",
          "name": "stdout",
          "text": "ingrese un numero o finalice con -1:5\ningrese un numero o finalice con -1:8\ningrese un numero o finalice con -1:3\ningrese un numero o finalice con -1:-1\nel promerio es 5.333333333333333\n"
        }
      ]
    },
    {
      "metadata": {
        "trusted": true
      },
      "cell_type": "code",
      "source": "\nnum = int(input(\"ingrese un valor entero: \"))\na = 1000\nserie = 0\nprint(a, \"!\", num, \"!\", serie)\ndivisor = num\n\nwhile serie < num:\n    a = a - serie\n    serie = serie + 1\n    b = a - serie\n    print(a, \"!\", num, \"!\", serie, \"!\",b )\n    \nwhile divisor > 0:    \n    if (b%divisor) > 0:\n       print (\"el numero no es primo\")\n\n    else:\n       print (\"el numero es primo\")\n    divisor = divisor - 1\n",
      "execution_count": 15,
      "outputs": [
        {
          "output_type": "stream",
          "name": "stdout",
          "text": "ingrese un valor entero: 3\n1000 ! 3 ! 0\n1000 ! 3 ! 1 ! 999\n999 ! 3 ! 2 ! 997\n997 ! 3 ! 3 ! 994\nel numero no es primo\nel numero es primo\nel numero es primo\n"
        }
      ]
    },
    {
      "metadata": {
        "trusted": true
      },
      "cell_type": "code",
      "source": "galle = int(input(\"ingrese un valor galle en gr: \"))\nddl = int(input(\"ingrese un valor ddl en gr: \"))\nqc = int(input(\"ingrese un valor qc en gr: \"))\n\nrgalle = (galle / 500)\nrddl = (ddl / 400)\nrqc = (qc / 180)\nq= 0\n \nif (galle < 500) or (ddl < 400) or (qc < 180):\n    print (\"no hay suficientes ingredientes\")\nelse:\n    if rgalle <= rddl:\n        if rgalle <= rqc:\n            q = rgalle\n    if rddl <= rgalle:\n        if rddl <= rqc:\n            q = rddl\n    if rqc <= rgalle:\n        if rqc <= rddl:\n            q = rqc\n\n    q = int(q)\n    print (\"se puee preparar hasta\", q,\"chocotortas\")\n    sgalle = galle-(500*q)\n    sddl = ddl-(400*q)\n    sqc = qc-(180*q)\n    print(\"el sobrante es: \", sgalle, \"gr de galletita\", sddl, \"gr de dulce de leche\", sqc, \"gr de qc\")\n\n\n ",
      "execution_count": 17,
      "outputs": [
        {
          "output_type": "stream",
          "name": "stdout",
          "text": "ingrese un valor galle en gr: 40\ningrese un valor ddl en gr: 30\ningrese un valor qc en gr: 10\nno hay suficientes ingredientes\n"
        }
      ]
    },
    {
      "metadata": {},
      "cell_type": "markdown",
      "source": "# Trabajo Práctico 4: Estructura iterativa"
    },
    {
      "metadata": {},
      "cell_type": "raw",
      "source": "Ejercicio 1:\nRealizar un programa para ingresar desde el teclado un conjunto de números.\nMostrarlos a medida que se los ingresa. Finalizar la lectura de datos con el valor -1."
    },
    {
      "metadata": {
        "trusted": true
      },
      "cell_type": "code",
      "source": "a = int(input(\"ingrese un numero o finalice con -1:\"))\nwhile a != -1:\n    a = int(input(\"ingrese el numero:\"))\n    print(a)",
      "execution_count": 4,
      "outputs": [
        {
          "output_type": "stream",
          "name": "stdout",
          "text": "ingrese un numero o finalice con -1:5\ningrese el numero:4\n4\ningrese el numero:7\n7\ningrese el numero:6\n6\ningrese el numero:4\n4\ningrese el numero:-1\n-1\n"
        }
      ]
    },
    {
      "metadata": {},
      "cell_type": "raw",
      "source": "Ejercicio 2: \nRealizar un programa para ingresar desde el teclado un conjunto de números. Al finalizar mostrar por pantalla el primer y último elemento ingresado. Finalizar la lectura con el valor -1."
    },
    {
      "metadata": {
        "trusted": true
      },
      "cell_type": "code",
      "source": "a = int(input(\"ingrese el numero, o -1 para finalizar\"))\nif a == -1:\n    print(\"No se ingresaron numeros\")\nelse:\n    primero = a\n    ultimo = a\n    a = int(input(\"ingrese el numero, o -1 para finalizar\"))\n    while a != -1:\n        ultimo = a\n        a = int(input(\"ingrese el numero, o -1 para finalizar\"))\n    print(\"el primer numero es\",primero,\"el ultimo numero es\",ultimo)",
      "execution_count": 2,
      "outputs": [
        {
          "output_type": "stream",
          "name": "stdout",
          "text": "ingrese el numero, o -1 para finalizar12\ningrese el numero, o -1 para finalizar23\ningrese el numero, o -1 para finalizar34\ningrese el numero, o -1 para finalizar-1\nel primer numero es 12 el ultimo numero es 34\n"
        }
      ]
    },
    {
      "metadata": {
        "trusted": true
      },
      "cell_type": "code",
      "source": "Ejercicio 3: \nRealizar un programa para ingresar desde el teclado un conjunto de números e informar si la cantidad de elementos \nes impar o par, sin utilizar contadores.\nFinalizar la lectura de datos con el valor -1.",
      "execution_count": null,
      "outputs": []
    },
    {
      "metadata": {
        "trusted": true
      },
      "cell_type": "code",
      "source": "a = int(input(\"ingrese el numero, o -1 para finalizar: \"))\npar = 0\nprint(\"numero\",a,\"tipo 0-impar 1-par:\",par)\n\nif a != -1:\n    \n    while a != -1:\n        a = int(input(\"ingrese el numero, o -1 para finalizar: \"))\n\n        if a != -1:        \n            if par == 0:\n                par = 1\n                print(\"numero\",a,\"tipo 0-impar 1-par:\",par)\n            else:\n                par = 0\n                print(\"numero\",a,\"tipo 0-impar 1-par:\",par)\n\n\nif par == 0:\n    print(\"la cantidad de valores ingresados es impar\")\nelse:\n    print(\"la cantidad de valores ingresados es par\")\n\n",
      "execution_count": 6,
      "outputs": [
        {
          "output_type": "stream",
          "name": "stdout",
          "text": "ingrese el numero, o -1 para finalizar: 4\nnumero 4 tipo 0-impar 1-par: 0\ningrese el numero, o -1 para finalizar: 3\nnumero 3 tipo 0-impar 1-par: 1\ningrese el numero, o -1 para finalizar: 2\nnumero 2 tipo 0-impar 1-par: 0\ningrese el numero, o -1 para finalizar: 4\nnumero 4 tipo 0-impar 1-par: 1\ningrese el numero, o -1 para finalizar: 3\nnumero 3 tipo 0-impar 1-par: 0\ningrese el numero, o -1 para finalizar: -1\nla cantidad de valores ingresados es impar\n"
        }
      ]
    },
    {
      "metadata": {},
      "cell_type": "raw",
      "source": "Ejercicio 4: \nRealizar un programa para ingresar desde el teclado un conjunto de números e informar el último elemento ingresado en una posición par. Finalizar la lectura de datos con el valor -1.\n\nEjemplos:\nSi la secuencia es 3 7 4 5 6 7 9 -1 el valor a informar es 7\nSi la secuencia es 3 7 4 5 -1 el valor a informar es 5"
    },
    {
      "metadata": {
        "trusted": true
      },
      "cell_type": "code",
      "source": "a = int(input(\"ingrese el numero, o -1 para finalizar: \"))\npar = 0\nprint(\"numero\",a,\"tipo 0-impar 1-par:\",par)\n\nif a != -1:\n    \n    while a != -1:\n        a = int(input(\"ingrese el numero, o -1 para finalizar: \"))\n\n        if a != -1:        \n            if par == 0:\n                par = 1\n                ultimopar = a\n                print(\"numero\",a,\"tipo 0-impar 1-par:\",par)\n            else:\n                par = 0\n                print(\"numero\",a,\"tipo 0-impar 1-par:\",par)\n\n\nif par == 1:\n    print(\"la cantidad de valores ingresados es par y el ultimo valor en posicion par fue:\",ultimopar)\nelse:\n    print(\"la cantidad de valores ingresados es impar y el ultimo valor en posicion impar fue:\",ultimopar)",
      "execution_count": 9,
      "outputs": [
        {
          "output_type": "stream",
          "name": "stdout",
          "text": "ingrese el numero, o -1 para finalizar: 3\nnumero 3 tipo 0-impar 1-par: 0\ningrese el numero, o -1 para finalizar: 5\nnumero 5 tipo 0-impar 1-par: 1\ningrese el numero, o -1 para finalizar: 3\nnumero 3 tipo 0-impar 1-par: 0\ningrese el numero, o -1 para finalizar: 5\nnumero 5 tipo 0-impar 1-par: 1\ningrese el numero, o -1 para finalizar: 3\nnumero 3 tipo 0-impar 1-par: 0\ningrese el numero, o -1 para finalizar: -1\nla cantidad de valores ingresados es impar y el ultimo valor en posicion impar fue: 5\n"
        }
      ]
    },
    {
      "metadata": {},
      "cell_type": "markdown",
      "source": "##### Ejercicio 5: \nRealizar un programa para ingresar desde el teclado un conjunto de números e informar los elementos ingresados \nmenores al valor ingresado previamente.\n\nFinalizar la lectura de datos con el valor -1."
    },
    {
      "metadata": {
        "trusted": true
      },
      "cell_type": "code",
      "source": "a = int(input(\"ingrese el numero, o -1 para finalizar: \"))\nprimero = a\nprint(\"el primer valor es: \",primero)\nif a != -1:\n    \n    while a != -1:\n        a = int(input(\"ingrese el numero, o -1 para finalizar: \"))\n\n        if a != -1:                \n            segundo = a\n            if segundo < primero:\n                print(\"el valor \",segundo, \"es menor al primer valor\")\n                primero = segundo           \n            else:     \n                primero = segundo\n                \nelse:\n    print(\"no hubieron numeros anteriores\")    ",
      "execution_count": 2,
      "outputs": [
        {
          "output_type": "stream",
          "name": "stdout",
          "text": "ingrese el numero, o -1 para finalizar: 7\nel primer valor es:  7\ningrese el numero, o -1 para finalizar: 4\nel valor  4 es menor al primer valor\ningrese el numero, o -1 para finalizar: 2\nel valor  2 es menor al primer valor\ningrese el numero, o -1 para finalizar: 8\ningrese el numero, o -1 para finalizar: 9\ningrese el numero, o -1 para finalizar: 2\nel valor  2 es menor al primer valor\ningrese el numero, o -1 para finalizar: 1\nel valor  1 es menor al primer valor\ningrese el numero, o -1 para finalizar: -1\n"
        }
      ]
    },
    {
      "metadata": {},
      "cell_type": "raw",
      "source": "Ejercicio 6: \nRealizar un programa para ingresar desde el teclado un conjunto de números e informar en forma separada la cantidad de elementos pares e impares ingresados.\nFinalizar la lectura de datos con el valor -1."
    },
    {
      "metadata": {
        "trusted": true
      },
      "cell_type": "code",
      "source": "countpar = 0\ncountimpar = 0\nprint(\"Cantidad de Impares: \", countimpar,\"Cantidad de Pares: \", countpar)\na = int(input(\"ingrese el numero, o -1 para finalizar: \"))\n\nif a != -1:\n    \n    if a%2 == 0:\n        countpar = 1\n        print(\"Cantidad de Impares: \", countimpar,\"Cantidad de Pares: \", countpar)\n    else:\n        countimpar = 1\n        print(\"Cantidad de Impares: \", countimpar,\"Cantidad de Pares: \", countpar)\n    \n    while a != -1:\n        a = int(input(\"ingrese el numero, o -1 para finalizar: \"))\n\n        if a != -1:\n        \n            if a%2 == 0:\n                countpar = countpar + 1\n                print(\"Cantidad de Impares: \", countimpar,\"Cantidad de Pares: \", countpar)\n            else:\n                countimpar = countimpar + 1\n                print(\"Cantidad de Impares: \", countimpar,\"Cantidad de Pares: \", countpar)\n\n    print(\"la cantidad de pares fue:\",countpar,\"la cantidad de impares fue:\",countimpar,)\n\nelse:\n    print(\"no hay suficientes valores ingresados\")",
      "execution_count": 7,
      "outputs": [
        {
          "output_type": "stream",
          "text": "Cantidad de Impares:  0 Cantidad de Pares:  0\ningrese el numero, o -1 para finalizar: 5\nCantidad de Impares:  1 Cantidad de Pares:  0\ningrese el numero, o -1 para finalizar: 3\nCantidad de Impares:  2 Cantidad de Pares:  0\ningrese el numero, o -1 para finalizar: 2\nCantidad de Impares:  2 Cantidad de Pares:  1\ningrese el numero, o -1 para finalizar: 5\nCantidad de Impares:  3 Cantidad de Pares:  1\ningrese el numero, o -1 para finalizar: 7\nCantidad de Impares:  4 Cantidad de Pares:  1\ningrese el numero, o -1 para finalizar: 8\nCantidad de Impares:  4 Cantidad de Pares:  2\ningrese el numero, o -1 para finalizar: 4\nCantidad de Impares:  4 Cantidad de Pares:  3\ningrese el numero, o -1 para finalizar: 2\nCantidad de Impares:  4 Cantidad de Pares:  4\ningrese el numero, o -1 para finalizar: -1\nla cantidad de pares fue: 4 la cantidad de impares fue: 4\n",
          "name": "stdout"
        }
      ]
    },
    {
      "metadata": {},
      "cell_type": "markdown",
      "source": "5## Ejercicio 7: \nRealizar un programa para ingresar desde el teclado un conjunto de números y mostrar por pantalla el menor y el mayor de ellos. \nFinalizar la lectura de datos con un valor -1."
    },
    {
      "metadata": {
        "trusted": true
      },
      "cell_type": "code",
      "source": "a = int(input(\"ingrese el numero, o -1 para finalizar: \"))\nprimero = a\nmenor = a\nmayor = a\n\nif a != -1:\n    \n    while a != -1:\n        a = int(input(\"ingrese el numero, o -1 para finalizar: \"))\n\n        if a != -1:                \n            segundo = a\n            \n            if segundo < primero:\n                menor = segundo           \n            elif segundo == primero:\n                menor = segundo\n                mayor = segundo\n            else:     \n                mayor = segundo\n\n    print(\"el mayor numero es:\",mayor,\" y el menor numero es:\",menor)\n\nelse:\n    print(\"no hubieron numeros anteriores\") ",
      "execution_count": null,
      "outputs": []
    },
    {
      "metadata": {},
      "cell_type": "raw",
      "source": "Ejercicio 8: \nDesarrollar un programa que imprima los números naturales comprendidos entre 1 y 30."
    },
    {
      "metadata": {
        "trusted": true
      },
      "cell_type": "code",
      "source": "a = 2\nwhile a <= 29:\n    print(a)\n    a = a + 1",
      "execution_count": 7,
      "outputs": [
        {
          "output_type": "stream",
          "text": "2\n3\n4\n5\n6\n7\n8\n9\n10\n11\n12\n13\n14\n15\n16\n17\n18\n19\n20\n21\n22\n23\n24\n25\n26\n27\n28\n29\n",
          "name": "stdout"
        }
      ]
    },
    {
      "metadata": {},
      "cell_type": "raw",
      "source": "Ejercicio 9: \nLeer diez números e imprimir su promedio."
    },
    {
      "metadata": {
        "trusted": true
      },
      "cell_type": "code",
      "source": "a = int(input(\"ingrese el numero, o -1 para finalizar: \"))\nsuma = a\ncount = 1\nwhile count <= 10:\n    a = int(input(\"ingrese el numero, o -1 para finalizar: \"))\n    count = count + 1\n    suma = suma + a\npromedio = suma / count\nprint(\"el promedio es:\",promedio)",
      "execution_count": 8,
      "outputs": [
        {
          "output_type": "stream",
          "name": "stdout",
          "text": "ingrese el numero, o -1 para finalizar: 1\ningrese el numero, o -1 para finalizar: 4\ningrese el numero, o -1 para finalizar: 3\ningrese el numero, o -1 para finalizar: 5\ningrese el numero, o -1 para finalizar: 7\ningrese el numero, o -1 para finalizar: 6\ningrese el numero, o -1 para finalizar: 5\ningrese el numero, o -1 para finalizar: 4\ningrese el numero, o -1 para finalizar: 3\ningrese el numero, o -1 para finalizar: 5\ningrese el numero, o -1 para finalizar: 4\nel promedio es: 4.2727272727272725\n"
        }
      ]
    },
    {
      "metadata": {},
      "cell_type": "raw",
      "source": "Ejercicio 10: \nDesarrollar un programa que imprima los números impares comprendidos entre\n1 y 10."
    },
    {
      "metadata": {
        "trusted": true
      },
      "cell_type": "code",
      "source": "a = 1\nwhile a <= 10:\n    if a%2 != 0:\n        print(a)\n    a = a + 1",
      "execution_count": 4,
      "outputs": [
        {
          "output_type": "stream",
          "text": "1\n3\n5\n7\n9\n",
          "name": "stdout"
        }
      ]
    },
    {
      "metadata": {},
      "cell_type": "raw",
      "source": "Ejercicio 11: \nLeer diez números enteros e imprimir el mayor."
    },
    {
      "metadata": {
        "trusted": true
      },
      "cell_type": "code",
      "source": "a = int(input(\"ingrese el numero: \"))\nmayor = a\ncount = 1\n    \nwhile count <= 10:\n    a = int(input(\"ingrese el numero: \"))       \n    segundo = a\n    count = count + 1\n            \n    if segundo > mayor:\n        mayor = segundo\n                \nprint(\"el mayor numero es:\",mayor)\n\n",
      "execution_count": 11,
      "outputs": [
        {
          "output_type": "stream",
          "name": "stdout",
          "text": "ingrese el numero: 4\ningrese el numero: 3\ningrese el numero: 5\ningrese el numero: 7\ningrese el numero: 6\ningrese el numero: 5\ningrese el numero: 4\ningrese el numero: 3\ningrese el numero: 4\ningrese el numero: 6\ningrese el numero: 7\nel mayor numero es: 7\n"
        }
      ]
    },
    {
      "metadata": {},
      "cell_type": "markdown",
      "source": "Ejercicio 12: \nLeer dos números A y B enteros positivos. Calcular el producto A * B por sumas\nsucesivas e imprimir el resultado. Ejemplo: 4 * 3 = 4 + 4 + 4 (4 sumado 3 veces)."
    },
    {
      "metadata": {
        "trusted": true
      },
      "cell_type": "code",
      "source": "a = int(input(\"ingrese el primer numero entero positivo\"))\nb = int(input(\"ingrese el segundo numero entero positivo\"))\nc = 0\ncount = 0\n#primero encuentro si a>B o si b>a\n#hago la suma del mayor por la cantidad veces dadas por el menor\n\nif a > b:\n    while count < b:\n        c = a + c\n        count = count + 1\nelse:\n    while count < a:\n        c = b + c\n        count = count + 1\nprint(\" el producto de a y b es:\",c)\n",
      "execution_count": null,
      "outputs": []
    },
    {
      "metadata": {},
      "cell_type": "raw",
      "source": "Ejercicio 13: \nLeer diez números e imprimir el menor de ellos, indicando además el número de\norden con que fue leído."
    },
    {
      "metadata": {
        "trusted": true
      },
      "cell_type": "code",
      "source": "# leer 10 numeros / leer while count <=10\n# imprimir el menor / guardar el numero si es <= al anterior\n# imprimir en que orden fue leido / cuando un numero es menor guardo el count en countmenor\n\n\na = int(input(\"ingrese un numero\"))\nanterior = a\ncount = 1\ncountmenor = count\nmenor = 0\nnuevo = 0\n\nwhile count < 10:\n    nuevo = int(input(\"ingrese un numero\"))\n    count = count + 1\n    if anterior > nuevo:\n        menor = nuevo\n        countmenor = count\n        anterior = nuevo\n\nprint (\"el menor valor fue:\",menor,\"la posicion fue\",countmenor)\n\n\n\n",
      "execution_count": 12,
      "outputs": [
        {
          "output_type": "stream",
          "name": "stdout",
          "text": "ingrese un numero5\ningrese un numero4\ningrese un numero3\ningrese un numero2\ningrese un numero5\ningrese un numero6\ningrese un numero7\ningrese un numero8\ningrese un numero7\ningrese un numero6\nel menor valor fue: 2 la posicion fue 4\n"
        }
      ]
    },
    {
      "metadata": {},
      "cell_type": "markdown",
      "source": "Ejercicio 14: \nEscribir un programa que imprima los múltiplos de 7 hasta el 3000."
    },
    {
      "metadata": {
        "trusted": true
      },
      "cell_type": "code",
      "source": "a = 7\ncount = 1\nmulti= 7\nwhile multi <= 3000:\n    count = count + 1\n    multi = a * count\n    if multi <= 3000:\n        multiplo = multi\n    print(\"multiplo de 7:\",multiplo)\n    \n    \n    ",
      "execution_count": 13,
      "outputs": [
        {
          "output_type": "stream",
          "text": "multiplo de 7: 14\nmultiplo de 7: 21\nmultiplo de 7: 28\nmultiplo de 7: 35\nmultiplo de 7: 42\nmultiplo de 7: 49\nmultiplo de 7: 56\nmultiplo de 7: 63\nmultiplo de 7: 70\nmultiplo de 7: 77\nmultiplo de 7: 84\nmultiplo de 7: 91\nmultiplo de 7: 98\nmultiplo de 7: 105\nmultiplo de 7: 112\nmultiplo de 7: 119\nmultiplo de 7: 126\nmultiplo de 7: 133\nmultiplo de 7: 140\nmultiplo de 7: 147\nmultiplo de 7: 154\nmultiplo de 7: 161\nmultiplo de 7: 168\nmultiplo de 7: 175\nmultiplo de 7: 182\nmultiplo de 7: 189\nmultiplo de 7: 196\nmultiplo de 7: 203\nmultiplo de 7: 210\nmultiplo de 7: 217\nmultiplo de 7: 224\nmultiplo de 7: 231\nmultiplo de 7: 238\nmultiplo de 7: 245\nmultiplo de 7: 252\nmultiplo de 7: 259\nmultiplo de 7: 266\nmultiplo de 7: 273\nmultiplo de 7: 280\nmultiplo de 7: 287\nmultiplo de 7: 294\nmultiplo de 7: 301\nmultiplo de 7: 308\nmultiplo de 7: 315\nmultiplo de 7: 322\nmultiplo de 7: 329\nmultiplo de 7: 336\nmultiplo de 7: 343\nmultiplo de 7: 350\nmultiplo de 7: 357\nmultiplo de 7: 364\nmultiplo de 7: 371\nmultiplo de 7: 378\nmultiplo de 7: 385\nmultiplo de 7: 392\nmultiplo de 7: 399\nmultiplo de 7: 406\nmultiplo de 7: 413\nmultiplo de 7: 420\nmultiplo de 7: 427\nmultiplo de 7: 434\nmultiplo de 7: 441\nmultiplo de 7: 448\nmultiplo de 7: 455\nmultiplo de 7: 462\nmultiplo de 7: 469\nmultiplo de 7: 476\nmultiplo de 7: 483\nmultiplo de 7: 490\nmultiplo de 7: 497\nmultiplo de 7: 504\nmultiplo de 7: 511\nmultiplo de 7: 518\nmultiplo de 7: 525\nmultiplo de 7: 532\nmultiplo de 7: 539\nmultiplo de 7: 546\nmultiplo de 7: 553\nmultiplo de 7: 560\nmultiplo de 7: 567\nmultiplo de 7: 574\nmultiplo de 7: 581\nmultiplo de 7: 588\nmultiplo de 7: 595\nmultiplo de 7: 602\nmultiplo de 7: 609\nmultiplo de 7: 616\nmultiplo de 7: 623\nmultiplo de 7: 630\nmultiplo de 7: 637\nmultiplo de 7: 644\nmultiplo de 7: 651\nmultiplo de 7: 658\nmultiplo de 7: 665\nmultiplo de 7: 672\nmultiplo de 7: 679\nmultiplo de 7: 686\nmultiplo de 7: 693\nmultiplo de 7: 700\nmultiplo de 7: 707\nmultiplo de 7: 714\nmultiplo de 7: 721\nmultiplo de 7: 728\nmultiplo de 7: 735\nmultiplo de 7: 742\nmultiplo de 7: 749\nmultiplo de 7: 756\nmultiplo de 7: 763\nmultiplo de 7: 770\nmultiplo de 7: 777\nmultiplo de 7: 784\nmultiplo de 7: 791\nmultiplo de 7: 798\nmultiplo de 7: 805\nmultiplo de 7: 812\nmultiplo de 7: 819\nmultiplo de 7: 826\nmultiplo de 7: 833\nmultiplo de 7: 840\nmultiplo de 7: 847\nmultiplo de 7: 854\nmultiplo de 7: 861\nmultiplo de 7: 868\nmultiplo de 7: 875\nmultiplo de 7: 882\nmultiplo de 7: 889\nmultiplo de 7: 896\nmultiplo de 7: 903\nmultiplo de 7: 910\nmultiplo de 7: 917\nmultiplo de 7: 924\nmultiplo de 7: 931\nmultiplo de 7: 938\nmultiplo de 7: 945\nmultiplo de 7: 952\nmultiplo de 7: 959\nmultiplo de 7: 966\nmultiplo de 7: 973\nmultiplo de 7: 980\nmultiplo de 7: 987\nmultiplo de 7: 994\nmultiplo de 7: 1001\nmultiplo de 7: 1008\nmultiplo de 7: 1015\nmultiplo de 7: 1022\nmultiplo de 7: 1029\nmultiplo de 7: 1036\nmultiplo de 7: 1043\nmultiplo de 7: 1050\nmultiplo de 7: 1057\nmultiplo de 7: 1064\nmultiplo de 7: 1071\nmultiplo de 7: 1078\nmultiplo de 7: 1085\nmultiplo de 7: 1092\nmultiplo de 7: 1099\nmultiplo de 7: 1106\nmultiplo de 7: 1113\nmultiplo de 7: 1120\nmultiplo de 7: 1127\nmultiplo de 7: 1134\nmultiplo de 7: 1141\nmultiplo de 7: 1148\nmultiplo de 7: 1155\nmultiplo de 7: 1162\nmultiplo de 7: 1169\nmultiplo de 7: 1176\nmultiplo de 7: 1183\nmultiplo de 7: 1190\nmultiplo de 7: 1197\nmultiplo de 7: 1204\nmultiplo de 7: 1211\nmultiplo de 7: 1218\nmultiplo de 7: 1225\nmultiplo de 7: 1232\nmultiplo de 7: 1239\nmultiplo de 7: 1246\nmultiplo de 7: 1253\nmultiplo de 7: 1260\nmultiplo de 7: 1267\nmultiplo de 7: 1274\nmultiplo de 7: 1281\nmultiplo de 7: 1288\nmultiplo de 7: 1295\nmultiplo de 7: 1302\nmultiplo de 7: 1309\nmultiplo de 7: 1316\nmultiplo de 7: 1323\nmultiplo de 7: 1330\nmultiplo de 7: 1337\nmultiplo de 7: 1344\nmultiplo de 7: 1351\nmultiplo de 7: 1358\nmultiplo de 7: 1365\nmultiplo de 7: 1372\nmultiplo de 7: 1379\nmultiplo de 7: 1386\nmultiplo de 7: 1393\nmultiplo de 7: 1400\nmultiplo de 7: 1407\nmultiplo de 7: 1414\nmultiplo de 7: 1421\nmultiplo de 7: 1428\nmultiplo de 7: 1435\nmultiplo de 7: 1442\nmultiplo de 7: 1449\nmultiplo de 7: 1456\nmultiplo de 7: 1463\nmultiplo de 7: 1470\nmultiplo de 7: 1477\nmultiplo de 7: 1484\nmultiplo de 7: 1491\nmultiplo de 7: 1498\nmultiplo de 7: 1505\nmultiplo de 7: 1512\nmultiplo de 7: 1519\nmultiplo de 7: 1526\nmultiplo de 7: 1533\nmultiplo de 7: 1540\nmultiplo de 7: 1547\nmultiplo de 7: 1554\nmultiplo de 7: 1561\nmultiplo de 7: 1568\nmultiplo de 7: 1575\nmultiplo de 7: 1582\nmultiplo de 7: 1589\nmultiplo de 7: 1596\nmultiplo de 7: 1603\nmultiplo de 7: 1610\nmultiplo de 7: 1617\nmultiplo de 7: 1624\nmultiplo de 7: 1631\nmultiplo de 7: 1638\nmultiplo de 7: 1645\nmultiplo de 7: 1652\nmultiplo de 7: 1659\nmultiplo de 7: 1666\nmultiplo de 7: 1673\nmultiplo de 7: 1680\nmultiplo de 7: 1687\nmultiplo de 7: 1694\nmultiplo de 7: 1701\nmultiplo de 7: 1708\nmultiplo de 7: 1715\nmultiplo de 7: 1722\nmultiplo de 7: 1729\nmultiplo de 7: 1736\nmultiplo de 7: 1743\nmultiplo de 7: 1750\nmultiplo de 7: 1757\nmultiplo de 7: 1764\nmultiplo de 7: 1771\nmultiplo de 7: 1778\nmultiplo de 7: 1785\nmultiplo de 7: 1792\nmultiplo de 7: 1799\nmultiplo de 7: 1806\nmultiplo de 7: 1813\nmultiplo de 7: 1820\nmultiplo de 7: 1827\nmultiplo de 7: 1834\nmultiplo de 7: 1841\nmultiplo de 7: 1848\nmultiplo de 7: 1855\nmultiplo de 7: 1862\nmultiplo de 7: 1869\nmultiplo de 7: 1876\nmultiplo de 7: 1883\nmultiplo de 7: 1890\nmultiplo de 7: 1897\nmultiplo de 7: 1904\nmultiplo de 7: 1911\nmultiplo de 7: 1918\nmultiplo de 7: 1925\nmultiplo de 7: 1932\nmultiplo de 7: 1939\nmultiplo de 7: 1946\nmultiplo de 7: 1953\nmultiplo de 7: 1960\nmultiplo de 7: 1967\nmultiplo de 7: 1974\nmultiplo de 7: 1981\nmultiplo de 7: 1988\nmultiplo de 7: 1995\nmultiplo de 7: 2002\nmultiplo de 7: 2009\nmultiplo de 7: 2016\nmultiplo de 7: 2023\nmultiplo de 7: 2030\nmultiplo de 7: 2037\nmultiplo de 7: 2044\nmultiplo de 7: 2051\nmultiplo de 7: 2058\nmultiplo de 7: 2065\nmultiplo de 7: 2072\nmultiplo de 7: 2079\nmultiplo de 7: 2086\nmultiplo de 7: 2093\nmultiplo de 7: 2100\nmultiplo de 7: 2107\nmultiplo de 7: 2114\nmultiplo de 7: 2121\nmultiplo de 7: 2128\nmultiplo de 7: 2135\nmultiplo de 7: 2142\nmultiplo de 7: 2149\nmultiplo de 7: 2156\nmultiplo de 7: 2163\nmultiplo de 7: 2170\nmultiplo de 7: 2177\nmultiplo de 7: 2184\nmultiplo de 7: 2191\nmultiplo de 7: 2198\nmultiplo de 7: 2205\nmultiplo de 7: 2212\nmultiplo de 7: 2219\nmultiplo de 7: 2226\nmultiplo de 7: 2233\nmultiplo de 7: 2240\nmultiplo de 7: 2247\nmultiplo de 7: 2254\nmultiplo de 7: 2261\nmultiplo de 7: 2268\nmultiplo de 7: 2275\nmultiplo de 7: 2282\nmultiplo de 7: 2289\nmultiplo de 7: 2296\nmultiplo de 7: 2303\nmultiplo de 7: 2310\nmultiplo de 7: 2317\nmultiplo de 7: 2324\nmultiplo de 7: 2331\nmultiplo de 7: 2338\nmultiplo de 7: 2345\nmultiplo de 7: 2352\nmultiplo de 7: 2359\nmultiplo de 7: 2366\nmultiplo de 7: 2373\nmultiplo de 7: 2380\nmultiplo de 7: 2387\nmultiplo de 7: 2394\nmultiplo de 7: 2401\nmultiplo de 7: 2408\nmultiplo de 7: 2415\nmultiplo de 7: 2422\nmultiplo de 7: 2429\nmultiplo de 7: 2436\nmultiplo de 7: 2443\nmultiplo de 7: 2450\nmultiplo de 7: 2457\nmultiplo de 7: 2464\nmultiplo de 7: 2471\nmultiplo de 7: 2478\nmultiplo de 7: 2485\nmultiplo de 7: 2492\nmultiplo de 7: 2499\nmultiplo de 7: 2506\nmultiplo de 7: 2513\nmultiplo de 7: 2520\nmultiplo de 7: 2527\nmultiplo de 7: 2534\nmultiplo de 7: 2541\nmultiplo de 7: 2548\nmultiplo de 7: 2555\nmultiplo de 7: 2562\nmultiplo de 7: 2569\nmultiplo de 7: 2576\nmultiplo de 7: 2583\nmultiplo de 7: 2590\nmultiplo de 7: 2597\nmultiplo de 7: 2604\nmultiplo de 7: 2611\nmultiplo de 7: 2618\nmultiplo de 7: 2625\nmultiplo de 7: 2632\nmultiplo de 7: 2639\nmultiplo de 7: 2646\nmultiplo de 7: 2653\nmultiplo de 7: 2660\nmultiplo de 7: 2667\nmultiplo de 7: 2674\nmultiplo de 7: 2681\nmultiplo de 7: 2688\nmultiplo de 7: 2695\nmultiplo de 7: 2702\nmultiplo de 7: 2709\nmultiplo de 7: 2716\nmultiplo de 7: 2723\nmultiplo de 7: 2730\nmultiplo de 7: 2737\nmultiplo de 7: 2744\nmultiplo de 7: 2751\nmultiplo de 7: 2758\nmultiplo de 7: 2765\nmultiplo de 7: 2772\nmultiplo de 7: 2779\nmultiplo de 7: 2786\nmultiplo de 7: 2793\nmultiplo de 7: 2800\nmultiplo de 7: 2807\nmultiplo de 7: 2814\nmultiplo de 7: 2821\nmultiplo de 7: 2828\nmultiplo de 7: 2835\nmultiplo de 7: 2842\nmultiplo de 7: 2849\nmultiplo de 7: 2856\nmultiplo de 7: 2863\nmultiplo de 7: 2870\nmultiplo de 7: 2877\nmultiplo de 7: 2884\nmultiplo de 7: 2891\nmultiplo de 7: 2898\nmultiplo de 7: 2905\nmultiplo de 7: 2912\nmultiplo de 7: 2919\nmultiplo de 7: 2926\nmultiplo de 7: 2933\nmultiplo de 7: 2940\nmultiplo de 7: 2947\nmultiplo de 7: 2954\nmultiplo de 7: 2961\nmultiplo de 7: 2968\nmultiplo de 7: 2975\nmultiplo de 7: 2982\nmultiplo de 7: 2989\nmultiplo de 7: 2996\nmultiplo de 7: 2996\n",
          "name": "stdout"
        }
      ]
    },
    {
      "metadata": {},
      "cell_type": "raw",
      "source": "Ejercicio 15: \nLeer diez números e imprimir el mayor, el menor y el rango del conjunto (El rango\nde un conjunto se calcula restando el mayor menos el menor)."
    },
    {
      "metadata": {
        "trusted": true
      },
      "cell_type": "code",
      "source": "# leo 10 numeros\n# mayor num > num\n# menor num < num\n#mayor - menor\n\na = int(input(\"ingrese el numero\"))\ncount = 1\nmenor = a\nmayor = a\nrango = 0\n\nwhile count <= 10:\n    b = int(input(\"ingrese el numero\"))\n    if b < menor:\n        menor = b\n        \n    if b > mayor:\n        mayor = b\n    rango = mayor - menor\n    count = count +1\nprint(\"el mayor numero es:\", mayor,\"el menor numero es:\",menor,\"el rango es\",rango)\n\n        ",
      "execution_count": null,
      "outputs": []
    },
    {
      "metadata": {},
      "cell_type": "raw",
      "source": "Ejercicio 16: \nDadas las siguientes series numéricas, desarrollar programas que muestren los\nprimeros 20 términos de cada una de ellas.\n\na. 1, 1, 2, 3, 4, 9, 8, 27, 16…\n\nes decir potencias: 2**0, 3**0, 2**1, 3**1, 2**2, 3**2, 2**3, 3**3…\n\nb. -1, 2, -3, 4, -5, 6, -7…\n\nes decir 1*(-1)**1, 2*(-1)**2, 3*(-1)**3, 4*(-1)**4, 5*(-1)**5, 6*(-1)**6, 7*(-1)**7…\n\nc. 1, 2, 4, 7, 11, 16, 22, 29…\n\nes decir 1, (1+1), (2+2), (4+3), (7+4), (11+5), (16+6), (22+7)…\n\n(el primer término es 1 y cada nuevo término se obtiene sumando el\ntérmino anterior más el número de orden del término actual)"
    },
    {
      "metadata": {
        "trusted": true
      },
      "cell_type": "code",
      "source": "#Ejercicio 16 a\n\n# contar hasta 20 pasos\n# primer valor 2\n# segundo valor 3\n# cada potencia se incrementa en 1 para cada valor 2 y 3\n\na = 2\nb = 3\npota = 0\npotb = 0\ncount = 1\n\nwhile count <=10:\n    valora = a**(pota)\n    pota = count\n    print(valora)\n    \n    valorb = b**(potb)\n    potb = pota\n    print(valorb)\n    \n    count = count + 1\n    ",
      "execution_count": null,
      "outputs": []
    },
    {
      "metadata": {
        "trusted": true
      },
      "cell_type": "code",
      "source": "#Ejercicio 16 b\n\n# contar hasta 20 pasos\n# primer valor 1\n# serie siguiente: valor + 1\n# cada potencia se aplica siempre sobre -1\n# cada potencia es igual a la serie valor\n\na = 1\ncount = 1\n\nwhile count <=20:\n    b = a * (-1)**a\n    count = count + 1\n    a = count\n    print (b)",
      "execution_count": null,
      "outputs": []
    },
    {
      "metadata": {
        "trusted": true
      },
      "cell_type": "code",
      "source": "\"BUSCAR 16 C en GITHUB\"",
      "execution_count": null,
      "outputs": []
    }
  ],
  "metadata": {
    "kernelspec": {
      "name": "python3",
      "display_name": "Python 3",
      "language": "python"
    },
    "language_info": {
      "mimetype": "text/x-python",
      "nbconvert_exporter": "python",
      "name": "python",
      "pygments_lexer": "ipython3",
      "version": "3.5.4",
      "file_extension": ".py",
      "codemirror_mode": {
        "version": 3,
        "name": "ipython"
      }
    }
  },
  "nbformat": 4,
  "nbformat_minor": 2
}