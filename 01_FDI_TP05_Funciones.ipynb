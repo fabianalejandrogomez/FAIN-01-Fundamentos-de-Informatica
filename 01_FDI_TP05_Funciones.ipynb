{
  "cells": [
    {
      "metadata": {
        "collapsed": true
      },
      "cell_type": "markdown",
      "source": "# FACULTAD DE INGENIERÍA Y CIENCIAS EXACTAS\nDepartamento de Tecnología Informática\n- FUNDAMENTOS DE INFORMATICA"
    },
    {
      "metadata": {},
      "cell_type": "markdown",
      "source": "# Trabajo Práctico 5: Funciones "
    },
    {
      "metadata": {},
      "cell_type": "markdown",
      "source": "Ejercicio 1: Dados dos parámetros numéricos, calcular y devolver el resultado de la multiplicación de ambos utilizando sólo sumas. "
    },
    {
      "metadata": {
        "trusted": true
      },
      "cell_type": "code",
      "source": "#Ejercicio 1\n#Dados dos parámetros numéricos, calcular y devolver el resultado de la multiplicación de ambos utilizando sólo sumas.\n\ndef multiplicasum(a, b):\n    count = 1\n    result = 0\n    while count <= b:\n        result = result + a\n        count = count + 1\n    return result\n\n#Programa Principal\nx = int(input(\"ingrese el primer numero: \"))\ny = int(input(\"ingrese el segundo numero: \"))\nprint(\"el resultado es: \",multiplicasum(x,y))\n",
      "execution_count": 7,
      "outputs": [
        {
          "output_type": "stream",
          "name": "stdout",
          "text": "ingrese el primer numero: 4\ningrese el segundo numero: 3\nel resultado es:  12\n"
        }
      ]
    },
    {
      "metadata": {},
      "cell_type": "markdown",
      "source": "Ejercicio 2: Dados dos parámetros enteros A y B, \nobtener AB (A elevado a la B) mediante multiplicaciones sucesivas, utilizando la función del ejercicio 1."
    },
    {
      "metadata": {
        "trusted": true
      },
      "cell_type": "code",
      "source": "#Ejercicio 2: Dados dos parámetros enteros A y B, obtener (A elevado a la B) mediante\n# multiplicaciones sucesivas, utilizando la función del ejercicio 1.\n\ndef multiplicasum(a, b):\n    count = 1\n    result = 0\n    while count <= b:\n        result = result + a\n        count = count + 1\n    return result\n\ndef multiplicapot(c, d):\n    count = 1\n    pot = d\n    while count <= d:\n        pot = multiplicasum(pot, d)\n        count = count + 1\n    return pot\n\n#Programa Principal\nx = int(input(\"ingrese el primer numero: \"))\ny = int(input(\"ingrese el segundo numero: \"))\nprint(\"el resultado de la multiplcacion es: \",multiplicasum(x,y))\nprint(\"el resultado de la potencia es: \",multiplicapot(x,y))",
      "execution_count": 2,
      "outputs": [
        {
          "output_type": "stream",
          "name": "stdout",
          "text": "ingrese el primer numero: 3\ningrese el segundo numero: 4\nel resultado de la multiplcacion es:  12\nel resultado de la potencia es:  768\n"
        }
      ]
    },
    {
      "metadata": {},
      "cell_type": "markdown",
      "source": "Ejercicio 3: Imprimir una columna de asteriscos, donde su altura se recibe como parámetro."
    },
    {
      "metadata": {
        "trusted": true
      },
      "cell_type": "code",
      "source": "#Ejercicio 3: Imprimir una columna de asteriscos, donde su altura se recibe como parámetro..\n\ndef columna(a):\n    count = 1\n    while count <= a:\n        print(\"*\")\n        count = count + 1\n    return\n\n#Programa Principal\nx = int(input(\"ingrese la cantidad de asteriscos: \"))\ncolumna(x)\n",
      "execution_count": 15,
      "outputs": [
        {
          "output_type": "stream",
          "name": "stdout",
          "text": "ingrese la cantidad de asteriscos: 7\n*\n*\n*\n*\n*\n*\n*\n"
        }
      ]
    },
    {
      "metadata": {},
      "cell_type": "markdown",
      "source": "Ejercicio 4: Verificar si un número es par o impar, devolviendo True o False respectivamente."
    },
    {
      "metadata": {
        "trusted": true
      },
      "cell_type": "code",
      "source": "#Ejercicio 4: Verificar si un número es par o impar, devolviendo True o False respectivamente..\n\ndef paroimpar(a):\n    if a%2 == 0:\n        par = True\n    else:\n        par = False\n    return par\n\n#Programa Principal\nx = int(input(\"ingrese el numero: \"))\nprint(\"el numero\", x, \"es: \",paroimpar(x))\n",
      "execution_count": 39,
      "outputs": [
        {
          "output_type": "stream",
          "name": "stdout",
          "text": "ingrese el numero: 7\nel numero 7 es:  False\n"
        }
      ]
    },
    {
      "metadata": {},
      "cell_type": "markdown",
      "source": "Ejercicio 5: Devolver el máximo entre dos números recibidos como parámetros."
    },
    {
      "metadata": {
        "trusted": true
      },
      "cell_type": "code",
      "source": "#Ejercicio 5: Devolver el máximo entre dos números recibidos como parámetros.\n\ndef maximo(a, b):\n    if a >= b:\n        max = a\n    else:\n        max = b\n    return max\n\n#Programa Principal\nx = int(input(\"ingrese el primer numero: \"))\ny = int(input(\"ingrese el segundo numero: \"))\nprint(\"el maximo es: \",maximo(x,y))\n",
      "execution_count": 43,
      "outputs": [
        {
          "output_type": "stream",
          "name": "stdout",
          "text": "ingrese el primer numero: 6\ningrese el segundo numero: 7\nel maximo es:  7\n"
        }
      ]
    },
    {
      "metadata": {},
      "cell_type": "markdown",
      "source": "Ejercicio 6: Devolver True si el número entero recibido como primer parámetro es múltiplo\ndel segundo, o False en caso contrario. Ejemplo: esmultiplo(40,8) devuelve True\ny esmultiplo(50,3) devuelve False."
    },
    {
      "metadata": {
        "trusted": true
      },
      "cell_type": "code",
      "source": "#Ejercicio 6: Devolver True si el número entero recibido como primer parámetro es múltiplo\n#del segundo, o False en caso contrario. Ejemplo: esmultiplo(40,8) devuelve True\n#y esmultiplo(50,3) devuelve False.\n\ndef multiplo(a, b):\n    if a >= b:\n        if a%b == 0:\n            multi = True\n        else:\n            multi = False\n    else:\n        if b%a == 0:\n            multi = True\n        else:\n            multi = False\n    print(\"multiplo del numero: \",multi)\n\n#La funcion no necesita return porque imprime dentro el resultado, \n#si el valor de multi fuera necesario en el programa principal, tendria que usar: return multi\n        \n#Programa Principal\nx = int(input(\"ingrese el primer numero: \"))\ny = int(input(\"ingrese el segundo numero: \"))\nmultiplo(x, y)\n",
      "execution_count": 48,
      "outputs": [
        {
          "output_type": "stream",
          "name": "stdout",
          "text": "ingrese el primer numero: 5\ningrese el segundo numero: 4\nmultiplo del numero:  False\n"
        }
      ]
    },
    {
      "metadata": {},
      "cell_type": "markdown",
      "source": "Ejercicio 7: Dado un número entero, calcular su factorial. Ejemplo: fact(4) = 4 x 3 x 2 x 1 = 24."
    },
    {
      "metadata": {
        "trusted": true
      },
      "cell_type": "code",
      "source": "#Ejercicio 7: Dado un número entero, calcular su factorial. Ejemplo: fact(4) = 4*3*2*1 = 24.\n\ndef fact(x):\n    y = 1\n    while x > 0:\n        y = y * x\n        x = x - 1\n    print(\"el factorial es: \",y)\n\n\n#programa principal\na = int(input(\"ingrese el numero: \"))\nresultado = fact(a)\n\n",
      "execution_count": 36,
      "outputs": [
        {
          "output_type": "stream",
          "name": "stdout",
          "text": "ingrese el numero: 7\nel factorial es:  5040\n"
        }
      ]
    },
    {
      "metadata": {},
      "cell_type": "markdown",
      "source": "Ejercicio 8: Calcular el Máximo Común Divisor de dos enteros no negativos, basándose en\nlas siguientes fórmulas matemáticas:\n· MCD(X,X) = X\n\n· MCD(X,Y) = MCD(Y,X)\n\n· Si X > Y ==> MCD(X,Y) = MCD(X-Y,Y).\nEjemplo: MCD(40,15) devuelve 5.\n"
    },
    {
      "metadata": {
        "trusted": true
      },
      "cell_type": "code",
      "source": "#Ejercicio 8: Calcular el Máximo Común Divisor de dos enteros no negativos, basándose en\n#las siguientes fórmulas matemáticas:\n#· MCD(X,X) = X\n#· MCD(X,Y) = MCD(Y,X)\n#· Si X > Y => MCD(X,Y) = MCD(X-Y,Y).\n#Ejemplo: MCD(40,15) devuelve 5.\n\ndef mcd(x,y):\n    if x > y:\n        r = x%y\n        while r != 0:\n            x = y\n            y = r\n            r = x%y\n        print(y)\n    else:\n        r = y%x\n        while r != 0:\n           y = x\n           x = r\n           r = y%x\n        print(x)      \n    return\n\n#prog principal\na = int(input(\"ingrese el primer numero: \"))\nb = int(input(\"ingrese el segundo numero: \"))\nmcd(a,b)",
      "execution_count": 49,
      "outputs": [
        {
          "output_type": "stream",
          "name": "stdout",
          "text": "ingrese el primer numero: 40\ningrese el segundo numero: 15\n5\n"
        }
      ]
    },
    {
      "metadata": {},
      "cell_type": "markdown",
      "source": "Ejercicio 9: Desarrollar la función signo(n), que reciba un número entero y devuelva un 1, -1\no 0 según el valor recibido sea positivo, negativo o nulo."
    },
    {
      "metadata": {
        "trusted": true
      },
      "cell_type": "code",
      "source": "#Ejercicio 9: Desarrollar la función signo(n), que reciba un número entero y devuelva un 1, -1\n#o 0 según el valor recibido sea positivo, negativo o nulo.\n\ndef signo(x):\n    if x > 0:\n        print(\"1\")\n    elif x == 0:\n        print(\"0\")\n    else:\n        print(\"-1\")\n    return\n    \n#prog principal\na = int(input(\"ingrese el numero entero:\"))\nresultado = signo(a)",
      "execution_count": 50,
      "outputs": [
        {
          "output_type": "stream",
          "name": "stdout",
          "text": "ingrese el numero entero:4\n1\n"
        }
      ]
    },
    {
      "metadata": {},
      "cell_type": "markdown",
      "source": "Ejercicio 10: Escribir la función comparar(a,b) que reciba como parámetros dos números\nenteros y devuelva 1 si el primero es mayor que el segundo, 0 si son iguales o -1\nsi el primero es menor que el segundo. Ejemplo: comparar(4,2) devuelve 1, y\ncomparar(2,4) devuelve -1.\n"
    },
    {
      "metadata": {
        "trusted": true
      },
      "cell_type": "code",
      "source": "#Ejercicio 10: Escribir la función comparar(a,b) que reciba como parámetros dos números\n#enteros y devuelva 1 si el primero es mayor que el segundo, 0 si son iguales o -1\n#si el primero es menor que el segundo. Ejemplo: comparar(4,2) devuelve 1, y\n#comparar(2,4) devuelve -1.\n\ndef comparar(a, b):\n    if a > b:\n        print(\"1\")\n    elif a == b:\n        print(\"0\")    \n    else:\n        print(\"-1\")\n    return\n    \nx = int(input(\"ingrese el primer numero\"))\ny = int(input(\"ingrese el segundo numero\"))\ncomparar(x, y)\n    ",
      "execution_count": 51,
      "outputs": [
        {
          "output_type": "stream",
          "name": "stdout",
          "text": "ingrese el primer numero6\ningrese el segundo numero3\n1\n"
        }
      ]
    },
    {
      "metadata": {},
      "cell_type": "markdown",
      "source": "Ejercicio 11: Adaptar el programa que utiliza la fórmula de Newton para calcular la raíz cuadrada de un número positivo N (de la práctica anterior) para que trabaje como\nuna función."
    },
    {
      "metadata": {
        "trusted": true
      },
      "cell_type": "code",
      "source": "def newton(a):\n    raizcuadrada=a**(1/2)\n    return raizcuadrada\n\nnum1=int(input(\"ingrese un numero \"))\nresultado=newton(num1)\nprint(\"la raiz cuadrada es %.2f\"%resultado)",
      "execution_count": null,
      "outputs": []
    },
    {
      "metadata": {},
      "cell_type": "markdown",
      "source": "Ejercicio 12: Extraer un dígito de un número entero. La función recibe como parámetros dos\nnúmeros enteros, uno será del que se extraiga el dígito y el otro indica qué cifra\nse desea obtener. La cifra de la derecha se considera la número 0. Retornar el\nvalor -1 si no existe el dígito solicitado. Ejemplo: extraerdigito(12345,1) devuelve 4, y extraerdigito(12345,8) devuelve -1.\n"
    },
    {
      "metadata": {
        "trusted": true
      },
      "cell_type": "code",
      "source": "#Ejercicio 12: Extraer un dígito de un número entero.\n#La función recibe como parámetros dos números enteros,\n#uno será del que se extraiga el dígito\n#y el otro indica qué cifra se desea obtener.\n#La cifra de la derecha se considera la número 0.\n#Retornar el valor -1 si no existe el dígito solicitado.\n#Ejemplo: extraerdigito(12345,1) devuelve 4, y extraerdigito(12345,8) devuelve -1.\n\ndef extraerdig(x, y):\n    if x > y:\n        numa = int(x*(10**-(y-1)))\n        print(numa)\n        numb = int(x*(10**-(y)))*10\n        print(numb)\n        final = numa -numb\n        if final == 0:\n            print(\"-1\")\n        else:\n            print(final)    \n    else:\n        print(\"-1\")       \n    return\n    \n#programa principal    \na = int(input(\"ingrese el numero original: \"))\nb = int(input(\"indique el digito se desea obtener,de derecha a izquierda: \"))\nextraerdig(a, b)",
      "execution_count": 57,
      "outputs": [
        {
          "output_type": "stream",
          "name": "stdout",
          "text": "ingrese el numero original: 1234567\nindique el digito se desea obtener,de derecha a izquierda: 2\n123456\n123450\n6\n"
        }
      ]
    },
    {
      "metadata": {},
      "cell_type": "markdown",
      "source": "Ejercicio 13: Devolver los últimos N dígitos de un número entero pasado como parámetro. El\nvalor de N también debe ser pasado como parámetro. Devolver el número completo si N es demasiado grande. Ejemplo: ultimosdigitos(12345,3) devuelve 345,\ny ultimosdigitos(12345,8) devuelve 12345."
    },
    {
      "metadata": {
        "trusted": true
      },
      "cell_type": "code",
      "source": "#Ejercicio 13: Devolver los últimos N dígitos de un número entero pasado como parámetro. El\n#valor de N también debe ser pasado como parámetro. Devolver el número completo\n#si N es demasiado grande. Ejemplo: ultimosdigitos(12345,3) devuelve 345,\n#y ultimosdigitos(12345,8) devuelve 12345.\n\ndef ultimosdisgitos(x, y):\n    if x >= y:\n        ultimos = \"\"\n        while y > 0:\n            numa = int(x*(10**-(y-1)))\n            numb = int(x*(10**-(y)))*10\n            final = numa - numb\n            anterior = str(final)\n            ultimos = ultimos + anterior\n            y = y - 1\n        print(\"los ultimos numeros son:\", ultimos)\n    else:\n        print(x)\n    \na = int(input(\"ingrese el numero original: \"))\nb = int(input(\"ingrese la cantidad de ultimos digitos: \"))\nultimosdisgitos(a, b)",
      "execution_count": 1,
      "outputs": [
        {
          "output_type": "stream",
          "name": "stdout",
          "text": "ingrese el numero original: 23423\ningrese la cantidad de ultimos digitos: 2\nlos ultimos numeros son: 23\n"
        }
      ]
    },
    {
      "metadata": {},
      "cell_type": "markdown",
      "source": "Ejercicio 14: Obtener el dígito central de un número entero pasado como parámetro, sólo si la\ncantidad de dígitos es impar. Si la longitud fuera par devolver -1. Ejemplo:\ndigitocentral(12345) devuelve 3, y digitocentral(123456) devuelve -1.\n"
    },
    {
      "metadata": {
        "trusted": true
      },
      "cell_type": "code",
      "source": "#Ejercicio 14: Obtener el dígito central de un número entero pasado como parámetro, sólo si la\n#cantidad de dígitos es impar. Si la longitud fuera par devolver -1. Ejemplo:\n#digitocentral(12345) devuelve 3, y digitocentral(123456) devuelve -1.\n\ndef digitocentral(x):\n#para contar la cantidad total de digitos\n    count = 1\n    qdig = int(x/10)\n    while qdig > 0:\n       qdig = int(qdig/10)\n       count = count + 1\n    print(\"cantidad total de digitos: \", count)\n#verifico si la cantidad de digitos es par\n    if count%2 != 0:        \n#para encontrar el digito central       \n        central = int(count/2)+1\n        print(\"digito central\", central)\n\n#para mostrar el numero ubicado en el digito central\n        numa = int(x*(10**-(central-1)))\n        numb = int(x*(10**-(central)))*10\n        final = numa - numb\n        print(\"numero ubicado en el central: \", final)\n    else:\n        print(\"-1\")\n    return\n\n#programa principal\na = int(input(\"ingrese el numero: \"))\ndigitocentral(a)",
      "execution_count": 62,
      "outputs": [
        {
          "output_type": "stream",
          "name": "stdout",
          "text": "ingrese el numero: 1232123\ncantidad total de digitos:  7\ndigito central 4\nnumero ubicado en el central:  2\n"
        }
      ]
    },
    {
      "metadata": {},
      "cell_type": "markdown",
      "source": "Ejercicio 15: Escribir una función que reciba como parámetros dos números enteros y devuelva la concatenación de ambos. \nPor ejemplo concatenar(123,456) devuelve 123456.\n"
    },
    {
      "metadata": {
        "trusted": true
      },
      "cell_type": "code",
      "source": "#Ejercicio 15: Escribir una función que reciba como parámetros dos números enteros y devuelva\n#la concatenación de ambos. Por ejemplo concatenar(123,456) devuelve\n#123456.\n\ndef concatenanum(x, y):\n    concatenado = int(str(x) + str(y))\n    print(concatenado)\n    return\n\n#programa principal\na = int(input(\"ingrese el primer numero: \"))\nb = int(input(\"ingrese el segundo numero: \"))\nconcatenanum(a,b)",
      "execution_count": 63,
      "outputs": [
        {
          "output_type": "stream",
          "name": "stdout",
          "text": "ingrese el primer numero: 123\ningrese el segundo numero: 321\n123321\n"
        }
      ]
    },
    {
      "metadata": {},
      "cell_type": "markdown",
      "source": "Ejercicio 16: Realizar una función que calcule y devuelva la sumatoria de los términos de la\nsucesión de Fibonacci entre dos números de término dados, los que se reciben\ncomo parámetros."
    },
    {
      "metadata": {
        "trusted": true
      },
      "cell_type": "code",
      "source": "#Ejercicio 16: Realizar una función que calcule y devuelva la sumatoria de los términos de la\n#sucesión de Fibonacci entre dos números de término dados, los que se reciben\n#como parámetros.\n\ndef fib(li, ls):\n    x = li \n    y = li + 1\n    z = li + y\n    print(x)\n    print(y)\n    while x >= li and z <= ls:\n        x = y\n        y = z\n        z = x + y\n        print(y)\n    return\n\n\n#programa principal\na = int(input(\"Ingrese el limite inferior de la serie: \"))\nb = int(input(\"Ingrese el limite superior de la serie: \"))\nfib(a, b)",
      "execution_count": 65,
      "outputs": [
        {
          "output_type": "stream",
          "name": "stdout",
          "text": "Ingrese el limite inferior de la serie: 1\nIngrese el limite superior de la serie: 200\n1\n2\n3\n5\n8\n13\n21\n34\n55\n89\n144\n"
        }
      ]
    },
    {
      "metadata": {
        "trusted": true
      },
      "cell_type": "code",
      "source": "",
      "execution_count": null,
      "outputs": []
    }
  ],
  "metadata": {
    "kernelspec": {
      "name": "python36",
      "display_name": "Python 3.6",
      "language": "python"
    },
    "language_info": {
      "mimetype": "text/x-python",
      "nbconvert_exporter": "python",
      "name": "python",
      "pygments_lexer": "ipython3",
      "version": "3.6.6",
      "file_extension": ".py",
      "codemirror_mode": {
        "version": 3,
        "name": "ipython"
      }
    }
  },
  "nbformat": 4,
  "nbformat_minor": 2
}