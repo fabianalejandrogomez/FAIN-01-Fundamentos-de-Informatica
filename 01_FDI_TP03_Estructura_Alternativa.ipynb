{
  "cells": [
    {
      "metadata": {},
      "cell_type": "markdown",
      "source": "# FACULTAD DE INGENIERÍA Y CIENCIAS EXACTAS\nDepartamento de Tecnología Informática\nFundamentos de Informática"
    },
    {
      "metadata": {},
      "cell_type": "markdown",
      "source": "# Trabajo Práctico 3: Estructura alternativa"
    },
    {
      "metadata": {},
      "cell_type": "raw",
      "source": "Ejercicio 1: Ingresar dos números A y B e imprimir el mayor, o cualquiera si son iguales."
    },
    {
      "metadata": {
        "trusted": false
      },
      "cell_type": "code",
      "source": "numA = int(input(\"ingrese el primer numero\"))\nnumB = int(input(\"ingrese el segundo numero\"))\nif numA > numB:\n    print(\"el numero mayor es:\",numA)\nelif numA == numB:\n    print(\"ambos son iguales:\",numA)\nelse:\n    print(\"el numero mayor es:\",numB)",
      "execution_count": 38,
      "outputs": [
        {
          "name": "stdout",
          "output_type": "stream",
          "text": "ingrese el primer numero22\ningrese el segundo numero22\nambos son iguales: 22\n"
        }
      ]
    },
    {
      "metadata": {},
      "cell_type": "raw",
      "source": "Ejercicio 2: Leer un número entero A e imprimir un mensaje indicando si es par o impar."
    },
    {
      "metadata": {
        "trusted": false
      },
      "cell_type": "code",
      "source": "numero = int(input(\"ingrese el numero entero: \"))\nif (numero%2) == 0:\n    print(\"el numero es par:\",numero)\nelse:\n    print(\"el numero es impar:\",numero)",
      "execution_count": 37,
      "outputs": [
        {
          "name": "stdout",
          "output_type": "stream",
          "text": "ingrese el numero entero: 24\nel numero es par: 24\n"
        }
      ]
    },
    {
      "metadata": {},
      "cell_type": "raw",
      "source": "Ejercicio 3: \nLeer un número entero N y determinar si es un número natural (positivo y distinto de 0). Si lo es, imprimirlo"
    },
    {
      "metadata": {
        "trusted": false
      },
      "cell_type": "code",
      "source": "numero = int(input(\"ingrese el numero entero: \"))\nif (numero) > 0:\n    print(\"es un número natural (positivo y distinto de 0:)\",numero)\nelse:\n     print(\"no es un número natural:\",numero)",
      "execution_count": 41,
      "outputs": [
        {
          "name": "stdout",
          "output_type": "stream",
          "text": "ingrese el numero entero: -21\nno es un número natural: -21\n"
        }
      ]
    },
    {
      "metadata": {},
      "cell_type": "raw",
      "source": "Ejercicio 4: \n\nIngresar dos números enteros A y B. Desarrollar un programa que determine si A es múltiplo de B y si B es múltiplo de A. \nImprimir mensajes aclaratorios."
    },
    {
      "metadata": {
        "trusted": false
      },
      "cell_type": "code",
      "source": "numA = int(input(\"ingrese el primer numero\"))\nnumB = int(input(\"ingrese el segundo numero\"))\n\nif (numA%numB)==0:\n    print(\"el numero\", numA, \"es multiplo de\", numB)\nelif (numB%numA)==0:\n    print(\"el numero\", numB, \"es multiplo de\", numA)\nelse:\n    print(\"los numeros\",numA,\"y\",numB,\"no son multiplos\")\n          ",
      "execution_count": 1,
      "outputs": [
        {
          "name": "stdout",
          "output_type": "stream",
          "text": "ingrese el primer numero12\ningrese el segundo numero6\nel numero 12 es multiplo de 6\n"
        }
      ]
    },
    {
      "metadata": {},
      "cell_type": "raw",
      "source": "Ejercicio 5: \n\nDesarrollar un programa para leer la base y la altura de un triángulo e imprimir su superficie. \n\nEl algoritmo debe validar los datos de entrada, verificando que éstos sean números positivos. \n\nEn caso contrario debe imprimirse el dato erróneo junto con una leyenda aclaratoria. \n\nSe recuerda que Sup = (Base * Altura) / 2."
    },
    {
      "metadata": {
        "trusted": false
      },
      "cell_type": "code",
      "source": "base = int(input(\"ingrese la base del triangulo: \"))\naltura = int(input(\"ingrese la altura del triangulo: \"))\n\nif base > 0:\n    if altura > 0:\n        sup = ((base * altura) / 2)\n        print(\"la superficie del triangulo es:\",sup)\n    else:\n        print(\"el valor de la altura no es positivo\")\nelse:\n    print(\"el valor de la base no es positivo\")      ",
      "execution_count": 17,
      "outputs": [
        {
          "name": "stdout",
          "output_type": "stream",
          "text": "ingrese la base del triangulo: 23\ningrese la altura del triangulo: 34\nla superficie del triangulo es: 391.0\n"
        }
      ]
    },
    {
      "metadata": {},
      "cell_type": "raw",
      "source": "Ejercicio 6: \nUna editorial determina el precio de un libro según la cantidad de páginas que contiene. \n\nEl costo básico del libro es de $125, más $2,20 por página con encuadernación rústica. \n\nSi el número de páginas supera las 300 la encuadernación debe ser en tela, lo que incrementa el costo en $80. \n\nAdemás, si el número de páginas sobrepasa las 600 se hace necesario un procedimiento especial de encuadernación\nque incrementa el costo en $136. \n\nDesarrollar un programa que calcule el costo de un libro dado el número de páginas."
    },
    {
      "metadata": {
        "trusted": false
      },
      "cell_type": "code",
      "source": "paginas = int(input(\"ingrese la cantidad de paginas: \"))\nvalor = 125\nif paginas > 300:\n    if paginas > 600:\n        valor = valor + paginas * 2.2 + 80 + 136\n    else:\n        valor = valor + paginas * 2.2 + 80\nelse:\n    valor = valor + paginas * 2.2\nprint(\"el precio de libro es: $\", valor)",
      "execution_count": 16,
      "outputs": [
        {
          "name": "stdout",
          "output_type": "stream",
          "text": "ingrese la cantidad de paginas: 301\nel precio de libro es: $ 867.2\n"
        }
      ]
    },
    {
      "metadata": {},
      "cell_type": "raw",
      "source": "Ejercicio 7: \n\nUna empresa aplica el siguiente procedimiento en la comercialización de sus productos:\n\n· Aplica el precio base a la primera docena de unidades.\n· Aplica un 10% de descuento a todas las unidades entre 13 y 100.\n· Aplica un 25% de descuento a todas las unidades por encima de las 100.\n\nPor ejemplo, supongamos que vende 230 unidades de un producto cuyo precio\nbase es 100. \n\nEl cálculo resultante sería: 100 * 12 + 90 * 88 + 75 * 130 = 18870, y el precio promedio será 18870 / 230 = 82,04\n\nDesarrollar un programa que lea la cantidad solicitada de un producto y su precio base, e imprima el valor total de la venta y el precio promedio."
    },
    {
      "metadata": {
        "trusted": false
      },
      "cell_type": "code",
      "source": "unidades = int(input(\"ingrese la cantidad de unidades: \"))\nvalor = int(input(\"ingrese el precio base: \"))\nif unidades > 12: \n    if unidades <= 100:\n        valor = 12 * valor + (unidades-12) * valor * 0.9\n    else:\n        valor = 12 * valor + 88 * valor * 0.9 + (unidades-100) * valor * 0.75 \nelse:\n    valor = 12 * valor\npromedio = valor / unidades\nprint(\"el valor total de la venta es: $\", valor, \"el precio promedio de la venta es:\", promedio)",
      "execution_count": 30,
      "outputs": [
        {
          "name": "stdout",
          "output_type": "stream",
          "text": "ingrese la cantidad de unidades: 200\ningrese el precio base: 100\nel valor total de la venta es: $ 16620.0 el precio promedio de la venta es: 83.1\n"
        }
      ]
    },
    {
      "metadata": {},
      "cell_type": "raw",
      "source": "Ejercicio 8: \nUna empresa factura a sus clientes el último día de cada mes. \n\nSi el cliente paga su factura dentro de los primeros 10 días del mes siguiente, tiene un descuento\nde $120 o del 2% de la factura, lo que resulte menor. \n\nSi paga en los siguientes 10 días del mes deberá pagar el importe original de la factura, mientras que si\npaga después del día 20 deberá abonar una multa de $150 o del 10% de su factura,\nlo que resulte mayor. \n\nDesarrolle un programa que lea el número del cliente y el total de la factura, y emita un informe donde conste el número del cliente y los tres importes que podrá abonar según la fecha de pago."
    },
    {
      "metadata": {
        "trusted": false
      },
      "cell_type": "code",
      "source": "cliente = int(input(\"ingrese el numero de cliente:\"))\nfactura = int(input(\"ingrese el monto de la factura:\"))\nprint(\"el cliente:\", cliente)\n\n\n\nif (factura - 120) > (factura * 0.98):\n    primeros10 = (factura - 120)\nelse:\n    primeros10 = (factura * 0.98)\n\nif primeros10 > 0:\n    print(\"debera pagar una factura de $\",primeros10, \"desde el dia 1 al 10 del mes\")\nelse:\n    print(\"debera pagar una factura de $ 0 desde el dia 1 al 10 del mes\")\n\n\nprint(\"debera pagar una factura de $\",factura, \"desde el dia 11 al 20 del mes\")\n\n\nif (factura + 150) > (factura * 1.1):\n    despuesde20 = (factura + 150) \nelse:\n    despuesde20 = (factura * 1.1)\n\nif despuesde20 > 0: \n    print(\"debera pagar una factura de $\",despuesde20, \"desde el dia 21 del mes\")\nelse:\n    print(\"debera pagar una factura de $ 0 desde el dia 21 del mes\")",
      "execution_count": 9,
      "outputs": [
        {
          "name": "stdout",
          "output_type": "stream",
          "text": "ingrese el numero de cliente:1\ningrese el monto de la factura:1000000\nel cliente: 1\ndebera pagar una factura de $ 999880 desde el dia 1 al 10 del mes\ndebera pagar una factura de $ 1000000 desde el dia 11 al 20 del mes\ndebera pagar una factura de $ 1100000.0 desde el dia 21 del mes\n"
        }
      ]
    },
    {
      "metadata": {},
      "cell_type": "raw",
      "source": "Ejercicio 9: \nLeer un número correspondiente a un año e imprimir un mensaje indicando si es bisiesto o no. \n\nSe recuerda que un año es bisiesto cuando es divisible por 4. \n\nSin embargo, aquellos años que sean divisibles por 4 y también por 100 no son bisiestos, a menos que también sean divisibles por 400. \n\nPor ejemplo, 1900 no fue bisiesto pero sí el 2000."
    },
    {
      "metadata": {
        "trusted": false
      },
      "cell_type": "code",
      "source": "año = int(input(\"ingrese el año:\"))\n\n\nif año%4 == 0:\n    if año%100 == 0:\n        if año%400 ==0:\n            print(\"el año:\",año,\"es bisiesto\")\n        else:\n            print(\"el año:\",año,\"no es bisiesto\")    \n    else:\n         print(\"el año:\",año,\"es bisiesto\")\nelse:\n    print(\"el año:\",año,\"no es bisiesto\")\n\n",
      "execution_count": 24,
      "outputs": [
        {
          "name": "stdout",
          "output_type": "stream",
          "text": "ingrese el año:2200\nel año: 2200 no es bisiesto\n"
        }
      ]
    },
    {
      "metadata": {},
      "cell_type": "raw",
      "source": "Ejercicio 10: \nDesarrollar un programa para leer las longitudes de los tres lados de un triángulo\nL1, L2, L3 y determinar qué tipo de triángulo es según la siguiente clasificación:\n\n· Si A >= B + C no se trata de un triángulo.\n· Si A² = B² + C² se trata de un triángulo rectángulo.\n· Si A² > B² + C² se trata de un triángulo obtusángulo.\n· Si A² < B² + C² se trata de un triángulo acutángulo.\n\nTener en cuenta que A denota el mayor de los lados L1, L2 y L3, mientras que B y C corresponden a los dos lados restantes."
    },
    {
      "metadata": {
        "trusted": false
      },
      "cell_type": "code",
      "source": "lado1 = int(input(\"ingrese uno de los lados:\"))\nlado2 = int(input(\"ingrese uno de los lados:\"))\nlado3 = int(input(\"ingrese uno de los lados:\"))\n\nif (lado1 > lado2) and (lado1 > lado3):\n    a = lado1\n    b = lado2\n    c = lado3\nelse:\n    if (lado2 > lado1) and (lado2> lado3):\n        a = lado2\n        b = lado1\n        c = lado3\n    else:\n        a = lado3\n        b = lado2\n        c = lado1\n\nprint(\"a=\",a,\"b=\",b,\"c=\",c)\n        \n        \nif a >= (b + c):\n    print(\"no se trata de un triangulo\")\nelse:    \n    if (a**2) == (b**2 + c**2):\n        print(\"se trata de un triangulo rectangulo\")\n    else:\n        if (a**2) > (b**2 + c**2):\n            print(\"se trata de un triangulo obtusangulo\")\n        else:\n            print(\"se trata de un triangulo acutangulo\")\n\n\n\n\n",
      "execution_count": 39,
      "outputs": [
        {
          "name": "stdout",
          "output_type": "stream",
          "text": "ingrese uno de los lados:12\ningrese uno de los lados:14\ningrese uno de los lados:18\na= 18 b= 14 c= 12\nse trata de un triangulo acutangulo\n"
        }
      ]
    },
    {
      "metadata": {},
      "cell_type": "raw",
      "source": "Ejercicio 11: \nLa fecha de Pascua para un año cualquiera X puede determinarse mediante el siguiente algoritmo:\n\n· Calcular el resto de dividir X sobre 19 y llamarlo A.\n· Calcular el resto de dividir X sobre 4 y llamarlo B.\n· Calcular el resto de dividir X sobre 7 y llamarlo C.\n· Multiplicar A por 19, sumarle 24 y calcular el resto de dividir este resultado por 30. \n  Este resto recibirá el nombre D.\n· Multiplicar B por 2, C por 4 y D por 6. Sumar los tres resultados y sumarle 5. \n  Calcular el resto de dividir este último resultado por 7 y llamarlo E.\n· La fecha de Pascua se obtiene sumando los valores D y E, más la constante 22.\n\n· El resultado se expresa como una fecha dentro del mes de Marzo. \n\nSi el número es mayor que 31, entonces ese año Pascua se celebrará en el mes de Abril. \n\nEjemplo: Un resultado 35 significa que Pascua cae el 4 de Abril (35 menos los 31 días del mes de Marzo es igual a 4).\n\nPreparar un programa que permita ingresar el año y calcule la fecha de Pascua."
    },
    {
      "metadata": {
        "trusted": false
      },
      "cell_type": "code",
      "source": "año = int(input(\"ingrese el año:\"))\na = año % 19\nb = año % 4\nc = año % 7\nd = ((a * 19) + 24) % 30 \ne = ((b * 2 + c * 4 + d * 6) + 5 ) % 7\npascua = d + e + 22\n\nif pascua > 31:\n    pascuaabril = pascua - 31\n    print (\"la fecha de pascua es\",pascuaabril,\"de abril de\",año)\nelse:\n    print (\"la fecha de pascua es\",pascua,\"de marzo de\",año)\n",
      "execution_count": 12,
      "outputs": [
        {
          "name": "stdout",
          "output_type": "stream",
          "text": "ingrese el año:2019\nla fecha de pascua es 21 de abril de 2019\n"
        }
      ]
    },
    {
      "metadata": {},
      "cell_type": "raw",
      "source": "Ejercicio 12: Leer tres números correspondientes al día, mes y año de una fecha e imprimir\nun mensaje indicando si la fecha es válida o no."
    },
    {
      "metadata": {
        "trusted": true
      },
      "cell_type": "code",
      "source": "dia = int(input(\"ingrese el dia:\"))\nmes = int(input(\"ingrese el mes:\"))\naño = int(input(\"ingrese el año:\"))\n\n\nif mes in (1, 3, 5, 7, 8, 10, 12):\n    tipomes = 31\n    if dia > tipomes:\n        print (\"la fecha es incorrecta\")\n    else:\n        print(\"la fecha es:\",dia,mes,año)\nelif mes in (4, 6, 9, 11):\n    tipomes= 30\n    if dia > tipomes: \n            print (\"la fecha es incorrecta\")\n    else: \n        print(\"la fecha es:\",dia,mes,año)\nelse:\n    if año%4 == 0:\n        if año%100 == 0:\n            if año%400 ==0:\n                tipomes = 29\n                if dia > tipomes: \n                    print (\"la fecha es incorrecta\")\n                else:\n                    print(\"la fecha es:\",dia,mes,año)\n            else:\n                tipomes = 28    \n                if dia > tipomes: \n                    print (\"la fecha es incorrecta\")\n                else:\n                    print(\"la fecha es:\",dia,mes,año)\n        else:\n            tipomes = 29\n            if dia > tipomes: \n                print (\"la fecha es incorrecta\")\n            else:\n                print(\"la fecha es:\",dia,mes,año)\n    else:\n        tipomes = 28\n        if dia > tipomes:\n            print (\"la fecha es incorrecta\")\n        else:\n            print(\"la fecha es:\",dia,mes,año)\n\n\n",
      "execution_count": 1,
      "outputs": [
        {
          "output_type": "stream",
          "name": "stdout",
          "text": "ingrese el dia:29\ningrese el mes:02\ningrese el año:1900\nla fecha es incorrecta\n"
        }
      ]
    },
    {
      "metadata": {
        "trusted": true
      },
      "cell_type": "code",
      "source": "dia = int(input(\"ingrese el numero de dia\"))\nmes = int(input(\"ingrese el numero de mes\"))\nanio = int(input(\"ingrese el año, con cuatro cifras\"))\n\nif mes in (1, 3, 5, 7, 8, 10, 12):\n    if 31 >= dia >=1:\n        print(\"la fecha es correcta\")\n    else:(\"la fecha es incorrecta\")\n    \nelif mes in (4, 6, 9, 11):\n    if 30 >= dia >=1:\n        print(\"la fecha es correcta\")\n    else:(\"la fecha es incorrecta\")\nelse:    \n    if ((anio%4 == 0 and anio%100 == 0 and anio%400 == 0) and (dia == 28 or dia == 29)):\n        print(\"la fecha es correcta\")\n    else:\n        print(\"la fecha es incorrecta\")",
      "execution_count": 2,
      "outputs": [
        {
          "output_type": "stream",
          "name": "stdout",
          "text": "ingrese el numero de dia29\ningrese el numero de mes02\ningrese el año, con cuatro cifras2000\nla fecha es correcta\n"
        }
      ]
    },
    {
      "metadata": {},
      "cell_type": "raw",
      "source": "Ejercicio 13: \n\nDiseñar un programa que calcule y muestre el sueldo neto de un empleado en base a su sueldo básico y su antigüedad en años. \n\nSi es soltero se le incrementa el sueldo en 5% del salario bruto por cada año de antigüedad,\nmientras que si es casado se le incrementa el sueldo en 7% del bruto por cada año de antigüedad.\n\nTambién se le realizan los siguientes descuentos: Jubilación: 11%, Obra Social: 3%, Sindicato: 3%\n\nComo datos de entrada se ingresa por teclado el sueldo básico, antigüedad y estado civil (‘s’ o ‘c’). \n\nSe debe informar: (reemplazar los 9 por los valores que correspondan)\n\nEstado Civil: Soltero/Casado\n\nSueldo básico $ 999.99\n\nAntigüedad 99 años\n\nImporte + 999.99\nJubilación - 999,99\nObra Social - 999,99\nSindicato - 999,99\n------------\nSueldo Neto 999,99"
    },
    {
      "metadata": {
        "trusted": false
      },
      "cell_type": "code",
      "source": "sueldo = int(input(\"ingrese el sueldo basico:\"))\nantiguedad = int(input(\"ingrese la antiguedad:\"))\nestado = (input(\"ingrese el estado civil (c=casado, s=soltero):\"))\n\njubilacion = sueldo * 0.11\nobrasocial = sueldo * 0.03\nsindicato = sueldo * 0.03\n\nif estado == \"c\":\n    estadocivil = \"casado\"\n    importe = sueldo + sueldo * 0.07 * antiguedad\nelse:\n    estadocivil = \"soltero\"    \n    importe = sueldo + sueldo * 0.05 * antiguedad\n\nsueldoneto = importe - jubilacion - obrasocial - sindicato\n\nprint(\"Recibo de Sueldo\")\nprint(\"estado civil:\", estadocivil)\nprint(\"antiguedad:\",antiguedad,\"años\")\nprint(\"Sueldo básico $:\", sueldo)\nprint(\"------------\")\nprint(\"Importe $:\", importe)\nprint(\"Jubilación $:\",\"-\", jubilacion)\nprint(\"Obra Social $:\",\"-\", obrasocial)\nprint(\"Sindicato $:\",\"-\", sindicato)\nprint(\"------------\")\nprint(\"Sueldo Neto $:\",\"-\", sueldoneto)\n    \n    ",
      "execution_count": 21,
      "outputs": [
        {
          "name": "stdout",
          "output_type": "stream",
          "text": "ingrese el sueldo basico:20000\ningrese la antiguedad:1\ningrese el estado civil (c=casado, s=soltero):s\nRecibo de Sueldo\nestado civil: soltero\nantiguedad: 1 años\nSueldo básico $: 20000\n------------\nImporte $: 21000.0\nJubilación $: - 2200.0\nObra Social $: - 600.0\nSindicato $: - 600.0\n------------\nSueldo Neto - 17600.0\n"
        }
      ]
    }
  ],
  "metadata": {
    "kernelspec": {
      "name": "python3",
      "display_name": "Python 3",
      "language": "python"
    },
    "language_info": {
      "mimetype": "text/x-python",
      "nbconvert_exporter": "python",
      "name": "python",
      "file_extension": ".py",
      "version": "3.5.4",
      "pygments_lexer": "ipython3",
      "codemirror_mode": {
        "version": 3,
        "name": "ipython"
      }
    }
  },
  "nbformat": 4,
  "nbformat_minor": 2
}